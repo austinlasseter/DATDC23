{
 "cells": [
  {
   "cell_type": "markdown",
   "metadata": {},
   "source": [
    "# Natural Language Processing (NLP)"
   ]
  },
  {
   "cell_type": "markdown",
   "metadata": {},
   "source": [
    "# Setup - install textblob\n",
    "\n",
    "## pip install textblob\n",
    "\n",
    "## python -m textblob.download_corpora\n"
   ]
  },
  {
   "cell_type": "markdown",
   "metadata": {},
   "source": [
    "http://textblob.readthedocs.io/en/dev/"
   ]
  },
  {
   "cell_type": "code",
   "execution_count": null,
   "metadata": {
    "collapsed": false
   },
   "outputs": [],
   "source": []
  },
  {
   "cell_type": "markdown",
   "metadata": {},
   "source": [
    "## Part 1: Reading in the Yelp Reviews"
   ]
  },
  {
   "cell_type": "markdown",
   "metadata": {},
   "source": [
    "- \"corpus\" = collection of documents\n",
    "- \"corpora\" = plural form of corpus"
   ]
  },
  {
   "cell_type": "code",
<<<<<<< HEAD
   "execution_count": 1,
   "metadata": {},
=======
   "execution_count": 4,
   "metadata": {
    "collapsed": false
   },
>>>>>>> bbddb7b909690de166baff30ab064619561f0ab8
   "outputs": [],
   "source": [
    "import pandas as pd\n",
    "import numpy as np\n",
    "import scipy as sp\n",
    "from sklearn.model_selection import train_test_split\n",
    "from sklearn.feature_extraction.text import CountVectorizer, TfidfVectorizer\n",
    "from sklearn.naive_bayes import MultinomialNB\n",
    "from sklearn.linear_model import LogisticRegression\n",
    "from sklearn import metrics\n",
    "from textblob import TextBlob, Word\n",
    "from nltk.stem.snowball import SnowballStemmer\n",
    "%matplotlib inline"
   ]
  },
  {
   "cell_type": "code",
<<<<<<< HEAD
   "execution_count": 2,
   "metadata": {},
=======
   "execution_count": 5,
   "metadata": {
    "collapsed": false
   },
>>>>>>> bbddb7b909690de166baff30ab064619561f0ab8
   "outputs": [],
   "source": [
    "# read yelp.csv into a DataFrame\n",
    "path = r'../../2_dataset/yelp.csv'\n",
    "yelp = pd.read_csv(path)\n",
    "\n",
    "# create a new DataFrame that only contains the 5-star and 1-star reviews\n",
    "yelp_best_worst = yelp[(yelp.stars==5) | (yelp.stars==1)]\n",
    "\n",
    "# define X and y\n",
    "X = yelp_best_worst.text\n",
    "y = yelp_best_worst.stars\n",
    "\n",
    "# split the new DataFrame into training and testing sets\n",
    "X_train, X_test, y_train, y_test = train_test_split(X, y, random_state=1)"
   ]
  },
  {
   "cell_type": "code",
   "execution_count": 3,
   "metadata": {},
   "outputs": [
    {
     "data": {
      "text/html": [
       "<div>\n",
       "<table border=\"1\" class=\"dataframe\">\n",
       "  <thead>\n",
       "    <tr style=\"text-align: right;\">\n",
       "      <th></th>\n",
       "      <th>business_id</th>\n",
       "      <th>date</th>\n",
       "      <th>review_id</th>\n",
       "      <th>stars</th>\n",
       "      <th>text</th>\n",
       "      <th>type</th>\n",
       "      <th>user_id</th>\n",
       "      <th>cool</th>\n",
       "      <th>useful</th>\n",
       "      <th>funny</th>\n",
       "    </tr>\n",
       "  </thead>\n",
       "  <tbody>\n",
       "    <tr>\n",
       "      <th>0</th>\n",
       "      <td>9yKzy9PApeiPPOUJEtnvkg</td>\n",
       "      <td>2011-01-26</td>\n",
       "      <td>fWKvX83p0-ka4JS3dc6E5A</td>\n",
       "      <td>5</td>\n",
       "      <td>My wife took me here on my birthday for breakf...</td>\n",
       "      <td>review</td>\n",
       "      <td>rLtl8ZkDX5vH5nAx9C3q5Q</td>\n",
       "      <td>2</td>\n",
       "      <td>5</td>\n",
       "      <td>0</td>\n",
       "    </tr>\n",
       "    <tr>\n",
       "      <th>1</th>\n",
       "      <td>ZRJwVLyzEJq1VAihDhYiow</td>\n",
       "      <td>2011-07-27</td>\n",
       "      <td>IjZ33sJrzXqU-0X6U8NwyA</td>\n",
       "      <td>5</td>\n",
       "      <td>I have no idea why some people give bad review...</td>\n",
       "      <td>review</td>\n",
       "      <td>0a2KyEL0d3Yb1V6aivbIuQ</td>\n",
       "      <td>0</td>\n",
       "      <td>0</td>\n",
       "      <td>0</td>\n",
       "    </tr>\n",
       "    <tr>\n",
       "      <th>2</th>\n",
       "      <td>6oRAC4uyJCsJl1X0WZpVSA</td>\n",
       "      <td>2012-06-14</td>\n",
       "      <td>IESLBzqUCLdSzSqm0eCSxQ</td>\n",
       "      <td>4</td>\n",
       "      <td>love the gyro plate. Rice is so good and I als...</td>\n",
       "      <td>review</td>\n",
       "      <td>0hT2KtfLiobPvh6cDC8JQg</td>\n",
       "      <td>0</td>\n",
       "      <td>1</td>\n",
       "      <td>0</td>\n",
       "    </tr>\n",
       "    <tr>\n",
       "      <th>3</th>\n",
       "      <td>_1QQZuf4zZOyFCvXc0o6Vg</td>\n",
       "      <td>2010-05-27</td>\n",
       "      <td>G-WvGaISbqqaMHlNnByodA</td>\n",
       "      <td>5</td>\n",
       "      <td>Rosie, Dakota, and I LOVE Chaparral Dog Park!!...</td>\n",
       "      <td>review</td>\n",
       "      <td>uZetl9T0NcROGOyFfughhg</td>\n",
       "      <td>1</td>\n",
       "      <td>2</td>\n",
       "      <td>0</td>\n",
       "    </tr>\n",
       "    <tr>\n",
       "      <th>4</th>\n",
       "      <td>6ozycU1RpktNG2-1BroVtw</td>\n",
       "      <td>2012-01-05</td>\n",
       "      <td>1uJFq2r5QfJG_6ExMRCaGw</td>\n",
       "      <td>5</td>\n",
       "      <td>General Manager Scott Petello is a good egg!!!...</td>\n",
       "      <td>review</td>\n",
       "      <td>vYmM4KTsC8ZfQBg-j5MWkw</td>\n",
       "      <td>0</td>\n",
       "      <td>0</td>\n",
       "      <td>0</td>\n",
       "    </tr>\n",
       "  </tbody>\n",
       "</table>\n",
       "</div>"
      ],
      "text/plain": [
       "              business_id        date               review_id  stars  \\\n",
       "0  9yKzy9PApeiPPOUJEtnvkg  2011-01-26  fWKvX83p0-ka4JS3dc6E5A      5   \n",
       "1  ZRJwVLyzEJq1VAihDhYiow  2011-07-27  IjZ33sJrzXqU-0X6U8NwyA      5   \n",
       "2  6oRAC4uyJCsJl1X0WZpVSA  2012-06-14  IESLBzqUCLdSzSqm0eCSxQ      4   \n",
       "3  _1QQZuf4zZOyFCvXc0o6Vg  2010-05-27  G-WvGaISbqqaMHlNnByodA      5   \n",
       "4  6ozycU1RpktNG2-1BroVtw  2012-01-05  1uJFq2r5QfJG_6ExMRCaGw      5   \n",
       "\n",
       "                                                text    type  \\\n",
       "0  My wife took me here on my birthday for breakf...  review   \n",
       "1  I have no idea why some people give bad review...  review   \n",
       "2  love the gyro plate. Rice is so good and I als...  review   \n",
       "3  Rosie, Dakota, and I LOVE Chaparral Dog Park!!...  review   \n",
       "4  General Manager Scott Petello is a good egg!!!...  review   \n",
       "\n",
       "                  user_id  cool  useful  funny  \n",
       "0  rLtl8ZkDX5vH5nAx9C3q5Q     2       5      0  \n",
       "1  0a2KyEL0d3Yb1V6aivbIuQ     0       0      0  \n",
       "2  0hT2KtfLiobPvh6cDC8JQg     0       1      0  \n",
       "3  uZetl9T0NcROGOyFfughhg     1       2      0  \n",
       "4  vYmM4KTsC8ZfQBg-j5MWkw     0       0      0  "
      ]
     },
     "execution_count": 3,
     "metadata": {},
     "output_type": "execute_result"
    }
   ],
   "source": [
    "yelp.head()"
   ]
  },
  {
   "cell_type": "markdown",
   "metadata": {},
   "source": [
    "## Part 5: Introduction to TextBlob"
   ]
  },
  {
   "cell_type": "markdown",
   "metadata": {},
   "source": [
    "TextBlob: \"Simplified Text Processing\""
   ]
  },
  {
   "cell_type": "code",
<<<<<<< HEAD
   "execution_count": 4,
   "metadata": {},
=======
   "execution_count": 6,
   "metadata": {
    "collapsed": false
   },
>>>>>>> bbddb7b909690de166baff30ab064619561f0ab8
   "outputs": [
    {
     "name": "stdout",
     "output_type": "stream",
     "text": [
      "My wife took me here on my birthday for breakfast and it was excellent.  The weather was perfect which made sitting outside overlooking their grounds an absolute pleasure.  Our waitress was excellent and our food arrived quickly on the semi-busy Saturday morning.  It looked like the place fills up pretty quickly so the earlier you get here the better.\r\n",
      "\r\n",
      "Do yourself a favor and get their Bloody Mary.  It was phenomenal and simply the best I've ever had.  I'm pretty sure they only use ingredients from their garden and blend them fresh when you order it.  It was amazing.\r\n",
      "\r\n",
      "While EVERYTHING on the menu looks excellent, I had the white truffle scrambled eggs vegetable skillet and it was tasty and delicious.  It came with 2 pieces of their griddled bread with was amazing and it absolutely made the meal complete.  It was the best \"toast\" I've ever had.\r\n",
      "\r\n",
      "Anyway, I can't wait to go back!\n"
     ]
    }
   ],
   "source": [
    "# print the first review\n",
    "print(yelp_best_worst.text[0])"
   ]
  },
  {
   "cell_type": "code",
   "execution_count": 7,
   "metadata": {
    "collapsed": true
   },
   "outputs": [],
   "source": [
    "# save it as a TextBlob object\n",
    "review = TextBlob(yelp_best_worst.text[0])"
   ]
  },
  {
   "cell_type": "code",
<<<<<<< HEAD
   "execution_count": 6,
   "metadata": {},
=======
   "execution_count": 8,
   "metadata": {
    "collapsed": false
   },
>>>>>>> bbddb7b909690de166baff30ab064619561f0ab8
   "outputs": [
    {
     "data": {
      "text/plain": [
       "WordList(['My', 'wife', 'took', 'me', 'here', 'on', 'my', 'birthday', 'for', 'breakfast', 'and', 'it', 'was', 'excellent', 'The', 'weather', 'was', 'perfect', 'which', 'made', 'sitting', 'outside', 'overlooking', 'their', 'grounds', 'an', 'absolute', 'pleasure', 'Our', 'waitress', 'was', 'excellent', 'and', 'our', 'food', 'arrived', 'quickly', 'on', 'the', 'semi-busy', 'Saturday', 'morning', 'It', 'looked', 'like', 'the', 'place', 'fills', 'up', 'pretty', 'quickly', 'so', 'the', 'earlier', 'you', 'get', 'here', 'the', 'better', 'Do', 'yourself', 'a', 'favor', 'and', 'get', 'their', 'Bloody', 'Mary', 'It', 'was', 'phenomenal', 'and', 'simply', 'the', 'best', 'I', \"'ve\", 'ever', 'had', 'I', \"'m\", 'pretty', 'sure', 'they', 'only', 'use', 'ingredients', 'from', 'their', 'garden', 'and', 'blend', 'them', 'fresh', 'when', 'you', 'order', 'it', 'It', 'was', 'amazing', 'While', 'EVERYTHING', 'on', 'the', 'menu', 'looks', 'excellent', 'I', 'had', 'the', 'white', 'truffle', 'scrambled', 'eggs', 'vegetable', 'skillet', 'and', 'it', 'was', 'tasty', 'and', 'delicious', 'It', 'came', 'with', '2', 'pieces', 'of', 'their', 'griddled', 'bread', 'with', 'was', 'amazing', 'and', 'it', 'absolutely', 'made', 'the', 'meal', 'complete', 'It', 'was', 'the', 'best', 'toast', 'I', \"'ve\", 'ever', 'had', 'Anyway', 'I', 'ca', \"n't\", 'wait', 'to', 'go', 'back'])"
      ]
     },
     "execution_count": 8,
     "metadata": {},
     "output_type": "execute_result"
    }
   ],
   "source": [
    "# list the words\n",
    "review.words"
   ]
  },
  {
   "cell_type": "code",
<<<<<<< HEAD
   "execution_count": 7,
   "metadata": {},
=======
   "execution_count": 9,
   "metadata": {
    "collapsed": false
   },
>>>>>>> bbddb7b909690de166baff30ab064619561f0ab8
   "outputs": [
    {
     "data": {
      "text/plain": [
       "[Sentence(\"My wife took me here on my birthday for breakfast and it was excellent.\"),\n",
       " Sentence(\"The weather was perfect which made sitting outside overlooking their grounds an absolute pleasure.\"),\n",
       " Sentence(\"Our waitress was excellent and our food arrived quickly on the semi-busy Saturday morning.\"),\n",
       " Sentence(\"It looked like the place fills up pretty quickly so the earlier you get here the better.\"),\n",
       " Sentence(\"Do yourself a favor and get their Bloody Mary.\"),\n",
       " Sentence(\"It was phenomenal and simply the best I've ever had.\"),\n",
       " Sentence(\"I'm pretty sure they only use ingredients from their garden and blend them fresh when you order it.\"),\n",
       " Sentence(\"It was amazing.\"),\n",
       " Sentence(\"While EVERYTHING on the menu looks excellent, I had the white truffle scrambled eggs vegetable skillet and it was tasty and delicious.\"),\n",
       " Sentence(\"It came with 2 pieces of their griddled bread with was amazing and it absolutely made the meal complete.\"),\n",
       " Sentence(\"It was the best \"toast\" I've ever had.\"),\n",
       " Sentence(\"Anyway, I can't wait to go back!\")]"
      ]
     },
     "execution_count": 9,
     "metadata": {},
     "output_type": "execute_result"
    }
   ],
   "source": [
    "# list the sentences\n",
    "review.sentences"
   ]
  },
  {
   "cell_type": "code",
<<<<<<< HEAD
   "execution_count": 8,
   "metadata": {},
=======
   "execution_count": 10,
   "metadata": {
    "collapsed": false
   },
>>>>>>> bbddb7b909690de166baff30ab064619561f0ab8
   "outputs": [
    {
     "data": {
      "text/plain": [
       "TextBlob(\"my wife took me here on my birthday for breakfast and it was excellent.  the weather was perfect which made sitting outside overlooking their grounds an absolute pleasure.  our waitress was excellent and our food arrived quickly on the semi-busy saturday morning.  it looked like the place fills up pretty quickly so the earlier you get here the better.\n",
       "\n",
       "do yourself a favor and get their bloody mary.  it was phenomenal and simply the best i've ever had.  i'm pretty sure they only use ingredients from their garden and blend them fresh when you order it.  it was amazing.\n",
       "\n",
       "while everything on the menu looks excellent, i had the white truffle scrambled eggs vegetable skillet and it was tasty and delicious.  it came with 2 pieces of their griddled bread with was amazing and it absolutely made the meal complete.  it was the best \"toast\" i've ever had.\n",
       "\n",
       "anyway, i can't wait to go back!\")"
      ]
     },
     "execution_count": 10,
     "metadata": {},
     "output_type": "execute_result"
    }
   ],
   "source": [
    "# some string methods are available\n",
    "review.lower()"
   ]
  },
  {
   "cell_type": "markdown",
   "metadata": {},
   "source": [
    "## Part 6: Stemming and Lemmatization"
   ]
  },
  {
   "cell_type": "markdown",
   "metadata": {},
   "source": [
    "**Stemming:**\n",
    "\n",
    "- **What:** Reduce a word to its base/stem/root form\n",
    "- **Why:** Often makes sense to treat related words the same way\n",
    "- **Notes:**\n",
    "    - Uses a \"simple\" and fast rule-based approach\n",
    "    - Stemmed words are usually not shown to users (used for analysis/indexing)\n",
    "    - Some search engines treat words with the same stem as synonyms"
   ]
  },
  {
   "cell_type": "code",
<<<<<<< HEAD
   "execution_count": 9,
   "metadata": {},
=======
   "execution_count": 11,
   "metadata": {
    "collapsed": false
   },
>>>>>>> bbddb7b909690de166baff30ab064619561f0ab8
   "outputs": [
    {
     "name": "stdout",
     "output_type": "stream",
     "text": [
      "[u'my', u'wife', u'took', u'me', u'here', u'on', u'my', u'birthday', u'for', u'breakfast', u'and', u'it', u'was', u'excel', u'the', u'weather', u'was', u'perfect', u'which', u'made', u'sit', u'outsid', u'overlook', u'their', u'ground', u'an', u'absolut', u'pleasur', u'our', u'waitress', u'was', u'excel', u'and', u'our', u'food', u'arriv', u'quick', u'on', u'the', u'semi-busi', u'saturday', u'morn', u'it', u'look', u'like', u'the', u'place', u'fill', u'up', u'pretti', u'quick', u'so', u'the', u'earlier', u'you', u'get', u'here', u'the', u'better', u'do', u'yourself', u'a', u'favor', u'and', u'get', u'their', u'bloodi', u'mari', u'it', u'was', u'phenomen', u'and', u'simpli', u'the', u'best', u'i', u've', u'ever', u'had', u'i', u\"'m\", u'pretti', u'sure', u'they', u'onli', u'use', u'ingredi', u'from', u'their', u'garden', u'and', u'blend', u'them', u'fresh', u'when', u'you', u'order', u'it', u'it', u'was', u'amaz', u'while', u'everyth', u'on', u'the', u'menu', u'look', u'excel', u'i', u'had', u'the', u'white', u'truffl', u'scrambl', u'egg', u'veget', u'skillet', u'and', u'it', u'was', u'tasti', u'and', u'delici', u'it', u'came', u'with', u'2', u'piec', u'of', u'their', u'griddl', u'bread', u'with', u'was', u'amaz', u'and', u'it', u'absolut', u'made', u'the', u'meal', u'complet', u'it', u'was', u'the', u'best', u'toast', u'i', u've', u'ever', u'had', u'anyway', u'i', u'ca', u\"n't\", u'wait', u'to', u'go', u'back']\n"
     ]
    }
   ],
   "source": [
    "# initialize stemmer\n",
    "stemmer = SnowballStemmer('english')\n",
    "\n",
    "# stem each word\n",
    "print([stemmer.stem(word) for word in review.words])"
   ]
  },
  {
   "cell_type": "markdown",
   "metadata": {},
   "source": [
    "**Lemmatization**\n",
    "\n",
    "- **What:** Derive the canonical form ('lemma') of a word\n",
    "- **Why:** Can be better than stemming\n",
    "- **Notes:** Uses a dictionary-based approach (slower than stemming)"
   ]
  },
  {
   "cell_type": "code",
   "execution_count": 10,
   "metadata": {},
   "outputs": [
    {
     "name": "stdout",
     "output_type": "stream",
     "text": [
      "['My', 'wife', 'took', 'me', 'here', 'on', 'my', 'birthday', 'for', 'breakfast', 'and', 'it', 'wa', 'excellent', 'The', 'weather', 'wa', 'perfect', 'which', 'made', 'sitting', 'outside', 'overlooking', 'their', 'ground', 'an', 'absolute', 'pleasure', 'Our', 'waitress', 'wa', 'excellent', 'and', 'our', 'food', 'arrived', 'quickly', 'on', 'the', 'semi-busy', 'Saturday', 'morning', 'It', 'looked', 'like', 'the', 'place', 'fill', 'up', 'pretty', 'quickly', 'so', 'the', 'earlier', 'you', 'get', 'here', 'the', 'better', 'Do', 'yourself', 'a', 'favor', 'and', 'get', 'their', 'Bloody', 'Mary', 'It', 'wa', 'phenomenal', 'and', 'simply', 'the', 'best', 'I', \"'ve\", 'ever', 'had', 'I', \"'m\", 'pretty', 'sure', 'they', 'only', 'use', 'ingredient', 'from', 'their', 'garden', 'and', 'blend', 'them', 'fresh', 'when', 'you', 'order', 'it', 'It', 'wa', 'amazing', 'While', 'EVERYTHING', 'on', 'the', 'menu', 'look', 'excellent', 'I', 'had', 'the', 'white', 'truffle', 'scrambled', 'egg', 'vegetable', 'skillet', 'and', 'it', 'wa', 'tasty', 'and', 'delicious', 'It', 'came', 'with', '2', 'piece', 'of', 'their', 'griddled', 'bread', 'with', 'wa', 'amazing', 'and', 'it', 'absolutely', 'made', 'the', 'meal', 'complete', 'It', 'wa', 'the', 'best', 'toast', 'I', \"'ve\", 'ever', 'had', 'Anyway', 'I', 'ca', \"n't\", 'wait', 'to', 'go', 'back']\n"
     ]
    }
   ],
   "source": [
    "# assume every word is a noun\n",
    "print([word.lemmatize() for word in review.words])"
   ]
  },
  {
   "cell_type": "code",
   "execution_count": 11,
   "metadata": {},
   "outputs": [
    {
     "name": "stdout",
     "output_type": "stream",
     "text": [
      "['My', 'wife', 'take', 'me', 'here', 'on', 'my', 'birthday', 'for', 'breakfast', 'and', 'it', 'be', 'excellent', 'The', 'weather', 'be', 'perfect', 'which', 'make', 'sit', 'outside', 'overlook', 'their', 'ground', 'an', 'absolute', 'pleasure', 'Our', 'waitress', 'be', 'excellent', 'and', 'our', 'food', 'arrive', 'quickly', 'on', 'the', 'semi-busy', 'Saturday', 'morning', 'It', 'look', 'like', 'the', 'place', 'fill', 'up', 'pretty', 'quickly', 'so', 'the', 'earlier', 'you', 'get', 'here', 'the', 'better', 'Do', 'yourself', 'a', 'favor', 'and', 'get', 'their', 'Bloody', 'Mary', 'It', 'be', 'phenomenal', 'and', 'simply', 'the', 'best', 'I', \"'ve\", 'ever', 'have', 'I', \"'m\", 'pretty', 'sure', 'they', 'only', 'use', 'ingredients', 'from', 'their', 'garden', 'and', 'blend', 'them', 'fresh', 'when', 'you', 'order', 'it', 'It', 'be', 'amaze', 'While', 'EVERYTHING', 'on', 'the', 'menu', 'look', 'excellent', 'I', 'have', 'the', 'white', 'truffle', 'scramble', 'egg', 'vegetable', 'skillet', 'and', 'it', 'be', 'tasty', 'and', 'delicious', 'It', 'come', 'with', '2', 'piece', 'of', 'their', 'griddle', 'bread', 'with', 'be', 'amaze', 'and', 'it', 'absolutely', 'make', 'the', 'meal', 'complete', 'It', 'be', 'the', 'best', 'toast', 'I', \"'ve\", 'ever', 'have', 'Anyway', 'I', 'ca', \"n't\", 'wait', 'to', 'go', 'back']\n"
     ]
    }
   ],
   "source": [
    "# assume every word is a verb\n",
    "print([word.lemmatize(pos='v') for word in review.words])"
   ]
  },
  {
   "cell_type": "code",
   "execution_count": 12,
   "metadata": {
    "collapsed": true
   },
   "outputs": [],
   "source": [
    "# define a function that accepts text and returns a list of lemmas\n",
    "def split_into_lemmas(text):\n",
    "    #text = unicode(text, 'utf-8').lower()\n",
    "    words = TextBlob(text).words\n",
    "    return [word.lemmatize() for word in words]"
   ]
  },
  {
   "cell_type": "code",
<<<<<<< HEAD
   "execution_count": 34,
   "metadata": {},
   "outputs": [
    {
     "name": "stdout",
     "output_type": "stream",
     "text": [
      "Features:  20599\n",
      "Accuracy:  0.904109589041\n"
     ]
    }
   ],
=======
   "execution_count": 14,
   "metadata": {
    "collapsed": false
   },
   "outputs": [],
>>>>>>> bbddb7b909690de166baff30ab064619561f0ab8
   "source": [
    "# use split_into_lemmas as the feature extraction function (WARNING: SLOW!)\n",
    "vect = CountVectorizer(analyzer=split_into_lemmas, decode_error='replace')"
   ]
  },
  {
   "cell_type": "code",
<<<<<<< HEAD
   "execution_count": 35,
   "metadata": {},
=======
   "execution_count": 15,
   "metadata": {
    "collapsed": false
   },
>>>>>>> bbddb7b909690de166baff30ab064619561f0ab8
   "outputs": [
    {
     "ename": "NotFittedError",
     "evalue": "CountVectorizer - Vocabulary wasn't fitted.",
     "output_type": "error",
     "traceback": [
      "\u001b[1;31m---------------------------------------------------------------------------\u001b[0m",
      "\u001b[1;31mNotFittedError\u001b[0m                            Traceback (most recent call last)",
      "\u001b[1;32m<ipython-input-15-dd35d3d3e925>\u001b[0m in \u001b[0;36m<module>\u001b[1;34m()\u001b[0m\n\u001b[0;32m      1\u001b[0m \u001b[1;31m# last 50 features\u001b[0m\u001b[1;33m\u001b[0m\u001b[1;33m\u001b[0m\u001b[0m\n\u001b[1;32m----> 2\u001b[1;33m \u001b[1;32mprint\u001b[0m\u001b[1;33m(\u001b[0m\u001b[0mvect\u001b[0m\u001b[1;33m.\u001b[0m\u001b[0mget_feature_names\u001b[0m\u001b[1;33m(\u001b[0m\u001b[1;33m)\u001b[0m\u001b[1;33m[\u001b[0m\u001b[1;33m-\u001b[0m\u001b[1;36m50\u001b[0m\u001b[1;33m:\u001b[0m\u001b[1;33m]\u001b[0m\u001b[1;33m)\u001b[0m\u001b[1;33m\u001b[0m\u001b[0m\n\u001b[0m",
      "\u001b[1;32mC:\\Users\\jtate\\AppData\\Local\\Continuum\\Anaconda2\\lib\\site-packages\\sklearn\\feature_extraction\\text.pyc\u001b[0m in \u001b[0;36mget_feature_names\u001b[1;34m(self)\u001b[0m\n\u001b[0;32m    958\u001b[0m     \u001b[1;32mdef\u001b[0m \u001b[0mget_feature_names\u001b[0m\u001b[1;33m(\u001b[0m\u001b[0mself\u001b[0m\u001b[1;33m)\u001b[0m\u001b[1;33m:\u001b[0m\u001b[1;33m\u001b[0m\u001b[0m\n\u001b[0;32m    959\u001b[0m         \u001b[1;34m\"\"\"Array mapping from feature integer indices to feature name\"\"\"\u001b[0m\u001b[1;33m\u001b[0m\u001b[0m\n\u001b[1;32m--> 960\u001b[1;33m         \u001b[0mself\u001b[0m\u001b[1;33m.\u001b[0m\u001b[0m_check_vocabulary\u001b[0m\u001b[1;33m(\u001b[0m\u001b[1;33m)\u001b[0m\u001b[1;33m\u001b[0m\u001b[0m\n\u001b[0m\u001b[0;32m    961\u001b[0m \u001b[1;33m\u001b[0m\u001b[0m\n\u001b[0;32m    962\u001b[0m         return [t for t, i in sorted(six.iteritems(self.vocabulary_),\n",
      "\u001b[1;32mC:\\Users\\jtate\\AppData\\Local\\Continuum\\Anaconda2\\lib\\site-packages\\sklearn\\feature_extraction\\text.pyc\u001b[0m in \u001b[0;36m_check_vocabulary\u001b[1;34m(self)\u001b[0m\n\u001b[0;32m    301\u001b[0m         \u001b[1;34m\"\"\"Check if vocabulary is empty or missing (not fit-ed)\"\"\"\u001b[0m\u001b[1;33m\u001b[0m\u001b[0m\n\u001b[0;32m    302\u001b[0m         \u001b[0mmsg\u001b[0m \u001b[1;33m=\u001b[0m \u001b[1;34m\"%(name)s - Vocabulary wasn't fitted.\"\u001b[0m\u001b[1;33m\u001b[0m\u001b[0m\n\u001b[1;32m--> 303\u001b[1;33m         \u001b[0mcheck_is_fitted\u001b[0m\u001b[1;33m(\u001b[0m\u001b[0mself\u001b[0m\u001b[1;33m,\u001b[0m \u001b[1;34m'vocabulary_'\u001b[0m\u001b[1;33m,\u001b[0m \u001b[0mmsg\u001b[0m\u001b[1;33m=\u001b[0m\u001b[0mmsg\u001b[0m\u001b[1;33m)\u001b[0m\u001b[1;33m,\u001b[0m\u001b[1;33m\u001b[0m\u001b[0m\n\u001b[0m\u001b[0;32m    304\u001b[0m \u001b[1;33m\u001b[0m\u001b[0m\n\u001b[0;32m    305\u001b[0m         \u001b[1;32mif\u001b[0m \u001b[0mlen\u001b[0m\u001b[1;33m(\u001b[0m\u001b[0mself\u001b[0m\u001b[1;33m.\u001b[0m\u001b[0mvocabulary_\u001b[0m\u001b[1;33m)\u001b[0m \u001b[1;33m==\u001b[0m \u001b[1;36m0\u001b[0m\u001b[1;33m:\u001b[0m\u001b[1;33m\u001b[0m\u001b[0m\n",
      "\u001b[1;32mC:\\Users\\jtate\\AppData\\Local\\Continuum\\Anaconda2\\lib\\site-packages\\sklearn\\utils\\validation.pyc\u001b[0m in \u001b[0;36mcheck_is_fitted\u001b[1;34m(estimator, attributes, msg, all_or_any)\u001b[0m\n\u001b[0;32m    735\u001b[0m \u001b[1;33m\u001b[0m\u001b[0m\n\u001b[0;32m    736\u001b[0m     \u001b[1;32mif\u001b[0m \u001b[1;32mnot\u001b[0m \u001b[0mall_or_any\u001b[0m\u001b[1;33m(\u001b[0m\u001b[1;33m[\u001b[0m\u001b[0mhasattr\u001b[0m\u001b[1;33m(\u001b[0m\u001b[0mestimator\u001b[0m\u001b[1;33m,\u001b[0m \u001b[0mattr\u001b[0m\u001b[1;33m)\u001b[0m \u001b[1;32mfor\u001b[0m \u001b[0mattr\u001b[0m \u001b[1;32min\u001b[0m \u001b[0mattributes\u001b[0m\u001b[1;33m]\u001b[0m\u001b[1;33m)\u001b[0m\u001b[1;33m:\u001b[0m\u001b[1;33m\u001b[0m\u001b[0m\n\u001b[1;32m--> 737\u001b[1;33m         \u001b[1;32mraise\u001b[0m \u001b[0mNotFittedError\u001b[0m\u001b[1;33m(\u001b[0m\u001b[0mmsg\u001b[0m \u001b[1;33m%\u001b[0m \u001b[1;33m{\u001b[0m\u001b[1;34m'name'\u001b[0m\u001b[1;33m:\u001b[0m \u001b[0mtype\u001b[0m\u001b[1;33m(\u001b[0m\u001b[0mestimator\u001b[0m\u001b[1;33m)\u001b[0m\u001b[1;33m.\u001b[0m\u001b[0m__name__\u001b[0m\u001b[1;33m}\u001b[0m\u001b[1;33m)\u001b[0m\u001b[1;33m\u001b[0m\u001b[0m\n\u001b[0m\u001b[0;32m    738\u001b[0m \u001b[1;33m\u001b[0m\u001b[0m\n\u001b[0;32m    739\u001b[0m \u001b[1;33m\u001b[0m\u001b[0m\n",
      "\u001b[1;31mNotFittedError\u001b[0m: CountVectorizer - Vocabulary wasn't fitted."
     ]
    }
   ],
   "source": [
    "# last 50 features\n",
    "print(vect.get_feature_names()[-50:])"
   ]
  },
  {
   "cell_type": "markdown",
   "metadata": {},
   "source": [
    "## Part 7: Term Frequency-Inverse Document Frequency (TF-IDF)"
   ]
  },
  {
   "cell_type": "markdown",
   "metadata": {},
   "source": [
    "- **What:** Computes \"relative frequency\" that a word appears in a document compared to its frequency across all documents\n",
    "- **Why:** More useful than \"term frequency\" for identifying \"important\" words in each document (high frequency in that document, low frequency in other documents)\n",
    "- **Notes:** Used for search engine scoring, text summarization, document clustering"
   ]
  },
  {
   "cell_type": "code",
   "execution_count": 16,
   "metadata": {
    "collapsed": true
   },
   "outputs": [],
   "source": [
    "# example documents\n",
    "simple_train = ['call you tonight', 'Call me a cab', 'please call me... PLEASE!']"
   ]
  },
  {
   "cell_type": "code",
<<<<<<< HEAD
   "execution_count": 37,
   "metadata": {},
=======
   "execution_count": 17,
   "metadata": {
    "collapsed": false
   },
>>>>>>> bbddb7b909690de166baff30ab064619561f0ab8
   "outputs": [
    {
     "data": {
      "text/html": [
       "<div>\n",
       "<table border=\"1\" class=\"dataframe\">\n",
       "  <thead>\n",
       "    <tr style=\"text-align: right;\">\n",
       "      <th></th>\n",
       "      <th>cab</th>\n",
       "      <th>call</th>\n",
       "      <th>me</th>\n",
       "      <th>please</th>\n",
       "      <th>tonight</th>\n",
       "      <th>you</th>\n",
       "    </tr>\n",
       "  </thead>\n",
       "  <tbody>\n",
       "    <tr>\n",
       "      <th>0</th>\n",
       "      <td>0</td>\n",
       "      <td>1</td>\n",
       "      <td>0</td>\n",
       "      <td>0</td>\n",
       "      <td>1</td>\n",
       "      <td>1</td>\n",
       "    </tr>\n",
       "    <tr>\n",
       "      <th>1</th>\n",
       "      <td>1</td>\n",
       "      <td>1</td>\n",
       "      <td>1</td>\n",
       "      <td>0</td>\n",
       "      <td>0</td>\n",
       "      <td>0</td>\n",
       "    </tr>\n",
       "    <tr>\n",
       "      <th>2</th>\n",
       "      <td>0</td>\n",
       "      <td>1</td>\n",
       "      <td>1</td>\n",
       "      <td>2</td>\n",
       "      <td>0</td>\n",
       "      <td>0</td>\n",
       "    </tr>\n",
       "  </tbody>\n",
       "</table>\n",
       "</div>"
      ],
      "text/plain": [
       "   cab  call  me  please  tonight  you\n",
       "0    0     1   0       0        1    1\n",
       "1    1     1   1       0        0    0\n",
       "2    0     1   1       2        0    0"
      ]
     },
     "execution_count": 17,
     "metadata": {},
     "output_type": "execute_result"
    }
   ],
   "source": [
    "# Term Frequency\n",
    "vect = CountVectorizer()\n",
    "tf = pd.DataFrame(vect.fit_transform(simple_train).toarray(), columns=vect.get_feature_names())\n",
    "tf"
   ]
  },
  {
   "cell_type": "code",
<<<<<<< HEAD
   "execution_count": 38,
   "metadata": {},
=======
   "execution_count": 18,
   "metadata": {
    "collapsed": false
   },
>>>>>>> bbddb7b909690de166baff30ab064619561f0ab8
   "outputs": [
    {
     "data": {
      "text/html": [
       "<div>\n",
       "<table border=\"1\" class=\"dataframe\">\n",
       "  <thead>\n",
       "    <tr style=\"text-align: right;\">\n",
       "      <th></th>\n",
       "      <th>cab</th>\n",
       "      <th>call</th>\n",
       "      <th>me</th>\n",
       "      <th>please</th>\n",
       "      <th>tonight</th>\n",
       "      <th>you</th>\n",
       "    </tr>\n",
       "  </thead>\n",
       "  <tbody>\n",
       "    <tr>\n",
       "      <th>0</th>\n",
       "      <td>1</td>\n",
       "      <td>3</td>\n",
       "      <td>2</td>\n",
       "      <td>1</td>\n",
       "      <td>1</td>\n",
       "      <td>1</td>\n",
       "    </tr>\n",
       "  </tbody>\n",
       "</table>\n",
       "</div>"
      ],
      "text/plain": [
       "   cab  call  me  please  tonight  you\n",
       "0    1     3   2       1        1    1"
      ]
     },
     "execution_count": 18,
     "metadata": {},
     "output_type": "execute_result"
    }
   ],
   "source": [
    "# Document Frequency\n",
    "vect = CountVectorizer(binary=True)\n",
    "df = vect.fit_transform(simple_train).toarray().sum(axis=0)\n",
    "pd.DataFrame(df.reshape(1, 6), columns=vect.get_feature_names())"
   ]
  },
  {
   "cell_type": "code",
<<<<<<< HEAD
   "execution_count": 39,
   "metadata": {},
=======
   "execution_count": 19,
   "metadata": {
    "collapsed": false
   },
>>>>>>> bbddb7b909690de166baff30ab064619561f0ab8
   "outputs": [
    {
     "data": {
      "text/html": [
       "<div>\n",
       "<table border=\"1\" class=\"dataframe\">\n",
       "  <thead>\n",
       "    <tr style=\"text-align: right;\">\n",
       "      <th></th>\n",
       "      <th>cab</th>\n",
       "      <th>call</th>\n",
       "      <th>me</th>\n",
       "      <th>please</th>\n",
       "      <th>tonight</th>\n",
       "      <th>you</th>\n",
       "    </tr>\n",
       "  </thead>\n",
       "  <tbody>\n",
       "    <tr>\n",
       "      <th>0</th>\n",
       "      <td>0.0</td>\n",
       "      <td>0.333333</td>\n",
       "      <td>0.0</td>\n",
       "      <td>0.0</td>\n",
       "      <td>1.0</td>\n",
       "      <td>1.0</td>\n",
       "    </tr>\n",
       "    <tr>\n",
       "      <th>1</th>\n",
       "      <td>1.0</td>\n",
       "      <td>0.333333</td>\n",
       "      <td>0.5</td>\n",
       "      <td>0.0</td>\n",
       "      <td>0.0</td>\n",
       "      <td>0.0</td>\n",
       "    </tr>\n",
       "    <tr>\n",
       "      <th>2</th>\n",
       "      <td>0.0</td>\n",
       "      <td>0.333333</td>\n",
       "      <td>0.5</td>\n",
       "      <td>2.0</td>\n",
       "      <td>0.0</td>\n",
       "      <td>0.0</td>\n",
       "    </tr>\n",
       "  </tbody>\n",
       "</table>\n",
       "</div>"
      ],
      "text/plain": [
       "   cab      call   me  please  tonight  you\n",
       "0  0.0  0.333333  0.0     0.0      1.0  1.0\n",
       "1  1.0  0.333333  0.5     0.0      0.0  0.0\n",
       "2  0.0  0.333333  0.5     2.0      0.0  0.0"
      ]
     },
     "execution_count": 19,
     "metadata": {},
     "output_type": "execute_result"
    }
   ],
   "source": [
    "# Term Frequency-Inverse Document Frequency (simple version)\n",
    "tf/df"
   ]
  },
  {
   "cell_type": "code",
<<<<<<< HEAD
   "execution_count": 40,
   "metadata": {},
=======
   "execution_count": 20,
   "metadata": {
    "collapsed": false
   },
>>>>>>> bbddb7b909690de166baff30ab064619561f0ab8
   "outputs": [
    {
     "data": {
      "text/html": [
       "<div>\n",
       "<table border=\"1\" class=\"dataframe\">\n",
       "  <thead>\n",
       "    <tr style=\"text-align: right;\">\n",
       "      <th></th>\n",
       "      <th>cab</th>\n",
       "      <th>call</th>\n",
       "      <th>me</th>\n",
       "      <th>please</th>\n",
       "      <th>tonight</th>\n",
       "      <th>you</th>\n",
       "    </tr>\n",
       "  </thead>\n",
       "  <tbody>\n",
       "    <tr>\n",
       "      <th>0</th>\n",
       "      <td>0.000000</td>\n",
       "      <td>0.385372</td>\n",
       "      <td>0.000000</td>\n",
       "      <td>0.000000</td>\n",
       "      <td>0.652491</td>\n",
       "      <td>0.652491</td>\n",
       "    </tr>\n",
       "    <tr>\n",
       "      <th>1</th>\n",
       "      <td>0.720333</td>\n",
       "      <td>0.425441</td>\n",
       "      <td>0.547832</td>\n",
       "      <td>0.000000</td>\n",
       "      <td>0.000000</td>\n",
       "      <td>0.000000</td>\n",
       "    </tr>\n",
       "    <tr>\n",
       "      <th>2</th>\n",
       "      <td>0.000000</td>\n",
       "      <td>0.266075</td>\n",
       "      <td>0.342620</td>\n",
       "      <td>0.901008</td>\n",
       "      <td>0.000000</td>\n",
       "      <td>0.000000</td>\n",
       "    </tr>\n",
       "  </tbody>\n",
       "</table>\n",
       "</div>"
      ],
      "text/plain": [
       "        cab      call        me    please   tonight       you\n",
       "0  0.000000  0.385372  0.000000  0.000000  0.652491  0.652491\n",
       "1  0.720333  0.425441  0.547832  0.000000  0.000000  0.000000\n",
       "2  0.000000  0.266075  0.342620  0.901008  0.000000  0.000000"
      ]
     },
     "execution_count": 20,
     "metadata": {},
     "output_type": "execute_result"
    }
   ],
   "source": [
    "# TfidfVectorizer\n",
    "vect = TfidfVectorizer()\n",
    "pd.DataFrame(vect.fit_transform(simple_train).toarray(), columns=vect.get_feature_names())"
   ]
  },
  {
   "cell_type": "markdown",
   "metadata": {},
   "source": [
    "**More details:** [TF-IDF is about what matters](http://planspace.org/20150524-tfidf_is_about_what_matters/)"
   ]
  },
  {
   "cell_type": "markdown",
   "metadata": {},
   "source": [
    "## Part 9: Sentiment Analysis"
   ]
  },
  {
   "cell_type": "code",
   "execution_count": 21,
   "metadata": {
    "collapsed": true
   },
   "outputs": [],
   "source": [
    "review = TextBlob(yelp_best_worst.text[0])"
   ]
  },
  {
   "cell_type": "code",
<<<<<<< HEAD
   "execution_count": 13,
   "metadata": {},
=======
   "execution_count": 22,
   "metadata": {
    "collapsed": false
   },
>>>>>>> bbddb7b909690de166baff30ab064619561f0ab8
   "outputs": [
    {
     "name": "stdout",
     "output_type": "stream",
     "text": [
      "My wife took me here on my birthday for breakfast and it was excellent.  The weather was perfect which made sitting outside overlooking their grounds an absolute pleasure.  Our waitress was excellent and our food arrived quickly on the semi-busy Saturday morning.  It looked like the place fills up pretty quickly so the earlier you get here the better.\r\n",
      "\r\n",
      "Do yourself a favor and get their Bloody Mary.  It was phenomenal and simply the best I've ever had.  I'm pretty sure they only use ingredients from their garden and blend them fresh when you order it.  It was amazing.\r\n",
      "\r\n",
      "While EVERYTHING on the menu looks excellent, I had the white truffle scrambled eggs vegetable skillet and it was tasty and delicious.  It came with 2 pieces of their griddled bread with was amazing and it absolutely made the meal complete.  It was the best \"toast\" I've ever had.\r\n",
      "\r\n",
      "Anyway, I can't wait to go back!\n"
     ]
    }
   ],
   "source": [
    "print(review)"
   ]
  },
  {
   "cell_type": "code",
<<<<<<< HEAD
   "execution_count": 14,
   "metadata": {},
=======
   "execution_count": 23,
   "metadata": {
    "collapsed": false
   },
>>>>>>> bbddb7b909690de166baff30ab064619561f0ab8
   "outputs": [
    {
     "data": {
      "text/plain": [
       "0.40246913580246907"
      ]
     },
     "execution_count": 23,
     "metadata": {},
     "output_type": "execute_result"
    }
   ],
   "source": [
    "# polarity ranges from -1 (most negative) to 1 (most positive)\n",
    "review.sentiment.polarity"
   ]
  },
  {
   "cell_type": "code",
<<<<<<< HEAD
   "execution_count": 15,
   "metadata": {},
=======
   "execution_count": 24,
   "metadata": {
    "collapsed": false
   },
>>>>>>> bbddb7b909690de166baff30ab064619561f0ab8
   "outputs": [
    {
     "data": {
      "text/html": [
       "<div>\n",
       "<table border=\"1\" class=\"dataframe\">\n",
       "  <thead>\n",
       "    <tr style=\"text-align: right;\">\n",
       "      <th></th>\n",
       "      <th>business_id</th>\n",
       "      <th>date</th>\n",
       "      <th>review_id</th>\n",
       "      <th>stars</th>\n",
       "      <th>text</th>\n",
       "      <th>type</th>\n",
       "      <th>user_id</th>\n",
       "      <th>cool</th>\n",
       "      <th>useful</th>\n",
       "      <th>funny</th>\n",
       "      <th>length</th>\n",
       "    </tr>\n",
       "  </thead>\n",
       "  <tbody>\n",
       "    <tr>\n",
       "      <th>0</th>\n",
       "      <td>9yKzy9PApeiPPOUJEtnvkg</td>\n",
       "      <td>2011-01-26</td>\n",
       "      <td>fWKvX83p0-ka4JS3dc6E5A</td>\n",
       "      <td>5</td>\n",
       "      <td>My wife took me here on my birthday for breakf...</td>\n",
       "      <td>review</td>\n",
       "      <td>rLtl8ZkDX5vH5nAx9C3q5Q</td>\n",
       "      <td>2</td>\n",
       "      <td>5</td>\n",
       "      <td>0</td>\n",
       "      <td>895</td>\n",
       "    </tr>\n",
       "  </tbody>\n",
       "</table>\n",
       "</div>"
      ],
      "text/plain": [
       "              business_id        date               review_id  stars  \\\n",
       "0  9yKzy9PApeiPPOUJEtnvkg  2011-01-26  fWKvX83p0-ka4JS3dc6E5A      5   \n",
       "\n",
       "                                                text    type  \\\n",
       "0  My wife took me here on my birthday for breakf...  review   \n",
       "\n",
       "                  user_id  cool  useful  funny  length  \n",
       "0  rLtl8ZkDX5vH5nAx9C3q5Q     2       5      0     895  "
      ]
     },
     "execution_count": 24,
     "metadata": {},
     "output_type": "execute_result"
    }
   ],
   "source": [
    "# understanding the apply method\n",
    "yelp['length'] = yelp.text.apply(len)\n",
    "yelp.head(1)"
   ]
  },
  {
   "cell_type": "code",
   "execution_count": 28,
   "metadata": {
    "collapsed": true
   },
   "outputs": [],
   "source": [
    "# define a function that accepts text and returns the polarity\n",
    "def detect_sentiment(text):\n",
    "    return TextBlob(text.decode('utf-8')).sentiment.polarity\n",
    "#     return TextBlob(text).sentiment.polarity"
   ]
  },
  {
   "cell_type": "code",
   "execution_count": 29,
   "metadata": {
    "collapsed": false
   },
   "outputs": [],
   "source": [
    "# create a new DataFrame column for sentiment (WARNING: SLOW!)\n",
    "yelp['sentiment'] = yelp.text.apply(detect_sentiment)"
   ]
  },
  {
   "cell_type": "code",
<<<<<<< HEAD
   "execution_count": 19,
   "metadata": {},
=======
   "execution_count": 30,
   "metadata": {
    "collapsed": false
   },
>>>>>>> bbddb7b909690de166baff30ab064619561f0ab8
   "outputs": [
    {
     "data": {
      "image/png": "iVBORw0KGgoAAAANSUhEUgAAAYQAAAEaCAYAAAAR0SDgAAAABHNCSVQICAgIfAhkiAAAAAlwSFlz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\nAdiyYkQG6x+bAAAAAElFTkSuQmCC\n",
      "text/plain": [
       "<matplotlib.figure.Figure at 0xd031dd8>"
      ]
     },
     "metadata": {},
     "output_type": "display_data"
    }
   ],
   "source": [
    "# box plot of sentiment grouped by stars\n",
    "yelp.boxplot(column='sentiment', by='stars');"
   ]
  },
  {
   "cell_type": "code",
<<<<<<< HEAD
   "execution_count": 24,
   "metadata": {},
=======
   "execution_count": 36,
   "metadata": {
    "collapsed": false
   },
>>>>>>> bbddb7b909690de166baff30ab064619561f0ab8
   "outputs": [
    {
     "data": {
      "text/plain": [
       "'Our server Gary was awesome. Food was amazing...an experience.'"
      ]
     },
     "execution_count": 36,
     "metadata": {},
     "output_type": "execute_result"
    }
   ],
   "source": [
    "# reviews with most positive sentiment\n",
    "yelp[yelp.sentiment == 1].text[254]"
   ]
  },
  {
   "cell_type": "code",
<<<<<<< HEAD
   "execution_count": 25,
   "metadata": {},
=======
   "execution_count": 37,
   "metadata": {
    "collapsed": false
   },
>>>>>>> bbddb7b909690de166baff30ab064619561f0ab8
   "outputs": [
    {
     "data": {
      "text/plain": [
       "773     This was absolutely horrible. I got the suprem...\n",
       "1517                  Nasty workers and over priced trash\n",
       "3266    Absolutely awful... these guys have NO idea wh...\n",
       "4766                                       Very bad food!\n",
       "5812        I wouldn't send my worst enemy to this place.\n",
       "Name: text, dtype: object"
      ]
     },
     "execution_count": 37,
     "metadata": {},
     "output_type": "execute_result"
    }
   ],
   "source": [
    "# reviews with most negative sentiment\n",
    "yelp[yelp.sentiment == -1].text."
   ]
  },
  {
   "cell_type": "code",
   "execution_count": 38,
   "metadata": {
    "collapsed": true
   },
   "outputs": [],
   "source": [
    "# widen the column display\n",
    "pd.set_option('max_colwidth', 500)"
   ]
  },
  {
   "cell_type": "code",
<<<<<<< HEAD
   "execution_count": 27,
   "metadata": {},
=======
   "execution_count": 39,
   "metadata": {
    "collapsed": false
   },
>>>>>>> bbddb7b909690de166baff30ab064619561f0ab8
   "outputs": [
    {
     "data": {
      "text/html": [
       "<div>\n",
       "<table border=\"1\" class=\"dataframe\">\n",
       "  <thead>\n",
       "    <tr style=\"text-align: right;\">\n",
       "      <th></th>\n",
       "      <th>business_id</th>\n",
       "      <th>date</th>\n",
       "      <th>review_id</th>\n",
       "      <th>stars</th>\n",
       "      <th>text</th>\n",
       "      <th>type</th>\n",
       "      <th>user_id</th>\n",
       "      <th>cool</th>\n",
       "      <th>useful</th>\n",
       "      <th>funny</th>\n",
       "      <th>length</th>\n",
       "      <th>sentiment</th>\n",
       "    </tr>\n",
       "  </thead>\n",
       "  <tbody>\n",
       "    <tr>\n",
       "      <th>390</th>\n",
       "      <td>106JT5p8e8Chtd0CZpcARw</td>\n",
       "      <td>2009-08-06</td>\n",
       "      <td>KowGVoP_gygzdSu6Mt3zKQ</td>\n",
       "      <td>5</td>\n",
       "      <td>RIP AZ Coffee Connection.  :(  I stopped by two days ago unaware that they had closed.  I am severely bummed.  This place is irreplaceable!  Damn you, Starbucks and McDonalds!</td>\n",
       "      <td>review</td>\n",
       "      <td>jKeaOrPyJ-dI9SNeVqrbww</td>\n",
       "      <td>1</td>\n",
       "      <td>0</td>\n",
       "      <td>0</td>\n",
       "      <td>175</td>\n",
       "      <td>-0.302083</td>\n",
       "    </tr>\n",
       "  </tbody>\n",
       "</table>\n",
       "</div>"
      ],
      "text/plain": [
       "                business_id        date               review_id  stars  \\\n",
       "390  106JT5p8e8Chtd0CZpcARw  2009-08-06  KowGVoP_gygzdSu6Mt3zKQ      5   \n",
       "\n",
       "                                                                                                                                                                                text  \\\n",
       "390  RIP AZ Coffee Connection.  :(  I stopped by two days ago unaware that they had closed.  I am severely bummed.  This place is irreplaceable!  Damn you, Starbucks and McDonalds!   \n",
       "\n",
       "       type                 user_id  cool  useful  funny  length  sentiment  \n",
       "390  review  jKeaOrPyJ-dI9SNeVqrbww     1       0      0     175  -0.302083  "
      ]
     },
     "execution_count": 39,
     "metadata": {},
     "output_type": "execute_result"
    }
   ],
   "source": [
    "# negative sentiment in a 5-star review\n",
    "yelp[(yelp.stars == 5) & (yelp.sentiment < -0.3)].head(1)"
   ]
  },
  {
   "cell_type": "code",
<<<<<<< HEAD
   "execution_count": 28,
   "metadata": {},
=======
   "execution_count": 42,
   "metadata": {
    "collapsed": false
   },
>>>>>>> bbddb7b909690de166baff30ab064619561f0ab8
   "outputs": [
    {
     "data": {
      "text/html": [
       "<div>\n",
       "<table border=\"1\" class=\"dataframe\">\n",
       "  <thead>\n",
       "    <tr style=\"text-align: right;\">\n",
       "      <th></th>\n",
       "      <th>business_id</th>\n",
       "      <th>date</th>\n",
       "      <th>review_id</th>\n",
       "      <th>stars</th>\n",
       "      <th>text</th>\n",
       "      <th>type</th>\n",
       "      <th>user_id</th>\n",
       "      <th>cool</th>\n",
       "      <th>useful</th>\n",
       "      <th>funny</th>\n",
       "      <th>length</th>\n",
       "      <th>sentiment</th>\n",
       "    </tr>\n",
       "  </thead>\n",
       "  <tbody>\n",
       "    <tr>\n",
       "      <th>1781</th>\n",
       "      <td>53YGfwmbW73JhFiemNeyzQ</td>\n",
       "      <td>2012-06-22</td>\n",
       "      <td>Gi-4O3EhE175vujbFGDIew</td>\n",
       "      <td>1</td>\n",
       "      <td>If you like the stuck up Scottsdale vibe this is a good place for you. The food isn't impressive. Nice outdoor seating.</td>\n",
       "      <td>review</td>\n",
       "      <td>Hqgx3IdJAAaoQjvrUnbNvw</td>\n",
       "      <td>0</td>\n",
       "      <td>1</td>\n",
       "      <td>2</td>\n",
       "      <td>119</td>\n",
       "      <td>0.766667</td>\n",
       "    </tr>\n",
       "    <tr>\n",
       "      <th>2353</th>\n",
       "      <td>3Srfy_VeCgwDbo4iyUFOtw</td>\n",
       "      <td>2006-08-23</td>\n",
       "      <td>K8tXedC2NMBEZ8p77zg23Q</td>\n",
       "      <td>1</td>\n",
       "      <td>My co-workers and I refer to this place as \"Pizza n' Ants\".  The staff will be happy to serve you with bare hands, right after using the till.  Also, as the nickname suggests, there has been a noticable insect problem. \\r\\n\\r\\n\\r\\n\\r\\nAs if that could all be overlooked, the pizza isn't even good.  If you are in this part of town, go to Z Pizza or Slices for great pizza instead!</td>\n",
       "      <td>review</td>\n",
       "      <td>rPGZttaVjRoVi3GYbs62cg</td>\n",
       "      <td>0</td>\n",
       "      <td>1</td>\n",
       "      <td>0</td>\n",
       "      <td>372</td>\n",
       "      <td>0.567143</td>\n",
       "    </tr>\n",
       "    <tr>\n",
       "      <th>5257</th>\n",
       "      <td>cXx-fHY11Se8rFHkkUeaUg</td>\n",
       "      <td>2009-10-27</td>\n",
       "      <td>2yHyr0N_XNZggmIfZ7JaHw</td>\n",
       "      <td>1</td>\n",
       "      <td>Remember how I said that the Trivia was the best thing about this place?  Well, they got rid of long time Triva host, Dave (who had been featured in the College Times and was the best thing about the trivia).  Without Dave's personality, this place just doesn't cut it.  Will never go here again. Bummer.</td>\n",
       "      <td>review</td>\n",
       "      <td>nx2PS25Qe3MCEFUdO_XOtw</td>\n",
       "      <td>2</td>\n",
       "      <td>4</td>\n",
       "      <td>0</td>\n",
       "      <td>304</td>\n",
       "      <td>0.650000</td>\n",
       "    </tr>\n",
       "  </tbody>\n",
       "</table>\n",
       "</div>"
      ],
      "text/plain": [
       "                 business_id        date               review_id  stars  \\\n",
       "1781  53YGfwmbW73JhFiemNeyzQ  2012-06-22  Gi-4O3EhE175vujbFGDIew      1   \n",
       "2353  3Srfy_VeCgwDbo4iyUFOtw  2006-08-23  K8tXedC2NMBEZ8p77zg23Q      1   \n",
       "5257  cXx-fHY11Se8rFHkkUeaUg  2009-10-27  2yHyr0N_XNZggmIfZ7JaHw      1   \n",
       "\n",
       "                                                                                                                                                                                                                                                                                                                                                                                              text  \\\n",
       "1781                                                                                                                                                                                                                                                                       If you like the stuck up Scottsdale vibe this is a good place for you. The food isn't impressive. Nice outdoor seating.   \n",
       "2353  My co-workers and I refer to this place as \"Pizza n' Ants\".  The staff will be happy to serve you with bare hands, right after using the till.  Also, as the nickname suggests, there has been a noticable insect problem. \\r\\n\\r\\n\\r\\n\\r\\nAs if that could all be overlooked, the pizza isn't even good.  If you are in this part of town, go to Z Pizza or Slices for great pizza instead!   \n",
       "5257                                                                              Remember how I said that the Trivia was the best thing about this place?  Well, they got rid of long time Triva host, Dave (who had been featured in the College Times and was the best thing about the trivia).  Without Dave's personality, this place just doesn't cut it.  Will never go here again. Bummer.   \n",
       "\n",
       "        type                 user_id  cool  useful  funny  length  sentiment  \n",
       "1781  review  Hqgx3IdJAAaoQjvrUnbNvw     0       1      2     119   0.766667  \n",
       "2353  review  rPGZttaVjRoVi3GYbs62cg     0       1      0     372   0.567143  \n",
       "5257  review  nx2PS25Qe3MCEFUdO_XOtw     2       4      0     304   0.650000  "
      ]
     },
     "execution_count": 42,
     "metadata": {},
     "output_type": "execute_result"
    }
   ],
   "source": [
    "# positive sentiment in a 1-star review\n",
    "yelp[(yelp.stars == 1) & (yelp.sentiment > 0.5)].head(3)"
   ]
  },
  {
   "cell_type": "code",
   "execution_count": 55,
   "metadata": {
    "collapsed": true
   },
   "outputs": [],
   "source": [
    "# reset the column display width\n",
    "pd.reset_option('max_colwidth')"
   ]
  },
  {
   "cell_type": "markdown",
   "metadata": {},
   "source": [
    "# Fun TextBlob Features"
   ]
  },
  {
   "cell_type": "code",
<<<<<<< HEAD
   "execution_count": 29,
   "metadata": {},
=======
   "execution_count": 43,
   "metadata": {
    "collapsed": false
   },
>>>>>>> bbddb7b909690de166baff30ab064619561f0ab8
   "outputs": [
    {
     "data": {
      "text/plain": [
       "TextBlob(\"15 minutes late\")"
      ]
     },
     "execution_count": 43,
     "metadata": {},
     "output_type": "execute_result"
    }
   ],
   "source": [
    "# spelling correction\n",
    "TextBlob('15 minuets late').correct()"
   ]
  },
  {
   "cell_type": "code",
<<<<<<< HEAD
   "execution_count": 30,
   "metadata": {},
=======
   "execution_count": 44,
   "metadata": {
    "collapsed": false
   },
>>>>>>> bbddb7b909690de166baff30ab064619561f0ab8
   "outputs": [
    {
     "data": {
      "text/plain": [
       "[('part', 0.9929478138222849), (u'parrot', 0.007052186177715092)]"
      ]
     },
     "execution_count": 44,
     "metadata": {},
     "output_type": "execute_result"
    }
   ],
   "source": [
    "# spellcheck\n",
    "Word('parot').spellcheck()"
   ]
  },
  {
   "cell_type": "code",
   "execution_count": 31,
   "metadata": {},
   "outputs": [
    {
     "data": {
      "text/plain": [
       "['tip laterally',\n",
       " 'enclose with a bank',\n",
       " 'do business with a bank or keep an account at a bank',\n",
       " 'act as the banker in a game or in gambling',\n",
       " 'be in the banking business',\n",
       " 'put into a bank account',\n",
       " 'cover with ashes so to control the rate of burning',\n",
       " 'have confidence or faith in']"
      ]
     },
     "execution_count": 31,
     "metadata": {},
     "output_type": "execute_result"
    }
   ],
   "source": [
    "# definitions\n",
    "Word('bank').define('v')"
   ]
  },
  {
   "cell_type": "code",
<<<<<<< HEAD
   "execution_count": 32,
   "metadata": {},
=======
   "execution_count": 45,
   "metadata": {
    "collapsed": false
   },
>>>>>>> bbddb7b909690de166baff30ab064619561f0ab8
   "outputs": [
    {
     "data": {
      "text/plain": [
       "u'es'"
      ]
     },
     "execution_count": 45,
     "metadata": {},
     "output_type": "execute_result"
    }
   ],
   "source": [
    "# language identification\n",
    "TextBlob('Hola amigos').detect_language()"
   ]
  },
  {
   "cell_type": "markdown",
   "metadata": {},
   "source": [
    "## Conclusion\n",
    "\n",
    "- NLP is a gigantic field\n",
    "- Understanding the basics broadens the types of data you can work with\n",
    "- Simple techniques go a long way\n",
    "- Use scikit-learn for NLP whenever possible"
   ]
  }
 ],
 "metadata": {
  "anaconda-cloud": {},
  "kernelspec": {
<<<<<<< HEAD
   "display_name": "Python 2",
   "language": "python",
   "name": "python2"
=======
   "display_name": "Python [Root]",
   "language": "python",
   "name": "Python [Root]"
>>>>>>> bbddb7b909690de166baff30ab064619561f0ab8
  },
  "language_info": {
   "codemirror_mode": {
    "name": "ipython",
    "version": 2
   },
   "file_extension": ".py",
   "mimetype": "text/x-python",
   "name": "python",
   "nbconvert_exporter": "python",
   "pygments_lexer": "ipython2",
<<<<<<< HEAD
   "version": "2.7.14"
=======
   "version": "2.7.12"
>>>>>>> bbddb7b909690de166baff30ab064619561f0ab8
  }
 },
 "nbformat": 4,
 "nbformat_minor": 1
}
