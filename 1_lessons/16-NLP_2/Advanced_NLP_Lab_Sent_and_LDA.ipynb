{
 "cells": [
  {
   "cell_type": "markdown",
   "metadata": {},
   "source": [
    "# Advanced NLP Lab - Airline Tweets"
   ]
  },
  {
   "cell_type": "code",
   "execution_count": 1,
   "metadata": {
    "collapsed": true
   },
   "outputs": [],
   "source": [
    "import pandas as pd\n",
    "import numpy as np\n",
    "import scipy as sp\n",
    "from sklearn.model_selection import train_test_split\n",
    "from sklearn.feature_extraction.text import CountVectorizer, TfidfVectorizer\n",
    "from sklearn.naive_bayes import MultinomialNB\n",
    "from sklearn.linear_model import LogisticRegression\n",
    "from sklearn import metrics\n",
    "from textblob import TextBlob, Word\n",
    "from nltk.stem.snowball import SnowballStemmer\n",
    "%matplotlib inline"
   ]
  },
  {
   "cell_type": "code",
   "execution_count": 2,
<<<<<<< HEAD
   "metadata": {},
=======
   "metadata": {
    "collapsed": false
   },
>>>>>>> bbddb7b909690de166baff30ab064619561f0ab8
   "outputs": [],
   "source": [
    "tweets = pd.read_csv('../../2_dataset/Tweets.csv')"
   ]
  },
  {
   "cell_type": "code",
   "execution_count": 3,
<<<<<<< HEAD
   "metadata": {},
=======
   "metadata": {
    "collapsed": false
   },
>>>>>>> bbddb7b909690de166baff30ab064619561f0ab8
   "outputs": [
    {
     "data": {
      "text/html": [
       "<div>\n",
<<<<<<< HEAD
       "<style>\n",
       "    .dataframe thead tr:only-child th {\n",
       "        text-align: right;\n",
       "    }\n",
       "\n",
       "    .dataframe thead th {\n",
       "        text-align: left;\n",
       "    }\n",
       "\n",
       "    .dataframe tbody tr th {\n",
       "        vertical-align: top;\n",
       "    }\n",
       "</style>\n",
=======
>>>>>>> bbddb7b909690de166baff30ab064619561f0ab8
       "<table border=\"1\" class=\"dataframe\">\n",
       "  <thead>\n",
       "    <tr style=\"text-align: right;\">\n",
       "      <th></th>\n",
       "      <th>tweet_id</th>\n",
       "      <th>airline_sentiment</th>\n",
       "      <th>airline_sentiment_confidence</th>\n",
       "      <th>negativereason</th>\n",
       "      <th>negativereason_confidence</th>\n",
       "      <th>airline</th>\n",
       "      <th>airline_sentiment_gold</th>\n",
       "      <th>name</th>\n",
       "      <th>negativereason_gold</th>\n",
       "      <th>retweet_count</th>\n",
       "      <th>text</th>\n",
       "      <th>tweet_coord</th>\n",
       "      <th>tweet_created</th>\n",
       "      <th>tweet_location</th>\n",
       "      <th>user_timezone</th>\n",
       "    </tr>\n",
       "  </thead>\n",
       "  <tbody>\n",
       "    <tr>\n",
       "      <th>0</th>\n",
       "      <td>570306133677760513</td>\n",
       "      <td>neutral</td>\n",
       "      <td>1.0000</td>\n",
       "      <td>NaN</td>\n",
       "      <td>NaN</td>\n",
       "      <td>Virgin America</td>\n",
       "      <td>NaN</td>\n",
       "      <td>cairdin</td>\n",
       "      <td>NaN</td>\n",
       "      <td>0</td>\n",
       "      <td>@VirginAmerica What @dhepburn said.</td>\n",
       "      <td>NaN</td>\n",
       "      <td>2015-02-24 11:35:52 -0800</td>\n",
       "      <td>NaN</td>\n",
       "      <td>Eastern Time (US &amp; Canada)</td>\n",
       "    </tr>\n",
       "    <tr>\n",
       "      <th>1</th>\n",
       "      <td>570301130888122368</td>\n",
       "      <td>positive</td>\n",
       "      <td>0.3486</td>\n",
       "      <td>NaN</td>\n",
       "      <td>0.0000</td>\n",
       "      <td>Virgin America</td>\n",
       "      <td>NaN</td>\n",
       "      <td>jnardino</td>\n",
       "      <td>NaN</td>\n",
       "      <td>0</td>\n",
       "      <td>@VirginAmerica plus you've added commercials t...</td>\n",
       "      <td>NaN</td>\n",
       "      <td>2015-02-24 11:15:59 -0800</td>\n",
       "      <td>NaN</td>\n",
       "      <td>Pacific Time (US &amp; Canada)</td>\n",
       "    </tr>\n",
       "    <tr>\n",
       "      <th>2</th>\n",
       "      <td>570301083672813571</td>\n",
       "      <td>neutral</td>\n",
       "      <td>0.6837</td>\n",
       "      <td>NaN</td>\n",
       "      <td>NaN</td>\n",
       "      <td>Virgin America</td>\n",
       "      <td>NaN</td>\n",
       "      <td>yvonnalynn</td>\n",
       "      <td>NaN</td>\n",
       "      <td>0</td>\n",
       "      <td>@VirginAmerica I didn't today... Must mean I n...</td>\n",
       "      <td>NaN</td>\n",
       "      <td>2015-02-24 11:15:48 -0800</td>\n",
       "      <td>Lets Play</td>\n",
       "      <td>Central Time (US &amp; Canada)</td>\n",
       "    </tr>\n",
       "    <tr>\n",
       "      <th>3</th>\n",
       "      <td>570301031407624196</td>\n",
       "      <td>negative</td>\n",
       "      <td>1.0000</td>\n",
       "      <td>Bad Flight</td>\n",
       "      <td>0.7033</td>\n",
       "      <td>Virgin America</td>\n",
       "      <td>NaN</td>\n",
       "      <td>jnardino</td>\n",
       "      <td>NaN</td>\n",
       "      <td>0</td>\n",
       "      <td>@VirginAmerica it's really aggressive to blast...</td>\n",
       "      <td>NaN</td>\n",
       "      <td>2015-02-24 11:15:36 -0800</td>\n",
       "      <td>NaN</td>\n",
       "      <td>Pacific Time (US &amp; Canada)</td>\n",
       "    </tr>\n",
       "    <tr>\n",
       "      <th>4</th>\n",
       "      <td>570300817074462722</td>\n",
       "      <td>negative</td>\n",
       "      <td>1.0000</td>\n",
       "      <td>Can't Tell</td>\n",
       "      <td>1.0000</td>\n",
       "      <td>Virgin America</td>\n",
       "      <td>NaN</td>\n",
       "      <td>jnardino</td>\n",
       "      <td>NaN</td>\n",
       "      <td>0</td>\n",
       "      <td>@VirginAmerica and it's a really big bad thing...</td>\n",
       "      <td>NaN</td>\n",
       "      <td>2015-02-24 11:14:45 -0800</td>\n",
       "      <td>NaN</td>\n",
       "      <td>Pacific Time (US &amp; Canada)</td>\n",
       "    </tr>\n",
       "  </tbody>\n",
       "</table>\n",
       "</div>"
      ],
      "text/plain": [
       "             tweet_id airline_sentiment  airline_sentiment_confidence  \\\n",
       "0  570306133677760513           neutral                        1.0000   \n",
       "1  570301130888122368          positive                        0.3486   \n",
       "2  570301083672813571           neutral                        0.6837   \n",
       "3  570301031407624196          negative                        1.0000   \n",
       "4  570300817074462722          negative                        1.0000   \n",
       "\n",
       "  negativereason  negativereason_confidence         airline  \\\n",
       "0            NaN                        NaN  Virgin America   \n",
       "1            NaN                     0.0000  Virgin America   \n",
       "2            NaN                        NaN  Virgin America   \n",
       "3     Bad Flight                     0.7033  Virgin America   \n",
       "4     Can't Tell                     1.0000  Virgin America   \n",
       "\n",
       "  airline_sentiment_gold        name negativereason_gold  retweet_count  \\\n",
       "0                    NaN     cairdin                 NaN              0   \n",
       "1                    NaN    jnardino                 NaN              0   \n",
       "2                    NaN  yvonnalynn                 NaN              0   \n",
       "3                    NaN    jnardino                 NaN              0   \n",
       "4                    NaN    jnardino                 NaN              0   \n",
       "\n",
       "                                                text tweet_coord  \\\n",
       "0                @VirginAmerica What @dhepburn said.         NaN   \n",
       "1  @VirginAmerica plus you've added commercials t...         NaN   \n",
       "2  @VirginAmerica I didn't today... Must mean I n...         NaN   \n",
       "3  @VirginAmerica it's really aggressive to blast...         NaN   \n",
       "4  @VirginAmerica and it's a really big bad thing...         NaN   \n",
       "\n",
       "               tweet_created tweet_location               user_timezone  \n",
       "0  2015-02-24 11:35:52 -0800            NaN  Eastern Time (US & Canada)  \n",
       "1  2015-02-24 11:15:59 -0800            NaN  Pacific Time (US & Canada)  \n",
       "2  2015-02-24 11:15:48 -0800      Lets Play  Central Time (US & Canada)  \n",
       "3  2015-02-24 11:15:36 -0800            NaN  Pacific Time (US & Canada)  \n",
       "4  2015-02-24 11:14:45 -0800            NaN  Pacific Time (US & Canada)  "
      ]
     },
     "execution_count": 3,
     "metadata": {},
     "output_type": "execute_result"
    }
   ],
   "source": [
    "tweets.head()"
   ]
  },
  {
   "cell_type": "markdown",
   "metadata": {},
   "source": [
    "# Processing"
   ]
  },
  {
   "cell_type": "code",
<<<<<<< HEAD
   "execution_count": null,
   "metadata": {},
   "outputs": [],
=======
   "execution_count": 4,
   "metadata": {
    "collapsed": false
   },
   "outputs": [
    {
     "data": {
      "text/plain": [
       "United            3822\n",
       "US Airways        2913\n",
       "American          2759\n",
       "Southwest         2420\n",
       "Delta             2222\n",
       "Virgin America     504\n",
       "Name: airline, dtype: int64"
      ]
     },
     "execution_count": 4,
     "metadata": {},
     "output_type": "execute_result"
    }
   ],
>>>>>>> bbddb7b909690de166baff30ab064619561f0ab8
   "source": [
    "# What airlines are present?\n",
    "tweets.airline.value_counts()"
   ]
  },
  {
   "cell_type": "code",
   "execution_count": null,
   "metadata": {
    "collapsed": true
   },
   "outputs": [],
   "source": [
    "# What are the twitter handles for those airlines?\n"
   ]
  },
  {
   "cell_type": "code",
   "execution_count": null,
   "metadata": {
    "collapsed": true
   },
   "outputs": [],
   "source": [
    "# Should we remove them from the text?\n",
    "\n"
   ]
  },
  {
   "cell_type": "code",
   "execution_count": 5,
   "metadata": {},
   "outputs": [
    {
     "data": {
      "text/html": [
       "<div>\n",
       "<style>\n",
       "    .dataframe thead tr:only-child th {\n",
       "        text-align: right;\n",
       "    }\n",
       "\n",
       "    .dataframe thead th {\n",
       "        text-align: left;\n",
       "    }\n",
       "\n",
       "    .dataframe tbody tr th {\n",
       "        vertical-align: top;\n",
       "    }\n",
       "</style>\n",
       "<table border=\"1\" class=\"dataframe\">\n",
       "  <thead>\n",
       "    <tr style=\"text-align: right;\">\n",
       "      <th></th>\n",
       "      <th>airline_sentiment_confidence</th>\n",
       "      <th>new_sentiment</th>\n",
       "    </tr>\n",
       "  </thead>\n",
       "  <tbody>\n",
       "    <tr>\n",
       "      <th>1</th>\n",
       "      <td>0.3486</td>\n",
       "      <td>0.000000</td>\n",
       "    </tr>\n",
       "    <tr>\n",
       "      <th>6</th>\n",
       "      <td>0.6745</td>\n",
       "      <td>0.466667</td>\n",
       "    </tr>\n",
       "    <tr>\n",
       "      <th>8</th>\n",
       "      <td>0.6559</td>\n",
       "      <td>1.000000</td>\n",
       "    </tr>\n",
       "    <tr>\n",
       "      <th>9</th>\n",
       "      <td>1.0000</td>\n",
       "      <td>0.466667</td>\n",
       "    </tr>\n",
       "    <tr>\n",
       "      <th>11</th>\n",
       "      <td>1.0000</td>\n",
       "      <td>0.412500</td>\n",
       "    </tr>\n",
       "    <tr>\n",
       "      <th>12</th>\n",
       "      <td>1.0000</td>\n",
       "      <td>0.333333</td>\n",
       "    </tr>\n",
       "    <tr>\n",
       "      <th>13</th>\n",
       "      <td>0.6451</td>\n",
       "      <td>0.500000</td>\n",
       "    </tr>\n",
       "    <tr>\n",
       "      <th>14</th>\n",
       "      <td>1.0000</td>\n",
       "      <td>0.250000</td>\n",
       "    </tr>\n",
       "    <tr>\n",
       "      <th>16</th>\n",
       "      <td>1.0000</td>\n",
       "      <td>0.356250</td>\n",
       "    </tr>\n",
       "    <tr>\n",
       "      <th>18</th>\n",
       "      <td>1.0000</td>\n",
       "      <td>0.000000</td>\n",
       "    </tr>\n",
       "    <tr>\n",
       "      <th>19</th>\n",
       "      <td>1.0000</td>\n",
       "      <td>0.600000</td>\n",
       "    </tr>\n",
       "    <tr>\n",
       "      <th>21</th>\n",
       "      <td>1.0000</td>\n",
       "      <td>0.250000</td>\n",
       "    </tr>\n",
       "    <tr>\n",
       "      <th>22</th>\n",
       "      <td>1.0000</td>\n",
       "      <td>0.600000</td>\n",
       "    </tr>\n",
       "    <tr>\n",
       "      <th>34</th>\n",
       "      <td>1.0000</td>\n",
       "      <td>1.000000</td>\n",
       "    </tr>\n",
       "    <tr>\n",
       "      <th>36</th>\n",
       "      <td>1.0000</td>\n",
       "      <td>0.587500</td>\n",
       "    </tr>\n",
       "    <tr>\n",
       "      <th>37</th>\n",
       "      <td>1.0000</td>\n",
       "      <td>0.402778</td>\n",
       "    </tr>\n",
       "    <tr>\n",
       "      <th>40</th>\n",
       "      <td>0.6639</td>\n",
       "      <td>0.000000</td>\n",
       "    </tr>\n",
       "    <tr>\n",
       "      <th>45</th>\n",
       "      <td>1.0000</td>\n",
       "      <td>1.000000</td>\n",
       "    </tr>\n",
       "    <tr>\n",
       "      <th>47</th>\n",
       "      <td>1.0000</td>\n",
       "      <td>0.100000</td>\n",
       "    </tr>\n",
       "    <tr>\n",
       "      <th>51</th>\n",
       "      <td>0.6570</td>\n",
       "      <td>1.000000</td>\n",
       "    </tr>\n",
       "    <tr>\n",
       "      <th>56</th>\n",
       "      <td>1.0000</td>\n",
       "      <td>0.000000</td>\n",
       "    </tr>\n",
       "    <tr>\n",
       "      <th>57</th>\n",
       "      <td>0.6350</td>\n",
       "      <td>0.750000</td>\n",
       "    </tr>\n",
       "    <tr>\n",
       "      <th>64</th>\n",
       "      <td>1.0000</td>\n",
       "      <td>0.375000</td>\n",
       "    </tr>\n",
       "    <tr>\n",
       "      <th>68</th>\n",
       "      <td>0.6922</td>\n",
       "      <td>0.750000</td>\n",
       "    </tr>\n",
       "    <tr>\n",
       "      <th>74</th>\n",
       "      <td>1.0000</td>\n",
       "      <td>0.578788</td>\n",
       "    </tr>\n",
       "    <tr>\n",
       "      <th>75</th>\n",
       "      <td>1.0000</td>\n",
       "      <td>1.000000</td>\n",
       "    </tr>\n",
       "    <tr>\n",
       "      <th>81</th>\n",
       "      <td>1.0000</td>\n",
       "      <td>0.375000</td>\n",
       "    </tr>\n",
       "    <tr>\n",
       "      <th>105</th>\n",
       "      <td>1.0000</td>\n",
       "      <td>0.875000</td>\n",
       "    </tr>\n",
       "    <tr>\n",
       "      <th>109</th>\n",
       "      <td>0.6823</td>\n",
       "      <td>0.350000</td>\n",
       "    </tr>\n",
       "    <tr>\n",
       "      <th>111</th>\n",
       "      <td>0.6806</td>\n",
       "      <td>0.350000</td>\n",
       "    </tr>\n",
       "    <tr>\n",
       "      <th>...</th>\n",
       "      <td>...</td>\n",
       "      <td>...</td>\n",
       "    </tr>\n",
       "    <tr>\n",
       "      <th>14325</th>\n",
       "      <td>1.0000</td>\n",
       "      <td>0.218750</td>\n",
       "    </tr>\n",
       "    <tr>\n",
       "      <th>14336</th>\n",
       "      <td>1.0000</td>\n",
       "      <td>-0.375000</td>\n",
       "    </tr>\n",
       "    <tr>\n",
       "      <th>14360</th>\n",
       "      <td>0.6851</td>\n",
       "      <td>0.000000</td>\n",
       "    </tr>\n",
       "    <tr>\n",
       "      <th>14363</th>\n",
       "      <td>1.0000</td>\n",
       "      <td>0.150000</td>\n",
       "    </tr>\n",
       "    <tr>\n",
       "      <th>14374</th>\n",
       "      <td>1.0000</td>\n",
       "      <td>0.625000</td>\n",
       "    </tr>\n",
       "    <tr>\n",
       "      <th>14382</th>\n",
       "      <td>0.6779</td>\n",
       "      <td>0.000000</td>\n",
       "    </tr>\n",
       "    <tr>\n",
       "      <th>14383</th>\n",
       "      <td>1.0000</td>\n",
       "      <td>0.500000</td>\n",
       "    </tr>\n",
       "    <tr>\n",
       "      <th>14391</th>\n",
       "      <td>1.0000</td>\n",
       "      <td>0.600000</td>\n",
       "    </tr>\n",
       "    <tr>\n",
       "      <th>14415</th>\n",
       "      <td>1.0000</td>\n",
       "      <td>0.500000</td>\n",
       "    </tr>\n",
       "    <tr>\n",
       "      <th>14423</th>\n",
       "      <td>1.0000</td>\n",
       "      <td>0.500000</td>\n",
       "    </tr>\n",
       "    <tr>\n",
       "      <th>14430</th>\n",
       "      <td>1.0000</td>\n",
       "      <td>0.700000</td>\n",
       "    </tr>\n",
       "    <tr>\n",
       "      <th>14468</th>\n",
       "      <td>1.0000</td>\n",
       "      <td>0.300000</td>\n",
       "    </tr>\n",
       "    <tr>\n",
       "      <th>14478</th>\n",
       "      <td>1.0000</td>\n",
       "      <td>0.400000</td>\n",
       "    </tr>\n",
       "    <tr>\n",
       "      <th>14481</th>\n",
       "      <td>1.0000</td>\n",
       "      <td>0.250000</td>\n",
       "    </tr>\n",
       "    <tr>\n",
       "      <th>14490</th>\n",
       "      <td>1.0000</td>\n",
       "      <td>1.000000</td>\n",
       "    </tr>\n",
       "    <tr>\n",
       "      <th>14511</th>\n",
       "      <td>0.6593</td>\n",
       "      <td>0.250000</td>\n",
       "    </tr>\n",
       "    <tr>\n",
       "      <th>14529</th>\n",
       "      <td>0.6401</td>\n",
       "      <td>-0.062500</td>\n",
       "    </tr>\n",
       "    <tr>\n",
       "      <th>14530</th>\n",
       "      <td>0.3646</td>\n",
       "      <td>0.087500</td>\n",
       "    </tr>\n",
       "    <tr>\n",
       "      <th>14541</th>\n",
       "      <td>1.0000</td>\n",
       "      <td>0.073438</td>\n",
       "    </tr>\n",
       "    <tr>\n",
       "      <th>14547</th>\n",
       "      <td>1.0000</td>\n",
       "      <td>0.250000</td>\n",
       "    </tr>\n",
       "    <tr>\n",
       "      <th>14548</th>\n",
       "      <td>0.6868</td>\n",
       "      <td>0.500000</td>\n",
       "    </tr>\n",
       "    <tr>\n",
       "      <th>14556</th>\n",
       "      <td>1.0000</td>\n",
       "      <td>0.000000</td>\n",
       "    </tr>\n",
       "    <tr>\n",
       "      <th>14590</th>\n",
       "      <td>0.6566</td>\n",
       "      <td>-0.054167</td>\n",
       "    </tr>\n",
       "    <tr>\n",
       "      <th>14617</th>\n",
       "      <td>1.0000</td>\n",
       "      <td>0.100000</td>\n",
       "    </tr>\n",
       "    <tr>\n",
       "      <th>14619</th>\n",
       "      <td>1.0000</td>\n",
       "      <td>0.250000</td>\n",
       "    </tr>\n",
       "    <tr>\n",
       "      <th>14623</th>\n",
       "      <td>0.6274</td>\n",
       "      <td>0.318182</td>\n",
       "    </tr>\n",
       "    <tr>\n",
       "      <th>14625</th>\n",
       "      <td>1.0000</td>\n",
       "      <td>0.600000</td>\n",
       "    </tr>\n",
       "    <tr>\n",
       "      <th>14628</th>\n",
       "      <td>1.0000</td>\n",
       "      <td>0.050000</td>\n",
       "    </tr>\n",
       "    <tr>\n",
       "      <th>14630</th>\n",
       "      <td>1.0000</td>\n",
       "      <td>0.250000</td>\n",
       "    </tr>\n",
       "    <tr>\n",
       "      <th>14635</th>\n",
       "      <td>0.3487</td>\n",
       "      <td>0.000000</td>\n",
       "    </tr>\n",
       "  </tbody>\n",
       "</table>\n",
       "<p>2363 rows × 2 columns</p>\n",
       "</div>"
      ],
      "text/plain": [
       "       airline_sentiment_confidence  new_sentiment\n",
       "1                            0.3486       0.000000\n",
       "6                            0.6745       0.466667\n",
       "8                            0.6559       1.000000\n",
       "9                            1.0000       0.466667\n",
       "11                           1.0000       0.412500\n",
       "12                           1.0000       0.333333\n",
       "13                           0.6451       0.500000\n",
       "14                           1.0000       0.250000\n",
       "16                           1.0000       0.356250\n",
       "18                           1.0000       0.000000\n",
       "19                           1.0000       0.600000\n",
       "21                           1.0000       0.250000\n",
       "22                           1.0000       0.600000\n",
       "34                           1.0000       1.000000\n",
       "36                           1.0000       0.587500\n",
       "37                           1.0000       0.402778\n",
       "40                           0.6639       0.000000\n",
       "45                           1.0000       1.000000\n",
       "47                           1.0000       0.100000\n",
       "51                           0.6570       1.000000\n",
       "56                           1.0000       0.000000\n",
       "57                           0.6350       0.750000\n",
       "64                           1.0000       0.375000\n",
       "68                           0.6922       0.750000\n",
       "74                           1.0000       0.578788\n",
       "75                           1.0000       1.000000\n",
       "81                           1.0000       0.375000\n",
       "105                          1.0000       0.875000\n",
       "109                          0.6823       0.350000\n",
       "111                          0.6806       0.350000\n",
       "...                             ...            ...\n",
       "14325                        1.0000       0.218750\n",
       "14336                        1.0000      -0.375000\n",
       "14360                        0.6851       0.000000\n",
       "14363                        1.0000       0.150000\n",
       "14374                        1.0000       0.625000\n",
       "14382                        0.6779       0.000000\n",
       "14383                        1.0000       0.500000\n",
       "14391                        1.0000       0.600000\n",
       "14415                        1.0000       0.500000\n",
       "14423                        1.0000       0.500000\n",
       "14430                        1.0000       0.700000\n",
       "14468                        1.0000       0.300000\n",
       "14478                        1.0000       0.400000\n",
       "14481                        1.0000       0.250000\n",
       "14490                        1.0000       1.000000\n",
       "14511                        0.6593       0.250000\n",
       "14529                        0.6401      -0.062500\n",
       "14530                        0.3646       0.087500\n",
       "14541                        1.0000       0.073438\n",
       "14547                        1.0000       0.250000\n",
       "14548                        0.6868       0.500000\n",
       "14556                        1.0000       0.000000\n",
       "14590                        0.6566      -0.054167\n",
       "14617                        1.0000       0.100000\n",
       "14619                        1.0000       0.250000\n",
       "14623                        0.6274       0.318182\n",
       "14625                        1.0000       0.600000\n",
       "14628                        1.0000       0.050000\n",
       "14630                        1.0000       0.250000\n",
       "14635                        0.3487       0.000000\n",
       "\n",
       "[2363 rows x 2 columns]"
      ]
     },
     "execution_count": 5,
     "metadata": {},
     "output_type": "execute_result"
    }
   ],
   "source": [
    "tweets[tweets.airline_sentiment == 'positive'][['airline_sentiment_confidence','new_sentiment']]"
   ]
  },
  {
   "cell_type": "code",
   "execution_count": 7,
   "metadata": {},
   "outputs": [],
   "source": [
    "tweets['new_sentiment'] = tweets.text.apply(lambda x: TextBlob(x.decode('utf-8')).sentiment.polarity)\n"
   ]
  },
  {
   "cell_type": "markdown",
   "metadata": {},
   "source": [
    "# Sentiment Analysis with Textblob"
   ]
  },
  {
   "cell_type": "code",
   "execution_count": 6,
   "metadata": {
    "collapsed": false
   },
   "outputs": [
    {
     "data": {
      "text/plain": [
       "'@VirginAmerica What @dhepburn said.'"
      ]
     },
     "execution_count": 6,
     "metadata": {},
     "output_type": "execute_result"
    }
   ],
   "source": [
    "# Evaluate the sentiment of each tweet using textblob\n",
    "tweets.text[0]"
   ]
  },
  {
   "cell_type": "code",
   "execution_count": 9,
   "metadata": {
    "collapsed": false
   },
   "outputs": [
    {
     "data": {
      "text/plain": [
       "0.0"
      ]
     },
     "execution_count": 9,
     "metadata": {},
     "output_type": "execute_result"
    }
   ],
   "source": [
    "TextBlob(tweets.text[0]).sentiment.polarity"
   ]
  },
  {
   "cell_type": "code",
   "execution_count": 11,
   "metadata": {
    "collapsed": false
   },
   "outputs": [],
   "source": [
    "tweets['new_sentiment'] = tweets.text.apply(lambda x: TextBlob(x.decode('utf-8')).sentiment.polarity)"
   ]
  },
  {
   "cell_type": "code",
   "execution_count": null,
   "metadata": {
    "collapsed": true
   },
   "outputs": [],
   "source": [
    "# Create evaluation formula\n"
   ]
  },
  {
   "cell_type": "code",
   "execution_count": null,
   "metadata": {
    "collapsed": true
   },
   "outputs": [],
   "source": [
    "# Apply "
   ]
  },
  {
   "cell_type": "code",
   "execution_count": null,
   "metadata": {
    "collapsed": true
   },
   "outputs": [],
   "source": []
  },
  {
   "cell_type": "code",
   "execution_count": null,
   "metadata": {
    "collapsed": true
   },
   "outputs": [],
   "source": [
    "# Evaluate"
   ]
  },
  {
   "cell_type": "code",
   "execution_count": 13,
   "metadata": {
    "collapsed": false
   },
   "outputs": [
    {
     "data": {
      "text/html": [
       "<div>\n",
       "<table border=\"1\" class=\"dataframe\">\n",
       "  <thead>\n",
       "    <tr style=\"text-align: right;\">\n",
       "      <th></th>\n",
       "      <th>airline_sentiment_confidence</th>\n",
       "      <th>new_sentiment</th>\n",
       "    </tr>\n",
       "  </thead>\n",
       "  <tbody>\n",
       "    <tr>\n",
       "      <th>1</th>\n",
       "      <td>0.3486</td>\n",
       "      <td>0.000000</td>\n",
       "    </tr>\n",
       "    <tr>\n",
       "      <th>6</th>\n",
       "      <td>0.6745</td>\n",
       "      <td>0.466667</td>\n",
       "    </tr>\n",
       "    <tr>\n",
       "      <th>8</th>\n",
       "      <td>0.6559</td>\n",
       "      <td>1.000000</td>\n",
       "    </tr>\n",
       "    <tr>\n",
       "      <th>9</th>\n",
       "      <td>1.0000</td>\n",
       "      <td>0.466667</td>\n",
       "    </tr>\n",
       "    <tr>\n",
       "      <th>11</th>\n",
       "      <td>1.0000</td>\n",
       "      <td>0.412500</td>\n",
       "    </tr>\n",
       "    <tr>\n",
       "      <th>12</th>\n",
       "      <td>1.0000</td>\n",
       "      <td>0.333333</td>\n",
       "    </tr>\n",
       "    <tr>\n",
       "      <th>13</th>\n",
       "      <td>0.6451</td>\n",
       "      <td>0.500000</td>\n",
       "    </tr>\n",
       "    <tr>\n",
       "      <th>14</th>\n",
       "      <td>1.0000</td>\n",
       "      <td>0.250000</td>\n",
       "    </tr>\n",
       "    <tr>\n",
       "      <th>16</th>\n",
       "      <td>1.0000</td>\n",
       "      <td>0.356250</td>\n",
       "    </tr>\n",
       "    <tr>\n",
       "      <th>18</th>\n",
       "      <td>1.0000</td>\n",
       "      <td>0.000000</td>\n",
       "    </tr>\n",
       "    <tr>\n",
       "      <th>19</th>\n",
       "      <td>1.0000</td>\n",
       "      <td>0.600000</td>\n",
       "    </tr>\n",
       "    <tr>\n",
       "      <th>21</th>\n",
       "      <td>1.0000</td>\n",
       "      <td>0.250000</td>\n",
       "    </tr>\n",
       "    <tr>\n",
       "      <th>22</th>\n",
       "      <td>1.0000</td>\n",
       "      <td>0.600000</td>\n",
       "    </tr>\n",
       "    <tr>\n",
       "      <th>34</th>\n",
       "      <td>1.0000</td>\n",
       "      <td>1.000000</td>\n",
       "    </tr>\n",
       "    <tr>\n",
       "      <th>36</th>\n",
       "      <td>1.0000</td>\n",
       "      <td>0.587500</td>\n",
       "    </tr>\n",
       "    <tr>\n",
       "      <th>37</th>\n",
       "      <td>1.0000</td>\n",
       "      <td>0.402778</td>\n",
       "    </tr>\n",
       "    <tr>\n",
       "      <th>40</th>\n",
       "      <td>0.6639</td>\n",
       "      <td>0.000000</td>\n",
       "    </tr>\n",
       "    <tr>\n",
       "      <th>45</th>\n",
       "      <td>1.0000</td>\n",
       "      <td>1.000000</td>\n",
       "    </tr>\n",
       "    <tr>\n",
       "      <th>47</th>\n",
       "      <td>1.0000</td>\n",
       "      <td>0.100000</td>\n",
       "    </tr>\n",
       "    <tr>\n",
       "      <th>51</th>\n",
       "      <td>0.6570</td>\n",
       "      <td>1.000000</td>\n",
       "    </tr>\n",
       "    <tr>\n",
       "      <th>56</th>\n",
       "      <td>1.0000</td>\n",
       "      <td>0.000000</td>\n",
       "    </tr>\n",
       "    <tr>\n",
       "      <th>57</th>\n",
       "      <td>0.6350</td>\n",
       "      <td>0.750000</td>\n",
       "    </tr>\n",
       "    <tr>\n",
       "      <th>64</th>\n",
       "      <td>1.0000</td>\n",
       "      <td>0.375000</td>\n",
       "    </tr>\n",
       "    <tr>\n",
       "      <th>68</th>\n",
       "      <td>0.6922</td>\n",
       "      <td>0.750000</td>\n",
       "    </tr>\n",
       "    <tr>\n",
       "      <th>74</th>\n",
       "      <td>1.0000</td>\n",
       "      <td>0.578788</td>\n",
       "    </tr>\n",
       "    <tr>\n",
       "      <th>75</th>\n",
       "      <td>1.0000</td>\n",
       "      <td>1.000000</td>\n",
       "    </tr>\n",
       "    <tr>\n",
       "      <th>81</th>\n",
       "      <td>1.0000</td>\n",
       "      <td>0.375000</td>\n",
       "    </tr>\n",
       "    <tr>\n",
       "      <th>105</th>\n",
       "      <td>1.0000</td>\n",
       "      <td>0.875000</td>\n",
       "    </tr>\n",
       "    <tr>\n",
       "      <th>109</th>\n",
       "      <td>0.6823</td>\n",
       "      <td>0.350000</td>\n",
       "    </tr>\n",
       "    <tr>\n",
       "      <th>111</th>\n",
       "      <td>0.6806</td>\n",
       "      <td>0.350000</td>\n",
       "    </tr>\n",
       "    <tr>\n",
       "      <th>...</th>\n",
       "      <td>...</td>\n",
       "      <td>...</td>\n",
       "    </tr>\n",
       "    <tr>\n",
       "      <th>14325</th>\n",
       "      <td>1.0000</td>\n",
       "      <td>0.218750</td>\n",
       "    </tr>\n",
       "    <tr>\n",
       "      <th>14336</th>\n",
       "      <td>1.0000</td>\n",
       "      <td>-0.375000</td>\n",
       "    </tr>\n",
       "    <tr>\n",
       "      <th>14360</th>\n",
       "      <td>0.6851</td>\n",
       "      <td>0.000000</td>\n",
       "    </tr>\n",
       "    <tr>\n",
       "      <th>14363</th>\n",
       "      <td>1.0000</td>\n",
       "      <td>0.150000</td>\n",
       "    </tr>\n",
       "    <tr>\n",
       "      <th>14374</th>\n",
       "      <td>1.0000</td>\n",
       "      <td>0.625000</td>\n",
       "    </tr>\n",
       "    <tr>\n",
       "      <th>14382</th>\n",
       "      <td>0.6779</td>\n",
       "      <td>0.000000</td>\n",
       "    </tr>\n",
       "    <tr>\n",
       "      <th>14383</th>\n",
       "      <td>1.0000</td>\n",
       "      <td>0.500000</td>\n",
       "    </tr>\n",
       "    <tr>\n",
       "      <th>14391</th>\n",
       "      <td>1.0000</td>\n",
       "      <td>0.600000</td>\n",
       "    </tr>\n",
       "    <tr>\n",
       "      <th>14415</th>\n",
       "      <td>1.0000</td>\n",
       "      <td>0.500000</td>\n",
       "    </tr>\n",
       "    <tr>\n",
       "      <th>14423</th>\n",
       "      <td>1.0000</td>\n",
       "      <td>0.500000</td>\n",
       "    </tr>\n",
       "    <tr>\n",
       "      <th>14430</th>\n",
       "      <td>1.0000</td>\n",
       "      <td>0.700000</td>\n",
       "    </tr>\n",
       "    <tr>\n",
       "      <th>14468</th>\n",
       "      <td>1.0000</td>\n",
       "      <td>0.300000</td>\n",
       "    </tr>\n",
       "    <tr>\n",
       "      <th>14478</th>\n",
       "      <td>1.0000</td>\n",
       "      <td>0.400000</td>\n",
       "    </tr>\n",
       "    <tr>\n",
       "      <th>14481</th>\n",
       "      <td>1.0000</td>\n",
       "      <td>0.250000</td>\n",
       "    </tr>\n",
       "    <tr>\n",
       "      <th>14490</th>\n",
       "      <td>1.0000</td>\n",
       "      <td>1.000000</td>\n",
       "    </tr>\n",
       "    <tr>\n",
       "      <th>14511</th>\n",
       "      <td>0.6593</td>\n",
       "      <td>0.250000</td>\n",
       "    </tr>\n",
       "    <tr>\n",
       "      <th>14529</th>\n",
       "      <td>0.6401</td>\n",
       "      <td>-0.062500</td>\n",
       "    </tr>\n",
       "    <tr>\n",
       "      <th>14530</th>\n",
       "      <td>0.3646</td>\n",
       "      <td>0.087500</td>\n",
       "    </tr>\n",
       "    <tr>\n",
       "      <th>14541</th>\n",
       "      <td>1.0000</td>\n",
       "      <td>0.073438</td>\n",
       "    </tr>\n",
       "    <tr>\n",
       "      <th>14547</th>\n",
       "      <td>1.0000</td>\n",
       "      <td>0.250000</td>\n",
       "    </tr>\n",
       "    <tr>\n",
       "      <th>14548</th>\n",
       "      <td>0.6868</td>\n",
       "      <td>0.500000</td>\n",
       "    </tr>\n",
       "    <tr>\n",
       "      <th>14556</th>\n",
       "      <td>1.0000</td>\n",
       "      <td>0.000000</td>\n",
       "    </tr>\n",
       "    <tr>\n",
       "      <th>14590</th>\n",
       "      <td>0.6566</td>\n",
       "      <td>-0.054167</td>\n",
       "    </tr>\n",
       "    <tr>\n",
       "      <th>14617</th>\n",
       "      <td>1.0000</td>\n",
       "      <td>0.100000</td>\n",
       "    </tr>\n",
       "    <tr>\n",
       "      <th>14619</th>\n",
       "      <td>1.0000</td>\n",
       "      <td>0.250000</td>\n",
       "    </tr>\n",
       "    <tr>\n",
       "      <th>14623</th>\n",
       "      <td>0.6274</td>\n",
       "      <td>0.318182</td>\n",
       "    </tr>\n",
       "    <tr>\n",
       "      <th>14625</th>\n",
       "      <td>1.0000</td>\n",
       "      <td>0.600000</td>\n",
       "    </tr>\n",
       "    <tr>\n",
       "      <th>14628</th>\n",
       "      <td>1.0000</td>\n",
       "      <td>0.050000</td>\n",
       "    </tr>\n",
       "    <tr>\n",
       "      <th>14630</th>\n",
       "      <td>1.0000</td>\n",
       "      <td>0.250000</td>\n",
       "    </tr>\n",
       "    <tr>\n",
       "      <th>14635</th>\n",
       "      <td>0.3487</td>\n",
       "      <td>0.000000</td>\n",
       "    </tr>\n",
       "  </tbody>\n",
       "</table>\n",
       "<p>2363 rows × 2 columns</p>\n",
       "</div>"
      ],
      "text/plain": [
       "       airline_sentiment_confidence  new_sentiment\n",
       "1                            0.3486       0.000000\n",
       "6                            0.6745       0.466667\n",
       "8                            0.6559       1.000000\n",
       "9                            1.0000       0.466667\n",
       "11                           1.0000       0.412500\n",
       "12                           1.0000       0.333333\n",
       "13                           0.6451       0.500000\n",
       "14                           1.0000       0.250000\n",
       "16                           1.0000       0.356250\n",
       "18                           1.0000       0.000000\n",
       "19                           1.0000       0.600000\n",
       "21                           1.0000       0.250000\n",
       "22                           1.0000       0.600000\n",
       "34                           1.0000       1.000000\n",
       "36                           1.0000       0.587500\n",
       "37                           1.0000       0.402778\n",
       "40                           0.6639       0.000000\n",
       "45                           1.0000       1.000000\n",
       "47                           1.0000       0.100000\n",
       "51                           0.6570       1.000000\n",
       "56                           1.0000       0.000000\n",
       "57                           0.6350       0.750000\n",
       "64                           1.0000       0.375000\n",
       "68                           0.6922       0.750000\n",
       "74                           1.0000       0.578788\n",
       "75                           1.0000       1.000000\n",
       "81                           1.0000       0.375000\n",
       "105                          1.0000       0.875000\n",
       "109                          0.6823       0.350000\n",
       "111                          0.6806       0.350000\n",
       "...                             ...            ...\n",
       "14325                        1.0000       0.218750\n",
       "14336                        1.0000      -0.375000\n",
       "14360                        0.6851       0.000000\n",
       "14363                        1.0000       0.150000\n",
       "14374                        1.0000       0.625000\n",
       "14382                        0.6779       0.000000\n",
       "14383                        1.0000       0.500000\n",
       "14391                        1.0000       0.600000\n",
       "14415                        1.0000       0.500000\n",
       "14423                        1.0000       0.500000\n",
       "14430                        1.0000       0.700000\n",
       "14468                        1.0000       0.300000\n",
       "14478                        1.0000       0.400000\n",
       "14481                        1.0000       0.250000\n",
       "14490                        1.0000       1.000000\n",
       "14511                        0.6593       0.250000\n",
       "14529                        0.6401      -0.062500\n",
       "14530                        0.3646       0.087500\n",
       "14541                        1.0000       0.073438\n",
       "14547                        1.0000       0.250000\n",
       "14548                        0.6868       0.500000\n",
       "14556                        1.0000       0.000000\n",
       "14590                        0.6566      -0.054167\n",
       "14617                        1.0000       0.100000\n",
       "14619                        1.0000       0.250000\n",
       "14623                        0.6274       0.318182\n",
       "14625                        1.0000       0.600000\n",
       "14628                        1.0000       0.050000\n",
       "14630                        1.0000       0.250000\n",
       "14635                        0.3487       0.000000\n",
       "\n",
       "[2363 rows x 2 columns]"
      ]
     },
     "execution_count": 13,
     "metadata": {},
     "output_type": "execute_result"
    }
   ],
   "source": [
    "tweets[tweets.airline_sentiment == 'positive'][['airline_sentiment_confidence','new_sentiment']]"
   ]
  },
  {
   "cell_type": "code",
   "execution_count": 16,
   "metadata": {
    "collapsed": false
   },
   "outputs": [
    {
     "data": {
      "text/plain": [
       "'@AmericanAir flights have been on time Late Flightly though!'"
      ]
     },
     "execution_count": 16,
     "metadata": {},
     "output_type": "execute_result"
    }
   ],
   "source": [
    "tweets.iloc[14336].text"
   ]
  },
  {
   "cell_type": "markdown",
   "metadata": {},
   "source": [
    "# Roll your own Sentiment Analysis Model"
   ]
  },
  {
   "cell_type": "code",
   "execution_count": null,
   "metadata": {
    "collapsed": true
   },
   "outputs": [],
   "source": [
    "#Convert Sentiment to Binary"
   ]
  },
  {
   "cell_type": "code",
   "execution_count": null,
   "metadata": {
    "collapsed": true
   },
   "outputs": [],
   "source": [
    "# Train Test Split"
   ]
  },
  {
   "cell_type": "code",
   "execution_count": null,
   "metadata": {
    "collapsed": true
   },
   "outputs": [],
   "source": [
    "# Vectorize as you see fit (TF-IDF? Count?)"
   ]
  },
  {
   "cell_type": "code",
   "execution_count": null,
   "metadata": {
    "collapsed": true
   },
   "outputs": [],
   "source": [
    "# Pick a model"
   ]
  },
  {
   "cell_type": "code",
   "execution_count": null,
   "metadata": {
    "collapsed": true
   },
   "outputs": [],
   "source": [
    "# Train your model"
   ]
  },
  {
   "cell_type": "code",
   "execution_count": null,
   "metadata": {
    "collapsed": true
   },
   "outputs": [],
   "source": [
    "# Evaluate on testing set"
   ]
  },
  {
   "cell_type": "code",
   "execution_count": null,
   "metadata": {
    "collapsed": true
   },
   "outputs": [],
   "source": [
    "# Compare to Text Blob / Airline Sentiment"
   ]
  },
  {
   "cell_type": "markdown",
   "metadata": {},
   "source": [
    "# Topic Modeling"
   ]
  },
  {
   "cell_type": "code",
<<<<<<< HEAD
   "execution_count": 8,
   "metadata": {},
=======
   "execution_count": 17,
   "metadata": {
    "collapsed": false
   },
>>>>>>> bbddb7b909690de166baff30ab064619561f0ab8
   "outputs": [
    {
     "name": "stdout",
     "output_type": "stream",
     "text": [
      "10\n"
     ]
    },
    {
     "data": {
      "text/plain": [
       "Customer Service Issue         2910\n",
       "Late Flight                    1665\n",
       "Can't Tell                     1190\n",
       "Cancelled Flight                847\n",
       "Lost Luggage                    724\n",
       "Bad Flight                      580\n",
       "Flight Booking Problems         529\n",
       "Flight Attendant Complaints     481\n",
       "longlines                       178\n",
       "Damaged Luggage                  74\n",
       "Name: negativereason, dtype: int64"
      ]
     },
<<<<<<< HEAD
     "execution_count": 8,
=======
     "execution_count": 17,
>>>>>>> bbddb7b909690de166baff30ab064619561f0ab8
     "metadata": {},
     "output_type": "execute_result"
    }
   ],
   "source": [
    "# What topics have our airlines picked?\n",
    "print(len(set(tweets.negativereason.tolist()))-1)\n",
    "tweets.negativereason.value_counts()"
   ]
  },
  {
   "cell_type": "markdown",
   "metadata": {},
   "source": [
    "### Can we do better? Lets try LDA:"
   ]
  },
  {
   "cell_type": "code",
<<<<<<< HEAD
   "execution_count": 9,
=======
   "execution_count": 18,
>>>>>>> bbddb7b909690de166baff30ab064619561f0ab8
   "metadata": {
    "collapsed": true
   },
   "outputs": [],
   "source": [
    "from sklearn.decomposition import LatentDirichletAllocation"
   ]
  },
  {
   "cell_type": "code",
   "execution_count": 10,
   "metadata": {
    "collapsed": true
   },
   "outputs": [],
   "source": [
    "# Vectorize Text"
   ]
  },
  {
   "cell_type": "code",
<<<<<<< HEAD
   "execution_count": 11,
=======
   "execution_count": 19,
>>>>>>> bbddb7b909690de166baff30ab064619561f0ab8
   "metadata": {
    "collapsed": true
   },
   "outputs": [],
   "source": [
    "corpus = tweets.text"
   ]
  },
  {
   "cell_type": "code",
<<<<<<< HEAD
   "execution_count": 12,
=======
   "execution_count": 20,
>>>>>>> bbddb7b909690de166baff30ab064619561f0ab8
   "metadata": {
    "collapsed": true
   },
   "outputs": [],
   "source": [
    "cv = CountVectorizer()"
   ]
  },
  {
   "cell_type": "code",
<<<<<<< HEAD
   "execution_count": 13,
   "metadata": {},
=======
   "execution_count": 21,
   "metadata": {
    "collapsed": false
   },
>>>>>>> bbddb7b909690de166baff30ab064619561f0ab8
   "outputs": [],
   "source": [
    "corpus_cv = cv.fit_transform(corpus).toarray()"
   ]
  },
  {
   "cell_type": "code",
   "execution_count": null,
   "metadata": {
    "collapsed": true
   },
   "outputs": [],
   "source": [
    "# create feature df"
   ]
  },
  {
   "cell_type": "code",
<<<<<<< HEAD
   "execution_count": 14,
=======
   "execution_count": 22,
>>>>>>> bbddb7b909690de166baff30ab064619561f0ab8
   "metadata": {
    "collapsed": true
   },
   "outputs": [],
   "source": [
    "features = cv.get_feature_names()"
   ]
  },
  {
   "cell_type": "code",
<<<<<<< HEAD
   "execution_count": 15,
   "metadata": {},
=======
   "execution_count": 23,
   "metadata": {
    "collapsed": false
   },
>>>>>>> bbddb7b909690de166baff30ab064619561f0ab8
   "outputs": [],
   "source": [
    "corp_df = pd.DataFrame(corpus_cv,columns=features)"
   ]
  },
  {
   "cell_type": "code",
<<<<<<< HEAD
   "execution_count": 17,
   "metadata": {},
=======
   "execution_count": 24,
   "metadata": {
    "collapsed": false
   },
>>>>>>> bbddb7b909690de166baff30ab064619561f0ab8
   "outputs": [
    {
     "data": {
      "text/html": [
       "<div>\n",
<<<<<<< HEAD
       "<style>\n",
       "    .dataframe thead tr:only-child th {\n",
       "        text-align: right;\n",
       "    }\n",
       "\n",
       "    .dataframe thead th {\n",
       "        text-align: left;\n",
       "    }\n",
       "\n",
       "    .dataframe tbody tr th {\n",
       "        vertical-align: top;\n",
       "    }\n",
       "</style>\n",
=======
>>>>>>> bbddb7b909690de166baff30ab064619561f0ab8
       "<table border=\"1\" class=\"dataframe\">\n",
       "  <thead>\n",
       "    <tr style=\"text-align: right;\">\n",
       "      <th></th>\n",
       "      <th>00</th>\n",
       "      <th>000</th>\n",
       "      <th>000114</th>\n",
       "      <th>000419</th>\n",
       "      <th>000ft</th>\n",
       "      <th>000lbs</th>\n",
       "      <th>0011</th>\n",
       "      <th>0016</th>\n",
       "      <th>00a</th>\n",
       "      <th>00am</th>\n",
       "      <th>...</th>\n",
       "      <th>zrh_airport</th>\n",
       "      <th>zsdgzydnde</th>\n",
       "      <th>zsuztnaijq</th>\n",
       "      <th>ztrdwv0n4l</th>\n",
       "      <th>zukes</th>\n",
       "      <th>zurich</th>\n",
       "      <th>zv2pt6trk9</th>\n",
       "      <th>zv6cfpohl5</th>\n",
       "      <th>zvfmxnuelj</th>\n",
       "      <th>zzps5ywve2</th>\n",
       "    </tr>\n",
       "  </thead>\n",
       "  <tbody>\n",
       "    <tr>\n",
       "      <th>0</th>\n",
       "      <td>0</td>\n",
       "      <td>0</td>\n",
       "      <td>0</td>\n",
       "      <td>0</td>\n",
       "      <td>0</td>\n",
       "      <td>0</td>\n",
       "      <td>0</td>\n",
       "      <td>0</td>\n",
       "      <td>0</td>\n",
       "      <td>0</td>\n",
       "      <td>...</td>\n",
       "      <td>0</td>\n",
       "      <td>0</td>\n",
       "      <td>0</td>\n",
       "      <td>0</td>\n",
       "      <td>0</td>\n",
       "      <td>0</td>\n",
       "      <td>0</td>\n",
       "      <td>0</td>\n",
       "      <td>0</td>\n",
       "      <td>0</td>\n",
       "    </tr>\n",
       "    <tr>\n",
       "      <th>1</th>\n",
       "      <td>0</td>\n",
       "      <td>0</td>\n",
       "      <td>0</td>\n",
       "      <td>0</td>\n",
       "      <td>0</td>\n",
       "      <td>0</td>\n",
       "      <td>0</td>\n",
       "      <td>0</td>\n",
       "      <td>0</td>\n",
       "      <td>0</td>\n",
       "      <td>...</td>\n",
       "      <td>0</td>\n",
       "      <td>0</td>\n",
       "      <td>0</td>\n",
       "      <td>0</td>\n",
       "      <td>0</td>\n",
       "      <td>0</td>\n",
       "      <td>0</td>\n",
       "      <td>0</td>\n",
       "      <td>0</td>\n",
       "      <td>0</td>\n",
       "    </tr>\n",
       "    <tr>\n",
       "      <th>2</th>\n",
       "      <td>0</td>\n",
       "      <td>0</td>\n",
       "      <td>0</td>\n",
       "      <td>0</td>\n",
       "      <td>0</td>\n",
       "      <td>0</td>\n",
       "      <td>0</td>\n",
       "      <td>0</td>\n",
       "      <td>0</td>\n",
       "      <td>0</td>\n",
       "      <td>...</td>\n",
       "      <td>0</td>\n",
       "      <td>0</td>\n",
       "      <td>0</td>\n",
       "      <td>0</td>\n",
       "      <td>0</td>\n",
       "      <td>0</td>\n",
       "      <td>0</td>\n",
       "      <td>0</td>\n",
       "      <td>0</td>\n",
       "      <td>0</td>\n",
       "    </tr>\n",
       "    <tr>\n",
       "      <th>3</th>\n",
       "      <td>0</td>\n",
       "      <td>0</td>\n",
       "      <td>0</td>\n",
       "      <td>0</td>\n",
       "      <td>0</td>\n",
       "      <td>0</td>\n",
       "      <td>0</td>\n",
       "      <td>0</td>\n",
       "      <td>0</td>\n",
       "      <td>0</td>\n",
       "      <td>...</td>\n",
       "      <td>0</td>\n",
       "      <td>0</td>\n",
       "      <td>0</td>\n",
       "      <td>0</td>\n",
       "      <td>0</td>\n",
       "      <td>0</td>\n",
       "      <td>0</td>\n",
       "      <td>0</td>\n",
       "      <td>0</td>\n",
       "      <td>0</td>\n",
       "    </tr>\n",
       "    <tr>\n",
       "      <th>4</th>\n",
       "      <td>0</td>\n",
       "      <td>0</td>\n",
       "      <td>0</td>\n",
       "      <td>0</td>\n",
       "      <td>0</td>\n",
       "      <td>0</td>\n",
       "      <td>0</td>\n",
       "      <td>0</td>\n",
       "      <td>0</td>\n",
       "      <td>0</td>\n",
       "      <td>...</td>\n",
       "      <td>0</td>\n",
       "      <td>0</td>\n",
       "      <td>0</td>\n",
       "      <td>0</td>\n",
       "      <td>0</td>\n",
       "      <td>0</td>\n",
       "      <td>0</td>\n",
       "      <td>0</td>\n",
       "      <td>0</td>\n",
       "      <td>0</td>\n",
       "    </tr>\n",
       "  </tbody>\n",
       "</table>\n",
       "<p>5 rows × 15051 columns</p>\n",
       "</div>"
      ],
      "text/plain": [
       "   00  000  000114  000419  000ft  000lbs  0011  0016  00a  00am     ...      \\\n",
       "0   0    0       0       0      0       0     0     0    0     0     ...       \n",
       "1   0    0       0       0      0       0     0     0    0     0     ...       \n",
       "2   0    0       0       0      0       0     0     0    0     0     ...       \n",
       "3   0    0       0       0      0       0     0     0    0     0     ...       \n",
       "4   0    0       0       0      0       0     0     0    0     0     ...       \n",
       "\n",
       "   zrh_airport  zsdgzydnde  zsuztnaijq  ztrdwv0n4l  zukes  zurich  zv2pt6trk9  \\\n",
       "0            0           0           0           0      0       0           0   \n",
       "1            0           0           0           0      0       0           0   \n",
       "2            0           0           0           0      0       0           0   \n",
       "3            0           0           0           0      0       0           0   \n",
       "4            0           0           0           0      0       0           0   \n",
       "\n",
       "   zv6cfpohl5  zvfmxnuelj  zzps5ywve2  \n",
       "0           0           0           0  \n",
       "1           0           0           0  \n",
       "2           0           0           0  \n",
       "3           0           0           0  \n",
       "4           0           0           0  \n",
       "\n",
       "[5 rows x 15051 columns]"
      ]
     },
<<<<<<< HEAD
     "execution_count": 17,
=======
     "execution_count": 24,
>>>>>>> bbddb7b909690de166baff30ab064619561f0ab8
     "metadata": {},
     "output_type": "execute_result"
    }
   ],
   "source": [
    "corp_df.head()"
   ]
  },
  {
   "cell_type": "code",
<<<<<<< HEAD
   "execution_count": 18,
=======
   "execution_count": 25,
>>>>>>> bbddb7b909690de166baff30ab064619561f0ab8
   "metadata": {
    "collapsed": true
   },
   "outputs": [],
   "source": [
    "# Instantiate LDA\n",
    "lda = LatentDirichletAllocation(verbose=1,random_state=123)"
   ]
  },
  {
   "cell_type": "code",
<<<<<<< HEAD
   "execution_count": 19,
   "metadata": {},
=======
   "execution_count": 26,
   "metadata": {
    "collapsed": false
   },
>>>>>>> bbddb7b909690de166baff30ab064619561f0ab8
   "outputs": [
    {
     "name": "stderr",
     "output_type": "stream",
     "text": [
<<<<<<< HEAD
      "/anaconda2/lib/python2.7/site-packages/sklearn/decomposition/online_lda.py:536: DeprecationWarning: The default value for 'learning_method' will be changed from 'online' to 'batch' in the release 0.20. This warning was introduced in 0.18.\n",
=======
      "C:\\Users\\jtate\\AppData\\Local\\Continuum\\Anaconda2\\lib\\site-packages\\sklearn\\decomposition\\online_lda.py:532: DeprecationWarning: The default value for 'learning_method' will be changed from 'online' to 'batch' in the release 0.20. This warning was introduced in 0.18.\n",
>>>>>>> bbddb7b909690de166baff30ab064619561f0ab8
      "  DeprecationWarning)\n"
     ]
    },
    {
     "name": "stdout",
     "output_type": "stream",
     "text": [
      "iteration: 1 of max_iter: 10\n",
      "iteration: 2 of max_iter: 10\n",
      "iteration: 3 of max_iter: 10\n",
      "iteration: 4 of max_iter: 10\n",
      "iteration: 5 of max_iter: 10\n",
      "iteration: 6 of max_iter: 10\n",
      "iteration: 7 of max_iter: 10\n",
      "iteration: 8 of max_iter: 10\n",
      "iteration: 9 of max_iter: 10\n",
      "iteration: 10 of max_iter: 10\n"
     ]
    },
    {
     "data": {
      "text/plain": [
       "LatentDirichletAllocation(batch_size=128, doc_topic_prior=None,\n",
       "             evaluate_every=-1, learning_decay=0.7, learning_method=None,\n",
       "             learning_offset=10.0, max_doc_update_iter=100, max_iter=10,\n",
       "             mean_change_tol=0.001, n_components=10, n_jobs=1,\n",
       "             n_topics=None, perp_tol=0.1, random_state=123,\n",
       "             topic_word_prior=None, total_samples=1000000.0, verbose=1)"
      ]
     },
<<<<<<< HEAD
     "execution_count": 19,
=======
     "execution_count": 26,
>>>>>>> bbddb7b909690de166baff30ab064619561f0ab8
     "metadata": {},
     "output_type": "execute_result"
    }
   ],
   "source": [
    "lda.fit(corp_df)"
   ]
  },
  {
   "cell_type": "code",
<<<<<<< HEAD
   "execution_count": 20,
   "metadata": {},
=======
   "execution_count": 27,
   "metadata": {
    "collapsed": false
   },
>>>>>>> bbddb7b909690de166baff30ab064619561f0ab8
   "outputs": [
    {
     "data": {
      "text/plain": [
       "array([[  0.10000768,   0.10001541,   0.1       , ...,   0.1       ,\n",
       "          1.08162086,   0.1       ],\n",
       "       [  0.10001073,   0.10002561,   0.10001237, ...,   0.1       ,\n",
       "          0.1       ,   0.10001204],\n",
       "       [  0.10001382,   0.10004927,   0.1       , ...,   0.1       ,\n",
       "          0.1       ,   0.1       ],\n",
       "       ..., \n",
       "       [  0.10002131,   0.10002295,   0.1       , ...,   0.10000485,\n",
       "          0.10000719,   0.1       ],\n",
       "       [ 14.44887217,   0.10002763,   0.1       , ...,   0.10001855,\n",
       "          0.10136502,   0.1000068 ],\n",
       "       [  0.10002303,  30.33289088,   0.10000766, ...,   0.1       ,\n",
       "          0.10001099,   0.10002219]])"
      ]
     },
<<<<<<< HEAD
     "execution_count": 20,
=======
     "execution_count": 27,
>>>>>>> bbddb7b909690de166baff30ab064619561f0ab8
     "metadata": {},
     "output_type": "execute_result"
    }
   ],
   "source": [
    "# View LDA components\n",
    "lda.components_"
   ]
  },
  {
   "cell_type": "code",
<<<<<<< HEAD
   "execution_count": 21,
   "metadata": {},
=======
   "execution_count": 28,
   "metadata": {
    "collapsed": false
   },
>>>>>>> bbddb7b909690de166baff30ab064619561f0ab8
   "outputs": [
    {
     "data": {
      "text/plain": [
       "10"
      ]
     },
<<<<<<< HEAD
     "execution_count": 21,
=======
     "execution_count": 28,
>>>>>>> bbddb7b909690de166baff30ab064619561f0ab8
     "metadata": {},
     "output_type": "execute_result"
    }
   ],
   "source": [
    "len(lda.components_)"
   ]
  },
  {
   "cell_type": "code",
<<<<<<< HEAD
   "execution_count": 22,
   "metadata": {},
=======
   "execution_count": 29,
   "metadata": {
    "collapsed": false
   },
>>>>>>> bbddb7b909690de166baff30ab064619561f0ab8
   "outputs": [
    {
     "data": {
      "text/plain": [
       "15051"
      ]
     },
<<<<<<< HEAD
     "execution_count": 22,
=======
     "execution_count": 29,
>>>>>>> bbddb7b909690de166baff30ab064619561f0ab8
     "metadata": {},
     "output_type": "execute_result"
    }
   ],
   "source": [
    "len(lda.components_[0])"
   ]
  },
  {
   "cell_type": "code",
<<<<<<< HEAD
   "execution_count": 24,
   "metadata": {},
=======
   "execution_count": 33,
   "metadata": {
    "collapsed": false
   },
>>>>>>> bbddb7b909690de166baff30ab064619561f0ab8
   "outputs": [
    {
     "data": {
      "text/plain": [
<<<<<<< HEAD
       "usairways    3507.320189\n",
       "by            395.812048\n",
       "info          151.126536\n",
       "pay           137.796391\n",
       "done          129.972258\n",
       "system        126.853774\n",
       "only          117.570937\n",
       "great         112.899299\n",
       "via           106.749594\n",
       "year           94.806086\n",
       "leaving        84.096041\n",
       "seriously      83.569243\n",
       "old            80.657428\n",
       "could          77.626019\n",
       "charlotte      75.736857\n",
       "flights        74.356200\n",
       "start          73.906174\n",
       "little         66.112599\n",
       "around         62.928060\n",
       "200            60.813892\n",
       "dtype: float64"
      ]
     },
     "execution_count": 24,
=======
       "co                    1156.652018\n",
       "http                  1103.272941\n",
       "yes                    237.549343\n",
       "every                  112.779547\n",
       "which                  107.322726\n",
       "destinationdragons      73.538003\n",
       "this                    69.549238\n",
       "wouldn                  54.455006\n",
       "love                    54.122536\n",
       "appreciated             43.654287\n",
       "case                    41.242811\n",
       "americanairlines        40.975082\n",
       "allow                   39.476104\n",
       "letter                  33.984263\n",
       "wall                    32.058749\n",
       "volume                  30.463965\n",
       "imaginedragons          28.906798\n",
       "tag                     23.677589\n",
       "lies                    21.270079\n",
       "per                     20.922511\n",
       "dtype: float64"
      ]
     },
     "execution_count": 33,
>>>>>>> bbddb7b909690de166baff30ab064619561f0ab8
     "metadata": {},
     "output_type": "execute_result"
    }
   ],
   "source": [
    "# Create a Series with LDA components of the first topic matched up with the CountVectorizer features, sorted by the LDA weight\n",
<<<<<<< HEAD
    "pd.Series(lda.components_[1],index=features).sort_values(ascending=False).head(20)"
=======
    "pd.Series(lda.components_[3],index=features).sort_values(ascending=False).head(20)"
>>>>>>> bbddb7b909690de166baff30ab064619561f0ab8
   ]
  },
  {
   "cell_type": "code",
<<<<<<< HEAD
   "execution_count": 25,
=======
   "execution_count": 34,
>>>>>>> bbddb7b909690de166baff30ab064619561f0ab8
   "metadata": {
    "collapsed": true
   },
   "outputs": [],
   "source": [
    "# Function that helps evaluate your LDA Topics\n",
    "def store_top_words(model, feature_names, n_top_words):\n",
    "    topic_list = []\n",
    "    for topic_idx, topic in enumerate(model.components_):\n",
    "        words =[feature_names[i] for i in topic.argsort()[:-n_top_words - 1:-1]]\n",
    "        topic_list.append({'topic':topic_idx,'words':words})\n",
    "    return topic_list"
   ]
  },
  {
   "cell_type": "code",
<<<<<<< HEAD
   "execution_count": 27,
   "metadata": {},
=======
   "execution_count": 37,
   "metadata": {
    "collapsed": false
   },
>>>>>>> bbddb7b909690de166baff30ab064619561f0ab8
   "outputs": [
    {
     "data": {
      "text/plain": [
       "[{'topic': 0,\n",
       "  'words': [u'much',\n",
       "   u'better',\n",
       "   u'care',\n",
       "   u'thanks',\n",
       "   u'so',\n",
       "   u'voucher',\n",
       "   u'almost',\n",
       "   u'half',\n",
       "   u'than',\n",
       "   u'asked',\n",
       "   u'used',\n",
       "   u'thru',\n",
       "   u'jet',\n",
       "   u'blue',\n",
       "   u'pretty',\n",
       "   u'price',\n",
       "   u'less',\n",
       "   u'water',\n",
       "   u'fare',\n",
       "   u'myself']},\n",
       " {'topic': 1,\n",
       "  'words': [u'usairways',\n",
       "   u'by',\n",
       "   u'info',\n",
       "   u'pay',\n",
       "   u'done',\n",
       "   u'system',\n",
       "   u'only',\n",
       "   u'great',\n",
       "   u'via',\n",
       "   u'year',\n",
       "   u'leaving',\n",
       "   u'seriously',\n",
       "   u'old',\n",
       "   u'could',\n",
       "   u'charlotte',\n",
       "   u'flights',\n",
       "   u'start',\n",
       "   u'little',\n",
       "   u'around',\n",
       "   u'200']},\n",
       " {'topic': 2,\n",
       "  'words': [u'hrs',\n",
       "   u'crew',\n",
       "   u'only',\n",
       "   u'won',\n",
       "   u'airlines',\n",
       "   u'fleek',\n",
       "   u'able',\n",
       "   u'say',\n",
       "   u'making',\n",
       "   u'fail',\n",
       "   u'stop',\n",
       "   u'bos',\n",
       "   u'american',\n",
       "   u'least',\n",
       "   u'food',\n",
       "   u'ur',\n",
       "   u'san',\n",
       "   u'terminal',\n",
       "   u'options',\n",
       "   u'jfk']},\n",
       " {'topic': 3,\n",
       "  'words': [u'co',\n",
       "   u'http',\n",
       "   u'yes',\n",
       "   u'every',\n",
       "   u'which',\n",
       "   u'destinationdragons',\n",
       "   u'this',\n",
       "   u'wouldn',\n",
       "   u'love',\n",
       "   u'appreciated',\n",
       "   u'case',\n",
       "   u'americanairlines',\n",
       "   u'allow',\n",
       "   u'letter',\n",
       "   u'wall',\n",
       "   u'volume',\n",
       "   u'imaginedragons',\n",
       "   u'tag',\n",
       "   u'lies',\n",
       "   u'per']},\n",
       " {'topic': 4,\n",
       "  'words': [u'please',\n",
       "   u'our',\n",
       "   u'on',\n",
       "   u'could',\n",
       "   u'he',\n",
       "   u'air',\n",
       "   u'fleet',\n",
       "   u'dca',\n",
       "   u'us',\n",
       "   u'credit',\n",
       "   u'helpful',\n",
       "   u'card',\n",
       "   u'fee',\n",
       "   u'life',\n",
       "   u'information',\n",
       "   u'https',\n",
       "   u'passenger',\n",
       "   u'happens',\n",
       "   u'guy',\n",
       "   u'record']},\n",
       " {'topic': 5,\n",
       "  'words': [u'aa',\n",
       "   u'll',\n",
       "   u'through',\n",
       "   u'we',\n",
       "   u'well',\n",
       "   u'miss',\n",
       "   u'phl',\n",
       "   u'finally',\n",
       "   u'come',\n",
       "   u'thx',\n",
       "   u'airways',\n",
       "   u'horrible',\n",
       "   u'employees',\n",
       "   u'together',\n",
       "   u'us',\n",
       "   u'very',\n",
       "   u'each',\n",
       "   u'fault',\n",
       "   u'compensation',\n",
       "   u'crazy']},\n",
       " {'topic': 6,\n",
       "  'words': [u'hold',\n",
       "   u'guys',\n",
       "   u'minutes',\n",
       "   u'think',\n",
       "   u'free',\n",
       "   u'appreciate',\n",
       "   u'status',\n",
       "   u'earlier',\n",
       "   u'on',\n",
       "   u'11',\n",
       "   u'50',\n",
       "   u'gave',\n",
       "   u'20',\n",
       "   u'usair',\n",
       "   u'mins',\n",
       "   u'counting',\n",
       "   u'award',\n",
       "   u'up',\n",
       "   u'holding',\n",
       "   u'situation']},\n",
       " {'topic': 7,\n",
       "  'words': [u'jetblue',\n",
       "   u'southwestair',\n",
       "   u'we',\n",
       "   u'you',\n",
       "   u'the',\n",
       "   u'weather',\n",
       "   u'thank',\n",
       "   u'are',\n",
       "   u're',\n",
       "   u'ever',\n",
       "   u'worst',\n",
       "   u'of',\n",
       "   u'our',\n",
       "   u'to',\n",
       "   u'today',\n",
       "   u'service',\n",
       "   u'customer',\n",
       "   u'airline',\n",
       "   u'flying',\n",
       "   u'fly']},\n",
       " {'topic': 8,\n",
       "  'words': [u'the',\n",
       "   u'united',\n",
       "   u'in',\n",
       "   u'and',\n",
       "   u'of',\n",
       "   u'was',\n",
       "   u'it',\n",
       "   u'flight',\n",
       "   u'to',\n",
       "   u'my',\n",
       "   u'on',\n",
       "   u'americanair',\n",
       "   u'is',\n",
       "   u'had',\n",
       "   u'no',\n",
       "   u'your',\n",
       "   u'not',\n",
       "   u'that',\n",
       "   u'at',\n",
       "   u'again']},\n",
       " {'topic': 9,\n",
       "  'words': [u'to',\n",
       "   u'the',\n",
       "   u'for',\n",
       "   u'americanair',\n",
       "   u'you',\n",
       "   u'flight',\n",
       "   u'on',\n",
       "   u'and',\n",
       "   u'my',\n",
       "   u'is',\n",
       "   u'united',\n",
       "   u'me',\n",
       "   u'it',\n",
       "   u'can',\n",
       "   u'in',\n",
       "   u'get',\n",
       "   u'have',\n",
       "   u'that',\n",
       "   u'your',\n",
       "   u'not']}]"
      ]
     },
<<<<<<< HEAD
     "execution_count": 27,
=======
     "execution_count": 37,
>>>>>>> bbddb7b909690de166baff30ab064619561f0ab8
     "metadata": {},
     "output_type": "execute_result"
    }
   ],
   "source": [
    "# Show the top 20 words for Topic 0\n",
<<<<<<< HEAD
    "store_top_words(lda,features,20)\n"
=======
    "\n",
    "store_top_words(lda,features,20)"
>>>>>>> bbddb7b909690de166baff30ab064619561f0ab8
   ]
  },
  {
   "cell_type": "code",
<<<<<<< HEAD
   "execution_count": 31,
=======
   "execution_count": 38,
>>>>>>> bbddb7b909690de166baff30ab064619561f0ab8
   "metadata": {
    "collapsed": true
   },
   "outputs": [],
   "source": [
    "# Transform your text corpus\n",
<<<<<<< HEAD
    "corp_lda = lda.transform(corp_df)"
=======
    "topicorp_lda = lda.transform(corp_df)"
>>>>>>> bbddb7b909690de166baff30ab064619561f0ab8
   ]
  },
  {
   "cell_type": "code",
<<<<<<< HEAD
   "execution_count": 38,
   "metadata": {},
=======
   "execution_count": 42,
   "metadata": {
    "collapsed": false,
    "scrolled": true
   },
>>>>>>> bbddb7b909690de166baff30ab064619561f0ab8
   "outputs": [],
   "source": [
    "topic_preds = pd.DataFrame(corp_lda)"
   ]
  },
  {
   "cell_type": "code",
<<<<<<< HEAD
   "execution_count": 39,
   "metadata": {},
=======
   "execution_count": 43,
   "metadata": {
    "collapsed": false
   },
>>>>>>> bbddb7b909690de166baff30ab064619561f0ab8
   "outputs": [
    {
     "data": {
      "text/plain": [
       "0        9\n",
       "1        7\n",
       "2        8\n",
       "3        9\n",
       "4        8\n",
       "5        8\n",
       "6        3\n",
       "7        9\n",
       "8        8\n",
       "9        8\n",
       "10       8\n",
       "11       0\n",
       "12       9\n",
       "13       8\n",
       "14       8\n",
       "15       8\n",
       "16       8\n",
       "17       8\n",
       "18       7\n",
       "19       9\n",
       "20       9\n",
       "21       3\n",
       "22       9\n",
       "23       2\n",
       "24       6\n",
       "25       9\n",
       "26       2\n",
       "27       5\n",
       "28       4\n",
       "29       8\n",
       "        ..\n",
       "14610    9\n",
       "14611    9\n",
       "14612    9\n",
       "14613    9\n",
       "14614    9\n",
       "14615    9\n",
       "14616    9\n",
       "14617    8\n",
       "14618    9\n",
       "14619    9\n",
       "14620    9\n",
       "14621    9\n",
       "14622    9\n",
       "14623    9\n",
       "14624    9\n",
       "14625    8\n",
       "14626    9\n",
       "14627    9\n",
       "14628    9\n",
       "14629    9\n",
       "14630    9\n",
       "14631    9\n",
       "14632    9\n",
       "14633    9\n",
       "14634    9\n",
       "14635    9\n",
       "14636    9\n",
       "14637    2\n",
       "14638    9\n",
       "14639    9\n",
<<<<<<< HEAD
       "Length: 14640, dtype: int64"
      ]
     },
     "execution_count": 39,
=======
       "dtype: int64"
      ]
     },
     "execution_count": 43,
>>>>>>> bbddb7b909690de166baff30ab064619561f0ab8
     "metadata": {},
     "output_type": "execute_result"
    }
   ],
   "source": [
    "# Create a dataframe from your transformed text\n",
    "topic_preds.idxmax(axis=1)"
   ]
  },
  {
   "cell_type": "code",
   "execution_count": null,
   "metadata": {},
   "outputs": [],
   "source": [
    "# View the head\n"
   ]
  },
  {
   "cell_type": "code",
   "execution_count": null,
   "metadata": {},
   "outputs": [],
   "source": [
    "# Use idxmax on rows to find the highest scored topic for each row"
   ]
  },
  {
   "cell_type": "code",
   "execution_count": null,
   "metadata": {},
   "outputs": [],
   "source": [
    "topic_preds.head()"
   ]
  },
  {
   "cell_type": "code",
   "execution_count": null,
   "metadata": {
    "collapsed": true
   },
   "outputs": [],
   "source": [
    "# Get Dummies from your original, pre-LDA categories"
   ]
  },
  {
   "cell_type": "code",
   "execution_count": null,
   "metadata": {},
   "outputs": [],
   "source": [
    "cats = pd.get_dummies(tweets.negativereason)"
   ]
  },
  {
   "cell_type": "code",
   "execution_count": null,
   "metadata": {},
   "outputs": [],
   "source": [
    "# Concat your LDA scores and your Category dummies"
   ]
  },
  {
   "cell_type": "code",
   "execution_count": null,
   "metadata": {},
   "outputs": [],
   "source": [
    "# Calculate the correlation between your LDA topics and your original categories"
   ]
  },
  {
   "cell_type": "code",
   "execution_count": null,
   "metadata": {
    "collapsed": true
   },
   "outputs": [],
   "source": [
    "# What category is most strongly correlated with each LDA topic (.idxmax again)"
   ]
  },
  {
   "cell_type": "markdown",
   "metadata": {},
   "source": [
    "# Evaluating LDA"
   ]
  },
  {
   "cell_type": "code",
   "execution_count": null,
   "metadata": {},
   "outputs": [],
   "source": [
    "# Perplexity\n",
    "lda.perplexity(corp_df)"
   ]
  },
  {
   "cell_type": "code",
   "execution_count": null,
   "metadata": {},
   "outputs": [],
   "source": [
    "# Log Likelihood\n",
    "lda.score(corp_df)"
   ]
  },
  {
   "cell_type": "code",
   "execution_count": null,
   "metadata": {
    "collapsed": true
   },
   "outputs": [],
   "source": [
    "# Iterate through number of topics for LDA, storing perplexity and log Likelihood\n",
    "\n"
   ]
  },
  {
   "cell_type": "code",
   "execution_count": null,
   "metadata": {
    "collapsed": true
   },
   "outputs": [],
   "source": [
    "# Graph n_topics vs. Perplexity"
   ]
  },
  {
   "cell_type": "code",
   "execution_count": null,
   "metadata": {
    "collapsed": true
   },
   "outputs": [],
   "source": [
    "# Graph n_topics vs. Log Likelihood"
   ]
  },
  {
   "cell_type": "code",
   "execution_count": null,
   "metadata": {
    "collapsed": true
   },
   "outputs": [],
   "source": []
  },
  {
   "cell_type": "markdown",
   "metadata": {},
   "source": [
    "# On Your Own:"
   ]
  },
  {
   "cell_type": "code",
   "execution_count": null,
   "metadata": {
    "collapsed": true
   },
   "outputs": [],
   "source": [
    "techcrunch = pd.read_csv('../../2_dataset/techcrunch_trimmed.csv')"
   ]
  },
  {
   "cell_type": "code",
   "execution_count": null,
   "metadata": {},
   "outputs": [],
   "source": [
    "techcrunch.head()"
   ]
  },
  {
   "cell_type": "markdown",
   "metadata": {},
   "source": [
    "Try:\n",
    "\n",
    "- Explore topics using LDA\n",
    "- Evaluate the sentiment of titles\n",
    "\n",
    "- Can you label any of your LDA topics?\n",
    "- Limit your dataset to 5 most popular topics - can you use NLP to predict what category an article could be in?"
   ]
  },
  {
   "cell_type": "code",
   "execution_count": null,
   "metadata": {},
   "outputs": [],
   "source": []
  },
  {
   "cell_type": "code",
   "execution_count": null,
   "metadata": {
    "collapsed": true
   },
   "outputs": [],
   "source": []
  }
 ],
 "metadata": {
  "anaconda-cloud": {},
  "kernelspec": {
<<<<<<< HEAD
   "display_name": "Python 2",
   "language": "python",
   "name": "python2"
=======
   "display_name": "Python [Root]",
   "language": "python",
   "name": "Python [Root]"
>>>>>>> bbddb7b909690de166baff30ab064619561f0ab8
  },
  "language_info": {
   "codemirror_mode": {
    "name": "ipython",
    "version": 2
   },
   "file_extension": ".py",
   "mimetype": "text/x-python",
   "name": "python",
   "nbconvert_exporter": "python",
   "pygments_lexer": "ipython2",
<<<<<<< HEAD
   "version": "2.7.14"
=======
   "version": "2.7.12"
>>>>>>> bbddb7b909690de166baff30ab064619561f0ab8
  }
 },
 "nbformat": 4,
 "nbformat_minor": 1
}
