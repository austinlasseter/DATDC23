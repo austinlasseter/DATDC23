{
 "cells": [
  {
   "cell_type": "markdown",
   "metadata": {},
   "source": [
    "# Decision Trees and Random Forests\n",
    "_h/t: Arun Ahuja (NYC)_\n",
    "\n",
    "## Learning Objectives\n",
    "\n",
    "- Understand the differences between linear and non-linear models\n",
    "- Understand and build decision tree models\n",
    "- Understand and build random forest models for classification and regression\n",
    "- Know how to extract the most important predictors in a random forest model\n",
    "\n",
    "## Introduction to decision trees and random forests\n",
    "Objective: Understand decision tree models for classification and regression\n",
    "\n",
    "### Intuition behind decision trees\n",
    "\n",
    "Decision trees are like the game “20 questions”.  They make decision by answering a series of questions, most often binary questions (yes or no). \n",
    "\n",
    "For example, if we want to classify between squirrels, cats, and dogs, we will collect data about weight. If the weight is less than two pounds, we tend to see squirrels in our data. If the weight is greater than 2 pounds and less than 20 pounds, we may guess dog or cat. If the wieght is greater than 2 pounds and greater than 20 pounds, we will guess dog.\n",
    "\n",
    "We want the smallest set of questions to get to the right answer.\n",
    "\n",
    "Each questions should reduce the search space as much as possible.\n",
    "\n",
    "Decision trees work for both classification and regression problems.\n",
    "\n",
    "### What are trees in general?\n",
    "\n",
    "- Trees are a data structure made up of nodes and branches.\n",
    "- Each node typically has two or more branches that connect it to its children.\n",
    "- Each child is another node in the tree and contains its own subtree.  \n",
    "- Nodes without any children are known as leaf nodes.\n",
    "\n",
    "- A decision tree contains a question at every node.\n",
    "- Depending upon the answer to the question, we proceed down the left or right branch of the tree and ask another question.\n",
    "- Once we don’t have any more questions (at the leaf nodes), we make a prediction.\n",
    "\n",
    "### How does a computer build a decision tree?\n",
    "\n",
    "**Ideal approach**: Consider every possible partition of the feature space (computationally infeasible)\n",
    "**\"Good enough\" approach:** recursive binary splitting\n",
    "1. Begin at the top of the tree.\n",
    "2. For **every feature**, examine **every possible cutpoint**, and choose the feature and cutpoint such that the resulting tree has the lowest possible mean squared error (Regression) or GINI (Classification). Make that split.\n",
    "3. Examine the two resulting regions, and again make a **single split** (in one of the regions) to minimize the MSE/GINI.\n",
    "4.Keep repeating step 3 until a **stopping criterion** is met:\n",
    "- maximum tree depth (maximum number of splits required to arrive at a leaf)\n",
    "- minimum number of observations in a leaf\n",
    "\n",
    "\n",
    "[Check out this site for an interactive description.](http://www.r2d3.us/visual-intro-to-machine-learning-part-1/)\n",
    "\n",
    "### Comparison to previous models\n",
    "\n",
    "Pros:\n",
    "- Decision trees are non-linear (rectilinear), an advantage over logistic regression.\n",
    "  - A linear model is one in which a change in an input variable has a constant change on the output variable.\n",
    "- Can find interactions between variables.\n",
    "- Can take continuous variables and treat them as ordered discrete/ordinal variables.\n",
    "- Works for both regression and classification.\n",
    "- Does not need scaling.\n",
    "- Not greatly affected by outliers.\n",
    "- Implicitly performs feature selection.\n",
    "\n",
    "Cons:\n",
    "- A bit more difficult to interpret.\n",
    "- Does not give you something like a p-value.\n",
    "  - Although, there is a way to check overall feature importance.\n",
    "- Does not fit linear relationships very well.\n",
    "\n",
    "\n",
    "    Linear vs. non-linear classification models\n",
    "![Linear vs Non-linear](assets/images/linear_vs_non_linear.png)\n",
    "\n",
    "For example consider the relationship between years of education and salary\n",
    "\n",
    "- In a linear model, the increase in salary from 10 to 15 years of education would be the same as the increase in salary from 15 to 20 years of education.  \n",
    "\n",
    "- In a non-linear model, salary can change dramatically for years 0-15 and negligibly from years 15-20.\n",
    "\n",
    "Trees automatically contain interaction of features, since each question is dependent on the last.\n",
    "\n",
    "**How can we quantify how well we segragate positive and negative groups?**\n",
    "\n",
    "1. Pick a feature at random\n",
    "2. Select a cut-off to form two subgroup\n",
    "3. For each subgroup predict the most common class for a selected subgroup and measure the classification error\n",
    "4. Continue until we find the best cut-off\n",
    "5. Now repeat on the two subgroups until we are satisfied with the performance or run out of points"
   ]
  },
  {
   "cell_type": "markdown",
   "metadata": {},
   "source": [
    "### How do we read a tree? \n",
    "\n",
    "We'll use an example of a decision tree applied to a familiar data set"
   ]
  },
  {
   "cell_type": "code",
   "execution_count": 1,
<<<<<<< HEAD
   "metadata": {},
   "outputs": [
    {
     "ename": "ImportError",
     "evalue": "No module named pydotplus",
     "output_type": "error",
     "traceback": [
      "\u001b[0;31m---------------------------------------------------------------------------\u001b[0m",
      "\u001b[0;31mImportError\u001b[0m                               Traceback (most recent call last)",
      "\u001b[0;32m<ipython-input-1-9c33941fd06f>\u001b[0m in \u001b[0;36m<module>\u001b[0;34m()\u001b[0m\n\u001b[1;32m     10\u001b[0m \u001b[0;32mfrom\u001b[0m \u001b[0msklearn\u001b[0m\u001b[0;34m.\u001b[0m\u001b[0mmetrics\u001b[0m \u001b[0;32mimport\u001b[0m \u001b[0mroc_auc_score\u001b[0m\u001b[0;34m\u001b[0m\u001b[0m\n\u001b[1;32m     11\u001b[0m \u001b[0;32mfrom\u001b[0m \u001b[0msklearn\u001b[0m\u001b[0;34m.\u001b[0m\u001b[0mmetrics\u001b[0m \u001b[0;32mimport\u001b[0m \u001b[0mmean_squared_error\u001b[0m\u001b[0;34m\u001b[0m\u001b[0m\n\u001b[0;32m---> 12\u001b[0;31m \u001b[0;32mimport\u001b[0m \u001b[0mpydotplus\u001b[0m\u001b[0;34m\u001b[0m\u001b[0m\n\u001b[0m\u001b[1;32m     13\u001b[0m \u001b[0;32mimport\u001b[0m \u001b[0mseaborn\u001b[0m \u001b[0;32mas\u001b[0m \u001b[0msns\u001b[0m\u001b[0;34m\u001b[0m\u001b[0m\n\u001b[1;32m     14\u001b[0m \u001b[0;32mimport\u001b[0m \u001b[0mmatplotlib\u001b[0m\u001b[0;34m.\u001b[0m\u001b[0mpyplot\u001b[0m \u001b[0;32mas\u001b[0m \u001b[0mplt\u001b[0m\u001b[0;34m\u001b[0m\u001b[0m\n",
      "\u001b[0;31mImportError\u001b[0m: No module named pydotplus"
     ]
    }
   ],
=======
   "metadata": {
    "collapsed": false
   },
   "outputs": [],
>>>>>>> bbddb7b909690de166baff30ab064619561f0ab8
   "source": [
    "## NOTE: You will need the python package: pydotplus, and the \n",
    "# graphviz package (gotten via `brew install graphviz` on mac)\n",
    "import numpy as np\n",
    "import pandas as pd\n",
    "import json\n",
    "from sklearn.datasets import load_iris\n",
    "from sklearn import tree\n",
    "from sklearn.tree import DecisionTreeClassifier,DecisionTreeRegressor\n",
    "from sklearn.model_selection import train_test_split, cross_val_score\n",
    "from sklearn.metrics import roc_auc_score\n",
    "from sklearn.metrics import mean_squared_error\n",
    "# import pydotplus \n",
    "import seaborn as sns\n",
    "import matplotlib.pyplot as plt\n",
    "sns.set(style=\"whitegrid\", font_scale=1.5)\n",
    "%matplotlib inline\n",
    "from sklearn.externals.six import StringIO\n",
    "from sklearn.tree import export_graphviz\n",
    "import sklearn.datasets as datasets\n",
    "from IPython.display import Image  "
   ]
  },
  {
   "cell_type": "code",
<<<<<<< HEAD
   "execution_count": null,
   "metadata": {},
=======
   "execution_count": 2,
   "metadata": {
    "collapsed": false
   },
>>>>>>> bbddb7b909690de166baff30ab064619561f0ab8
   "outputs": [],
   "source": [
    "iris=datasets.load_iris()\n",
    "df=pd.DataFrame(iris.data, columns=iris.feature_names)\n",
    "y=iris.target\n",
    "\n",
    "\n",
    "dtree=DecisionTreeClassifier()\n",
    "dtree.fit(df,y)\n",
    "\n",
    "dot_data = StringIO()\n",
    "\n",
    "export_graphviz(dtree, out_file=dot_data,  \n",
    "                filled=True, rounded=True,\n",
    "                special_characters=True)\n",
    "\n",
    "graph = pydotplus.graph_from_dot_data(dot_data.getvalue())  \n"
   ]
  },
  {
   "cell_type": "code",
<<<<<<< HEAD
   "execution_count": null,
   "metadata": {},
   "outputs": [],
=======
   "execution_count": 3,
   "metadata": {
    "collapsed": false
   },
   "outputs": [
    {
     "data": {
      "text/html": [
       "<div>\n",
       "<table border=\"1\" class=\"dataframe\">\n",
       "  <thead>\n",
       "    <tr style=\"text-align: right;\">\n",
       "      <th></th>\n",
       "      <th>sepal length (cm)</th>\n",
       "      <th>sepal width (cm)</th>\n",
       "      <th>petal length (cm)</th>\n",
       "      <th>petal width (cm)</th>\n",
       "    </tr>\n",
       "  </thead>\n",
       "  <tbody>\n",
       "    <tr>\n",
       "      <th>0</th>\n",
       "      <td>5.1</td>\n",
       "      <td>3.5</td>\n",
       "      <td>1.4</td>\n",
       "      <td>0.2</td>\n",
       "    </tr>\n",
       "    <tr>\n",
       "      <th>1</th>\n",
       "      <td>4.9</td>\n",
       "      <td>3.0</td>\n",
       "      <td>1.4</td>\n",
       "      <td>0.2</td>\n",
       "    </tr>\n",
       "    <tr>\n",
       "      <th>2</th>\n",
       "      <td>4.7</td>\n",
       "      <td>3.2</td>\n",
       "      <td>1.3</td>\n",
       "      <td>0.2</td>\n",
       "    </tr>\n",
       "    <tr>\n",
       "      <th>3</th>\n",
       "      <td>4.6</td>\n",
       "      <td>3.1</td>\n",
       "      <td>1.5</td>\n",
       "      <td>0.2</td>\n",
       "    </tr>\n",
       "    <tr>\n",
       "      <th>4</th>\n",
       "      <td>5.0</td>\n",
       "      <td>3.6</td>\n",
       "      <td>1.4</td>\n",
       "      <td>0.2</td>\n",
       "    </tr>\n",
       "  </tbody>\n",
       "</table>\n",
       "</div>"
      ],
      "text/plain": [
       "   sepal length (cm)  sepal width (cm)  petal length (cm)  petal width (cm)\n",
       "0                5.1               3.5                1.4               0.2\n",
       "1                4.9               3.0                1.4               0.2\n",
       "2                4.7               3.2                1.3               0.2\n",
       "3                4.6               3.1                1.5               0.2\n",
       "4                5.0               3.6                1.4               0.2"
      ]
     },
     "execution_count": 3,
     "metadata": {},
     "output_type": "execute_result"
    }
   ],
>>>>>>> bbddb7b909690de166baff30ab064619561f0ab8
   "source": [
    "df.head()"
   ]
  },
  {
   "cell_type": "code",
<<<<<<< HEAD
   "execution_count": null,
   "metadata": {},
   "outputs": [],
=======
   "execution_count": 4,
   "metadata": {
    "collapsed": false
   },
   "outputs": [
    {
     "data": {
      "image/png": "iVBORw0KGgoAAAANSUhEUgAABCAAAALsCAYAAAAyFsaQAAAABmJLR0QA/wD/AP+gvaeTAAAgAElE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\nIiIiIiK/YwKCiIiIiIiIiPzu/wFFzADbob6SaQAAAABJRU5ErkJggg==\n",
      "text/plain": [
       "<IPython.core.display.Image object>"
      ]
     },
     "execution_count": 4,
     "metadata": {},
     "output_type": "execute_result"
    }
   ],
>>>>>>> bbddb7b909690de166baff30ab064619561f0ab8
   "source": [
    "Image(graph.create_png())"
   ]
  },
  {
   "cell_type": "code",
   "execution_count": null,
   "metadata": {},
   "outputs": [],
   "source": [
    "cross_val_score(DecisionTreeClassifier(),df,y,scoring='accuracy',cv=5)"
   ]
  },
  {
   "cell_type": "markdown",
   "metadata": {},
   "source": [
    "# Regression Trees"
   ]
  },
  {
   "cell_type": "code",
<<<<<<< HEAD
   "execution_count": null,
=======
   "execution_count": 5,
>>>>>>> bbddb7b909690de166baff30ab064619561f0ab8
   "metadata": {
    "collapsed": true
   },
   "outputs": [],
   "source": [
    "boston = datasets.load_boston()\n",
    "y = boston.target\n",
    "x = pd.DataFrame(boston.data,columns=boston.feature_names)"
   ]
  },
  {
   "cell_type": "code",
<<<<<<< HEAD
   "execution_count": null,
   "metadata": {},
   "outputs": [],
=======
   "execution_count": 6,
   "metadata": {
    "collapsed": false
   },
   "outputs": [
    {
     "name": "stdout",
     "output_type": "stream",
     "text": [
      "Boston House Prices dataset\n",
      "===========================\n",
      "Notes\n",
      "------\n",
      "Data Set Characteristics:  \n",
      "    :Number of Instances: 506 \n",
      "    :Number of Attributes: 13 numeric/categorical predictive\n",
      "    \n",
      "    :Median Value (attribute 14) is usually the target\n",
      "    :Attribute Information (in order):\n",
      "        - CRIM     per capita crime rate by town\n",
      "        - ZN       proportion of residential land zoned for lots over 25,000 sq.ft.\n",
      "        - INDUS    proportion of non-retail business acres per town\n",
      "        - CHAS     Charles River dummy variable (= 1 if tract bounds river; 0 otherwise)\n",
      "        - NOX      nitric oxides concentration (parts per 10 million)\n",
      "        - RM       average number of rooms per dwelling\n",
      "        - AGE      proportion of owner-occupied units built prior to 1940\n",
      "        - DIS      weighted distances to five Boston employment centres\n",
      "        - RAD      index of accessibility to radial highways\n",
      "        - TAX      full-value property-tax rate per $10,000\n",
      "        - PTRATIO  pupil-teacher ratio by town\n",
      "        - B        1000(Bk - 0.63)^2 where Bk is the proportion of blacks by town\n",
      "        - LSTAT    % lower status of the population\n",
      "        - MEDV     Median value of owner-occupied homes in $1000's\n",
      "    :Missing Attribute Values: None\n",
      "    :Creator: Harrison, D. and Rubinfeld, D.L.\n",
      "This is a copy of UCI ML housing dataset.\n",
      "http://archive.ics.uci.edu/ml/datasets/Housing\n",
      "\n",
      "This dataset was taken from the StatLib library which is maintained at Carnegie Mellon University.\n",
      "The Boston house-price data of Harrison, D. and Rubinfeld, D.L. 'Hedonic\n",
      "prices and the demand for clean air', J. Environ. Economics & Management,\n",
      "vol.5, 81-102, 1978.   Used in Belsley, Kuh & Welsch, 'Regression diagnostics\n",
      "...', Wiley, 1980.   N.B. Various transformations are used in the table on\n",
      "pages 244-261 of the latter.\n",
      "The Boston house-price data has been used in many machine learning papers that address regression\n",
      "problems.   \n",
      "     \n",
      "**References**\n",
      "   - Belsley, Kuh & Welsch, 'Regression diagnostics: Identifying Influential Data and Sources of Collinearity', Wiley, 1980. 244-261.\n",
      "   - Quinlan,R. (1993). Combining Instance-Based and Model-Based Learning. In Proceedings on the Tenth International Conference of Machine Learning, 236-243, University of Massachusetts, Amherst. Morgan Kaufmann.\n",
      "   - many more! (see http://archive.ics.uci.edu/ml/datasets/Housing)\n",
      "\n"
     ]
    }
   ],
>>>>>>> bbddb7b909690de166baff30ab064619561f0ab8
   "source": [
    "for line in boston.DESCR.split('\\n\\n'):\n",
    "    print line"
   ]
  },
  {
   "cell_type": "code",
<<<<<<< HEAD
   "execution_count": null,
   "metadata": {},
   "outputs": [],
=======
   "execution_count": 7,
   "metadata": {
    "collapsed": false
   },
   "outputs": [
    {
     "data": {
      "text/html": [
       "<div>\n",
       "<table border=\"1\" class=\"dataframe\">\n",
       "  <thead>\n",
       "    <tr style=\"text-align: right;\">\n",
       "      <th></th>\n",
       "      <th>CRIM</th>\n",
       "      <th>ZN</th>\n",
       "      <th>INDUS</th>\n",
       "      <th>CHAS</th>\n",
       "      <th>NOX</th>\n",
       "      <th>RM</th>\n",
       "      <th>AGE</th>\n",
       "      <th>DIS</th>\n",
       "      <th>RAD</th>\n",
       "      <th>TAX</th>\n",
       "      <th>PTRATIO</th>\n",
       "      <th>B</th>\n",
       "      <th>LSTAT</th>\n",
       "    </tr>\n",
       "  </thead>\n",
       "  <tbody>\n",
       "    <tr>\n",
       "      <th>0</th>\n",
       "      <td>0.00632</td>\n",
       "      <td>18.0</td>\n",
       "      <td>2.31</td>\n",
       "      <td>0.0</td>\n",
       "      <td>0.538</td>\n",
       "      <td>6.575</td>\n",
       "      <td>65.2</td>\n",
       "      <td>4.0900</td>\n",
       "      <td>1.0</td>\n",
       "      <td>296.0</td>\n",
       "      <td>15.3</td>\n",
       "      <td>396.90</td>\n",
       "      <td>4.98</td>\n",
       "    </tr>\n",
       "    <tr>\n",
       "      <th>1</th>\n",
       "      <td>0.02731</td>\n",
       "      <td>0.0</td>\n",
       "      <td>7.07</td>\n",
       "      <td>0.0</td>\n",
       "      <td>0.469</td>\n",
       "      <td>6.421</td>\n",
       "      <td>78.9</td>\n",
       "      <td>4.9671</td>\n",
       "      <td>2.0</td>\n",
       "      <td>242.0</td>\n",
       "      <td>17.8</td>\n",
       "      <td>396.90</td>\n",
       "      <td>9.14</td>\n",
       "    </tr>\n",
       "    <tr>\n",
       "      <th>2</th>\n",
       "      <td>0.02729</td>\n",
       "      <td>0.0</td>\n",
       "      <td>7.07</td>\n",
       "      <td>0.0</td>\n",
       "      <td>0.469</td>\n",
       "      <td>7.185</td>\n",
       "      <td>61.1</td>\n",
       "      <td>4.9671</td>\n",
       "      <td>2.0</td>\n",
       "      <td>242.0</td>\n",
       "      <td>17.8</td>\n",
       "      <td>392.83</td>\n",
       "      <td>4.03</td>\n",
       "    </tr>\n",
       "    <tr>\n",
       "      <th>3</th>\n",
       "      <td>0.03237</td>\n",
       "      <td>0.0</td>\n",
       "      <td>2.18</td>\n",
       "      <td>0.0</td>\n",
       "      <td>0.458</td>\n",
       "      <td>6.998</td>\n",
       "      <td>45.8</td>\n",
       "      <td>6.0622</td>\n",
       "      <td>3.0</td>\n",
       "      <td>222.0</td>\n",
       "      <td>18.7</td>\n",
       "      <td>394.63</td>\n",
       "      <td>2.94</td>\n",
       "    </tr>\n",
       "    <tr>\n",
       "      <th>4</th>\n",
       "      <td>0.06905</td>\n",
       "      <td>0.0</td>\n",
       "      <td>2.18</td>\n",
       "      <td>0.0</td>\n",
       "      <td>0.458</td>\n",
       "      <td>7.147</td>\n",
       "      <td>54.2</td>\n",
       "      <td>6.0622</td>\n",
       "      <td>3.0</td>\n",
       "      <td>222.0</td>\n",
       "      <td>18.7</td>\n",
       "      <td>396.90</td>\n",
       "      <td>5.33</td>\n",
       "    </tr>\n",
       "  </tbody>\n",
       "</table>\n",
       "</div>"
      ],
      "text/plain": [
       "      CRIM    ZN  INDUS  CHAS    NOX     RM   AGE     DIS  RAD    TAX  \\\n",
       "0  0.00632  18.0   2.31   0.0  0.538  6.575  65.2  4.0900  1.0  296.0   \n",
       "1  0.02731   0.0   7.07   0.0  0.469  6.421  78.9  4.9671  2.0  242.0   \n",
       "2  0.02729   0.0   7.07   0.0  0.469  7.185  61.1  4.9671  2.0  242.0   \n",
       "3  0.03237   0.0   2.18   0.0  0.458  6.998  45.8  6.0622  3.0  222.0   \n",
       "4  0.06905   0.0   2.18   0.0  0.458  7.147  54.2  6.0622  3.0  222.0   \n",
       "\n",
       "   PTRATIO       B  LSTAT  \n",
       "0     15.3  396.90   4.98  \n",
       "1     17.8  396.90   9.14  \n",
       "2     17.8  392.83   4.03  \n",
       "3     18.7  394.63   2.94  \n",
       "4     18.7  396.90   5.33  "
      ]
     },
     "execution_count": 7,
     "metadata": {},
     "output_type": "execute_result"
    }
   ],
>>>>>>> bbddb7b909690de166baff30ab064619561f0ab8
   "source": [
    "x.head()"
   ]
  },
  {
   "cell_type": "code",
<<<<<<< HEAD
   "execution_count": null,
   "metadata": {},
   "outputs": [],
=======
   "execution_count": 8,
   "metadata": {
    "collapsed": false
   },
   "outputs": [
    {
     "data": {
      "text/plain": [
       "array([ 24. ,  21.6,  34.7,  33.4,  36.2])"
      ]
     },
     "execution_count": 8,
     "metadata": {},
     "output_type": "execute_result"
    }
   ],
>>>>>>> bbddb7b909690de166baff30ab064619561f0ab8
   "source": [
    "y[:5]"
   ]
  },
  {
   "cell_type": "code",
   "execution_count": null,
   "metadata": {},
   "outputs": [],
   "source": [
    "y.mean()"
   ]
  },
  {
   "cell_type": "code",
<<<<<<< HEAD
   "execution_count": null,
   "metadata": {},
=======
   "execution_count": 17,
   "metadata": {
    "collapsed": false
   },
>>>>>>> bbddb7b909690de166baff30ab064619561f0ab8
   "outputs": [],
   "source": [
    "dtree=DecisionTreeRegressor(max_depth=4)\n",
    "dtree.fit(x[['LSTAT','RM','DIS']],y)\n",
    "\n",
    "dot_data = StringIO()\n",
    "\n",
    "export_graphviz(dtree, out_file=dot_data,  \n",
    "                filled=True, rounded=True,\n",
    "                special_characters=True)\n",
    "\n",
    "graph = pydotplus.graph_from_dot_data(dot_data.getvalue())  "
   ]
  },
  {
   "cell_type": "code",
<<<<<<< HEAD
   "execution_count": null,
   "metadata": {},
   "outputs": [],
=======
   "execution_count": 18,
   "metadata": {
    "collapsed": false
   },
   "outputs": [
    {
     "data": {
      "image/png": "iVBORw0KGgoAAAANSUhEUgAACPMAAAJnCAYAAAD4XYQGAAAABmJLR0QA/wD/AP+gvaeTAAAgAElE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\n",
      "text/plain": [
       "<IPython.core.display.Image object>"
      ]
     },
     "execution_count": 18,
     "metadata": {},
     "output_type": "execute_result"
    }
   ],
>>>>>>> bbddb7b909690de166baff30ab064619561f0ab8
   "source": [
    "Image(graph.create_png())"
   ]
  },
  {
   "cell_type": "code",
<<<<<<< HEAD
   "execution_count": null,
   "metadata": {},
   "outputs": [],
=======
   "execution_count": 19,
   "metadata": {
    "collapsed": false
   },
   "outputs": [
    {
     "data": {
      "text/plain": [
       "<matplotlib.collections.PathCollection at 0x265a9240>"
      ]
     },
     "execution_count": 19,
     "metadata": {},
     "output_type": "execute_result"
    },
    {
     "data": {
      "image/png": "iVBORw0KGgoAAAANSUhEUgAAAX0AAAEJCAYAAAB4yveGAAAABHNCSVQICAgIfAhkiAAAAAlwSFlz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\n",
      "text/plain": [
       "<matplotlib.figure.Figure at 0xb750710>"
      ]
     },
     "metadata": {},
     "output_type": "display_data"
    }
   ],
>>>>>>> bbddb7b909690de166baff30ab064619561f0ab8
   "source": [
    "preds = dtree.predict(x[['LSTAT','RM','DIS']])\n",
    "\n",
    "plt.scatter(y,preds)"
   ]
  },
  {
   "cell_type": "code",
<<<<<<< HEAD
   "execution_count": null,
   "metadata": {},
   "outputs": [],
=======
   "execution_count": 20,
   "metadata": {
    "collapsed": false
   },
   "outputs": [
    {
     "data": {
      "text/plain": [
       "<matplotlib.collections.PathCollection at 0xd91ce80>"
      ]
     },
     "execution_count": 20,
     "metadata": {},
     "output_type": "execute_result"
    },
    {
     "data": {
      "image/png": "iVBORw0KGgoAAAANSUhEUgAAAX0AAAEJCAYAAAB4yveGAAAABHNCSVQICAgIfAhkiAAAAAlwSFlz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\nEfGR/wZqghAiz1OcEQAAAABJRU5ErkJggg==\n",
      "text/plain": [
       "<matplotlib.figure.Figure at 0x2513b6d8>"
      ]
     },
     "metadata": {},
     "output_type": "display_data"
    }
   ],
>>>>>>> bbddb7b909690de166baff30ab064619561f0ab8
   "source": [
    "plt.scatter(x['DIS'],preds)"
   ]
  },
  {
   "cell_type": "code",
   "execution_count": null,
   "metadata": {},
   "outputs": [],
   "source": []
  },
  {
   "cell_type": "markdown",
   "metadata": {},
   "source": [
    "## Try it yourself"
   ]
  },
  {
   "cell_type": "code",
<<<<<<< HEAD
   "execution_count": 2,
=======
   "execution_count": 21,
>>>>>>> bbddb7b909690de166baff30ab064619561f0ab8
   "metadata": {
    "collapsed": true
   },
   "outputs": [],
   "source": [
    "# vehicle data\n",
    "import pandas as pd\n",
    "url = 'https://raw.githubusercontent.com/justmarkham/DAT8/master/data/vehicles_train.csv'\n",
    "train = pd.read_csv(url)"
   ]
  },
  {
   "cell_type": "code",
<<<<<<< HEAD
   "execution_count": null,
   "metadata": {},
   "outputs": [],
=======
   "execution_count": 39,
   "metadata": {
    "collapsed": false
   },
   "outputs": [
    {
     "data": {
      "text/html": [
       "<div>\n",
       "<table border=\"1\" class=\"dataframe\">\n",
       "  <thead>\n",
       "    <tr style=\"text-align: right;\">\n",
       "      <th></th>\n",
       "      <th>price</th>\n",
       "      <th>year</th>\n",
       "      <th>miles</th>\n",
       "      <th>doors</th>\n",
       "      <th>vtype</th>\n",
       "      <th>mean prediction</th>\n",
       "    </tr>\n",
       "  </thead>\n",
       "  <tbody>\n",
       "    <tr>\n",
       "      <th>0</th>\n",
       "      <td>22000</td>\n",
       "      <td>2012</td>\n",
       "      <td>13000</td>\n",
       "      <td>2</td>\n",
       "      <td>0</td>\n",
       "      <td>6571.428571</td>\n",
       "    </tr>\n",
       "    <tr>\n",
       "      <th>1</th>\n",
       "      <td>14000</td>\n",
       "      <td>2010</td>\n",
       "      <td>30000</td>\n",
       "      <td>2</td>\n",
       "      <td>0</td>\n",
       "      <td>6571.428571</td>\n",
       "    </tr>\n",
       "    <tr>\n",
       "      <th>2</th>\n",
       "      <td>13000</td>\n",
       "      <td>2010</td>\n",
       "      <td>73500</td>\n",
       "      <td>4</td>\n",
       "      <td>0</td>\n",
       "      <td>6571.428571</td>\n",
       "    </tr>\n",
       "    <tr>\n",
       "      <th>3</th>\n",
       "      <td>9500</td>\n",
       "      <td>2009</td>\n",
       "      <td>78000</td>\n",
       "      <td>4</td>\n",
       "      <td>0</td>\n",
       "      <td>6571.428571</td>\n",
       "    </tr>\n",
       "    <tr>\n",
       "      <th>4</th>\n",
       "      <td>9000</td>\n",
       "      <td>2007</td>\n",
       "      <td>47000</td>\n",
       "      <td>4</td>\n",
       "      <td>0</td>\n",
       "      <td>6571.428571</td>\n",
       "    </tr>\n",
       "    <tr>\n",
       "      <th>5</th>\n",
       "      <td>4000</td>\n",
       "      <td>2006</td>\n",
       "      <td>124000</td>\n",
       "      <td>2</td>\n",
       "      <td>0</td>\n",
       "      <td>6571.428571</td>\n",
       "    </tr>\n",
       "    <tr>\n",
       "      <th>6</th>\n",
       "      <td>3000</td>\n",
       "      <td>2004</td>\n",
       "      <td>177000</td>\n",
       "      <td>4</td>\n",
       "      <td>0</td>\n",
       "      <td>6571.428571</td>\n",
       "    </tr>\n",
       "    <tr>\n",
       "      <th>7</th>\n",
       "      <td>2000</td>\n",
       "      <td>2004</td>\n",
       "      <td>209000</td>\n",
       "      <td>4</td>\n",
       "      <td>1</td>\n",
       "      <td>6571.428571</td>\n",
       "    </tr>\n",
       "    <tr>\n",
       "      <th>8</th>\n",
       "      <td>3000</td>\n",
       "      <td>2003</td>\n",
       "      <td>138000</td>\n",
       "      <td>2</td>\n",
       "      <td>0</td>\n",
       "      <td>6571.428571</td>\n",
       "    </tr>\n",
       "    <tr>\n",
       "      <th>9</th>\n",
       "      <td>1900</td>\n",
       "      <td>2003</td>\n",
       "      <td>160000</td>\n",
       "      <td>4</td>\n",
       "      <td>0</td>\n",
       "      <td>6571.428571</td>\n",
       "    </tr>\n",
       "    <tr>\n",
       "      <th>10</th>\n",
       "      <td>2500</td>\n",
       "      <td>2003</td>\n",
       "      <td>190000</td>\n",
       "      <td>2</td>\n",
       "      <td>1</td>\n",
       "      <td>6571.428571</td>\n",
       "    </tr>\n",
       "    <tr>\n",
       "      <th>11</th>\n",
       "      <td>5000</td>\n",
       "      <td>2001</td>\n",
       "      <td>62000</td>\n",
       "      <td>4</td>\n",
       "      <td>0</td>\n",
       "      <td>6571.428571</td>\n",
       "    </tr>\n",
       "    <tr>\n",
       "      <th>12</th>\n",
       "      <td>1800</td>\n",
       "      <td>1999</td>\n",
       "      <td>163000</td>\n",
       "      <td>2</td>\n",
       "      <td>1</td>\n",
       "      <td>6571.428571</td>\n",
       "    </tr>\n",
       "    <tr>\n",
       "      <th>13</th>\n",
       "      <td>1300</td>\n",
       "      <td>1997</td>\n",
       "      <td>138000</td>\n",
       "      <td>4</td>\n",
       "      <td>0</td>\n",
       "      <td>6571.428571</td>\n",
       "    </tr>\n",
       "  </tbody>\n",
       "</table>\n",
       "</div>"
      ],
      "text/plain": [
       "    price  year   miles  doors  vtype  mean prediction\n",
       "0   22000  2012   13000      2      0      6571.428571\n",
       "1   14000  2010   30000      2      0      6571.428571\n",
       "2   13000  2010   73500      4      0      6571.428571\n",
       "3    9500  2009   78000      4      0      6571.428571\n",
       "4    9000  2007   47000      4      0      6571.428571\n",
       "5    4000  2006  124000      2      0      6571.428571\n",
       "6    3000  2004  177000      4      0      6571.428571\n",
       "7    2000  2004  209000      4      1      6571.428571\n",
       "8    3000  2003  138000      2      0      6571.428571\n",
       "9    1900  2003  160000      4      0      6571.428571\n",
       "10   2500  2003  190000      2      1      6571.428571\n",
       "11   5000  2001   62000      4      0      6571.428571\n",
       "12   1800  1999  163000      2      1      6571.428571\n",
       "13   1300  1997  138000      4      0      6571.428571"
      ]
     },
     "execution_count": 39,
     "metadata": {},
     "output_type": "execute_result"
    }
   ],
>>>>>>> bbddb7b909690de166baff30ab064619561f0ab8
   "source": [
    "train['mean prediction'] = train.price.mean()\n",
    "train"
   ]
  },
  {
   "cell_type": "code",
<<<<<<< HEAD
   "execution_count": 3,
=======
   "execution_count": 23,
>>>>>>> bbddb7b909690de166baff30ab064619561f0ab8
   "metadata": {
    "collapsed": false
   },
   "outputs": [
    {
     "data": {
      "text/plain": [
       "5936.9819859959835"
      ]
     },
     "execution_count": 23,
     "metadata": {},
     "output_type": "execute_result"
    }
   ],
   "source": [
    "# calculate RMSE for those predictions\n",
    "from sklearn import metrics\n",
    "import numpy as np\n",
    "\n",
    "np.sqrt(mean_squared_error(train.price,train['mean prediction']))\n"
   ]
  },
  {
   "cell_type": "code",
   "execution_count": 38,
   "metadata": {
    "collapsed": true
   },
   "outputs": [],
   "source": [
    "# encode car as 0 and truck as 1\n",
    "train['vtype'] = train.vtype.map({'car':0,'truck':1})"
   ]
  },
  {
   "cell_type": "code",
   "execution_count": 41,
   "metadata": {
    "collapsed": false
   },
   "outputs": [],
   "source": [
    "# define X and y\n",
    "X=train.drop(['price','mean prediction'],axis=1)\n",
    "y=train.price\n"
   ]
  },
  {
   "cell_type": "code",
<<<<<<< HEAD
   "execution_count": 4,
=======
   "execution_count": 52,
>>>>>>> bbddb7b909690de166baff30ab064619561f0ab8
   "metadata": {
    "collapsed": true
   },
   "outputs": [],
   "source": [
    "# instantiate a DecisionTreeRegressor (with random_state=1)\n",
    "from sklearn.tree import DecisionTreeRegressor\n",
    "\n",
    "clf = DecisionTreeRegressor(max_depth=2)"
   ]
  },
  {
   "cell_type": "code",
<<<<<<< HEAD
   "execution_count": 5,
   "metadata": {},
   "outputs": [
    {
     "name": "stderr",
     "output_type": "stream",
     "text": [
      "/anaconda2/lib/python2.7/site-packages/sklearn/cross_validation.py:41: DeprecationWarning: This module was deprecated in version 0.18 in favor of the model_selection module into which all the refactored classes and functions are moved. Also note that the interface of the new CV iterators are different from that of this module. This module will be removed in 0.20.\n",
      "  \"This module will be removed in 0.20.\", DeprecationWarning)\n"
=======
   "execution_count": 53,
   "metadata": {
    "collapsed": false
   },
   "outputs": [
    {
     "name": "stdout",
     "output_type": "stream",
     "text": [
      "[8533.0240829380054, 1901.1692308798929, 630.31076991168948, 3763.6606736881404]\n",
      "[7250.0, 1901.1692308798929, 630.31076991168948, 3763.6606736881404]\n"
>>>>>>> bbddb7b909690de166baff30ab064619561f0ab8
     ]
    }
   ],
   "source": [
    "# use leave-one-out cross-validation (LOOCV) to estimate the RMSE for this model\n",
    "from sklearn.cross_validation import cross_val_score\n",
    "\n",
    "print [np.sqrt(-x) for x in cross_val_score(clf,X,y,'neg_mean_squared_error',cv=4)]\n",
    "\n",
    "rmse_vals = []\n",
    "for x in cross_val_score(clf,X,y,'neg_mean_squared_error',cv=4):\n",
    "    rmse_vals.append(np.sqrt(-x))\n",
    "    \n",
    "print rmse_vals"
   ]
  },
  {
   "cell_type": "markdown",
   "metadata": {},
   "source": [
    "['accuracy', 'adjusted_mutual_info_score', \n",
    "\n",
    "'adjusted_rand_score', 'average_precision', \n",
    "\n",
    "'completeness_score', 'explained_variance', \n",
    "\n",
    "'f1', 'f1_macro', 'f1_micro', 'f1_samples', \n",
    "\n",
    "'f1_weighted', 'fowlkes_mallows_score',\n",
    "\n",
    "'homogeneity_score', 'mutual_info_score',\n",
    "\n",
    "'neg_log_loss', 'neg_mean_absolute_error', \n",
    "\n",
    "'neg_mean_squared_error', 'neg_mean_squared_log_error', \n",
    "\n",
    "'neg_median_absolute_error', 'normalized_mutual_info_score',\n",
    "\n",
    "'precision', 'precision_macro', 'precision_micro', \n",
    "\n",
    "'precision_samples', 'precision_weighted', 'r2', \n",
    "\n",
    "'recall', 'recall_macro', 'recall_micro', 'recall_samples', \n",
    "\n",
    "'recall_weighted', 'roc_auc', 'v_measure_score']"
   ]
  },
  {
   "cell_type": "markdown",
   "metadata": {},
   "source": [
    "## New Dataset: Predicting 'EverGreenness' of Web Content\n",
    "\n",
    "_Evergreen_ sites are always relevant. As opposed to breaking news or current news, evergreen websites maintain traffic no matter the time or season.\n",
    "\n",
    "#### Data Dictionary\n",
    "\n",
    "We will be using the [Kaggle StumbleUpon Evergreen Classification Challenge.](https://www.kaggle.com/c/stumbleupon)\n",
    "\n",
    "FieldName|Type|Description\n",
    "---------|----|-----------\n",
    "url|string|Url of the webpage to be classified\n",
    "title|string|Title of the article\n",
    "body|string|Body text of article\n",
    "urlid|integer| StumbleUpon's unique identifier for each url\n",
    "boilerplate|json|Boilerplate text\n",
    "alchemy_category|string|Alchemy category (per the publicly available Alchemy API found at www.alchemyapi.com)\n",
    "alchemy_category_score|double|Alchemy category score (per the publicly available Alchemy API found at www.alchemyapi.com)\n",
    "avglinksize| double|Average number of words in each link\n",
    "commonlinkratio_1|double|# of links sharing at least 1 word with 1 other links / # of links\n",
    "commonlinkratio_2|double|# of links sharing at least 1 word with 2 other links / # of links\n",
    "commonlinkratio_3|double|# of links sharing at least 1 word with 3 other links / # of links\n",
    "commonlinkratio_4|double|# of links sharing at least 1 word with 4 other links / # of links\n",
    "compression_ratio|double|Compression achieved on this page via gzip (measure of redundancy)\n",
    "embed_ratio|double|Count of number of <embed> usage\n",
    "frameBased|integer (0 or 1)|A page is frame-based (1) if it has no body markup but have a frameset markup\n",
    "frameTagRatio|double|Ratio of iframe markups over total number of markups\n",
    "hasDomainLink|integer (0 or 1)|True (1) if it contains an <a> with an url with domain\n",
    "html_ratio|double|Ratio of tags vs text in the page\n",
    "image_ratio|double|Ratio of <img> tags vs text in the page\n",
    "is_news|integer (0 or 1) | True (1) if StumbleUpon's news classifier determines that this webpage is news\n",
    "lengthyLinkDomain| integer (0 or 1)|True (1) if at least 3 <a> 's text contains more than 30 alphanumeric characters\n",
    "linkwordscore|double|Percentage of words on the page that are in hyperlink's text\n",
    "news_front_page| integer (0 or 1)|True (1) if StumbleUpon's news classifier determines that this webpage is front-page news\n",
    "non_markup_alphanum_characters|integer| Page's text's number of alphanumeric characters\n",
    "numberOfLinks|integer Number of <a>|markups\n",
    "numwords_in_url| double|Number of words in url\n",
    "parametrizedLinkRatio|double|A link is parametrized if it's url contains parameters or has an attached onClick event\n",
    "spelling_errors_ratio|double|Ratio of words not found in wiki (considered to be a spelling mistake)\n",
    "label|integer (0 or 1)|User-determined label. Either evergreen (1) or non-evergreen (0); available for train.tsv only"
   ]
  },
  {
   "cell_type": "markdown",
   "metadata": {},
   "source": [
    "We will revisit the data science workflow in order to explore the dataset and determine important characteristics for \"evergreen\" websites.\n",
    "\n",
    "1. Prior to looking at the available data, brainstorm 3 - 5 characteristics that would be useful for predicting evergreen websites.\n",
    "2. After looking at the dataset, can you model or quantify any of the characteristics you wanted?\n",
    "  - For instance, if you believe high-image content websites are likely to be evergreen, then how would you build a feature that represents high image content?\n",
    "  - Or if you believe weather content ISN'T likely to be evergreen, then how would you build a feature to reflect that?            \n",
    "3. Does being a news site affect \"evergreen-ness\"? Compute or plot the percent of evergreen news sites.\n",
    "4. Does category in general affect evergreen-ness? Plot the rate of evergreen sites for all Alchemy categories.\n",
    "5. How many articles are there per category?\n",
    "6. Create a feature for the title containing \"recipe\". Is the % of evergreen websites higher or lower on pages that have \"recipe\" in the the title?"
   ]
  },
  {
   "cell_type": "markdown",
   "metadata": {},
   "source": [
    "### What are 3 - 5 characteristics that you think might predict 'evergreen-ness'?\n"
   ]
  },
  {
   "cell_type": "code",
<<<<<<< HEAD
   "execution_count": 6,
   "metadata": {},
=======
   "execution_count": 54,
   "metadata": {
    "collapsed": false
   },
>>>>>>> bbddb7b909690de166baff30ab064619561f0ab8
   "outputs": [
    {
     "name": "stdout",
     "output_type": "stream",
     "text": [
      "(7395, 27)\n"
     ]
    },
    {
     "data": {
      "text/html": [
       "<div>\n",
       "<style>\n",
       "    .dataframe thead tr:only-child th {\n",
       "        text-align: right;\n",
       "    }\n",
       "\n",
       "    .dataframe thead th {\n",
       "        text-align: left;\n",
       "    }\n",
       "\n",
       "    .dataframe tbody tr th {\n",
       "        vertical-align: top;\n",
       "    }\n",
       "</style>\n",
       "<table border=\"1\" class=\"dataframe\">\n",
       "  <thead>\n",
       "    <tr style=\"text-align: right;\">\n",
       "      <th></th>\n",
       "      <th>url</th>\n",
       "      <th>urlid</th>\n",
       "      <th>boilerplate</th>\n",
       "      <th>alchemy_category</th>\n",
       "      <th>alchemy_category_score</th>\n",
       "      <th>avglinksize</th>\n",
       "      <th>commonlinkratio_1</th>\n",
       "      <th>commonlinkratio_2</th>\n",
       "      <th>commonlinkratio_3</th>\n",
       "      <th>commonlinkratio_4</th>\n",
       "      <th>...</th>\n",
       "      <th>is_news</th>\n",
       "      <th>lengthyLinkDomain</th>\n",
       "      <th>linkwordscore</th>\n",
       "      <th>news_front_page</th>\n",
       "      <th>non_markup_alphanum_characters</th>\n",
       "      <th>numberOfLinks</th>\n",
       "      <th>numwords_in_url</th>\n",
       "      <th>parametrizedLinkRatio</th>\n",
       "      <th>spelling_errors_ratio</th>\n",
       "      <th>label</th>\n",
       "    </tr>\n",
       "  </thead>\n",
       "  <tbody>\n",
       "    <tr>\n",
       "      <th>0</th>\n",
       "      <td>http://www.bloomberg.com/news/2010-12-23/ibm-p...</td>\n",
       "      <td>4042</td>\n",
       "      <td>{\"title\":\"IBM Sees Holographic Calls Air Breat...</td>\n",
       "      <td>business</td>\n",
       "      <td>0.789131</td>\n",
       "      <td>2.055556</td>\n",
       "      <td>0.676471</td>\n",
       "      <td>0.205882</td>\n",
       "      <td>0.047059</td>\n",
       "      <td>0.023529</td>\n",
       "      <td>...</td>\n",
       "      <td>1</td>\n",
       "      <td>1</td>\n",
       "      <td>24</td>\n",
       "      <td>0</td>\n",
       "      <td>5424</td>\n",
       "      <td>170</td>\n",
       "      <td>8</td>\n",
       "      <td>0.152941</td>\n",
       "      <td>0.079130</td>\n",
       "      <td>0</td>\n",
       "    </tr>\n",
       "    <tr>\n",
       "      <th>1</th>\n",
       "      <td>http://www.popsci.com/technology/article/2012-...</td>\n",
       "      <td>8471</td>\n",
       "      <td>{\"title\":\"The Fully Electronic Futuristic Star...</td>\n",
       "      <td>recreation</td>\n",
       "      <td>0.574147</td>\n",
       "      <td>3.677966</td>\n",
       "      <td>0.508021</td>\n",
       "      <td>0.288770</td>\n",
       "      <td>0.213904</td>\n",
       "      <td>0.144385</td>\n",
       "      <td>...</td>\n",
       "      <td>1</td>\n",
       "      <td>1</td>\n",
       "      <td>40</td>\n",
       "      <td>0</td>\n",
       "      <td>4973</td>\n",
       "      <td>187</td>\n",
       "      <td>9</td>\n",
       "      <td>0.181818</td>\n",
       "      <td>0.125448</td>\n",
       "      <td>1</td>\n",
       "    </tr>\n",
       "    <tr>\n",
       "      <th>2</th>\n",
       "      <td>http://www.menshealth.com/health/flu-fighting-...</td>\n",
       "      <td>1164</td>\n",
       "      <td>{\"title\":\"Fruits that Fight the Flu fruits tha...</td>\n",
       "      <td>health</td>\n",
       "      <td>0.996526</td>\n",
       "      <td>2.382883</td>\n",
       "      <td>0.562016</td>\n",
       "      <td>0.321705</td>\n",
       "      <td>0.120155</td>\n",
       "      <td>0.042636</td>\n",
       "      <td>...</td>\n",
       "      <td>1</td>\n",
       "      <td>1</td>\n",
       "      <td>55</td>\n",
       "      <td>0</td>\n",
       "      <td>2240</td>\n",
       "      <td>258</td>\n",
       "      <td>11</td>\n",
       "      <td>0.166667</td>\n",
       "      <td>0.057613</td>\n",
       "      <td>1</td>\n",
       "    </tr>\n",
       "    <tr>\n",
       "      <th>3</th>\n",
       "      <td>http://www.dumblittleman.com/2007/12/10-foolpr...</td>\n",
       "      <td>6684</td>\n",
       "      <td>{\"title\":\"10 Foolproof Tips for Better Sleep \"...</td>\n",
       "      <td>health</td>\n",
       "      <td>0.801248</td>\n",
       "      <td>1.543103</td>\n",
       "      <td>0.400000</td>\n",
       "      <td>0.100000</td>\n",
       "      <td>0.016667</td>\n",
       "      <td>0.000000</td>\n",
       "      <td>...</td>\n",
       "      <td>1</td>\n",
       "      <td>0</td>\n",
       "      <td>24</td>\n",
       "      <td>0</td>\n",
       "      <td>2737</td>\n",
       "      <td>120</td>\n",
       "      <td>5</td>\n",
       "      <td>0.041667</td>\n",
       "      <td>0.100858</td>\n",
       "      <td>1</td>\n",
       "    </tr>\n",
       "    <tr>\n",
       "      <th>4</th>\n",
       "      <td>http://bleacherreport.com/articles/1205138-the...</td>\n",
       "      <td>9006</td>\n",
       "      <td>{\"title\":\"The 50 Coolest Jerseys You Didn t Kn...</td>\n",
       "      <td>sports</td>\n",
       "      <td>0.719157</td>\n",
       "      <td>2.676471</td>\n",
       "      <td>0.500000</td>\n",
       "      <td>0.222222</td>\n",
       "      <td>0.123457</td>\n",
       "      <td>0.043210</td>\n",
       "      <td>...</td>\n",
       "      <td>1</td>\n",
       "      <td>1</td>\n",
       "      <td>14</td>\n",
       "      <td>0</td>\n",
       "      <td>12032</td>\n",
       "      <td>162</td>\n",
       "      <td>10</td>\n",
       "      <td>0.098765</td>\n",
       "      <td>0.082569</td>\n",
       "      <td>0</td>\n",
       "    </tr>\n",
       "  </tbody>\n",
       "</table>\n",
       "<p>5 rows × 27 columns</p>\n",
       "</div>"
      ],
      "text/plain": [
       "                                                 url  urlid  \\\n",
       "0  http://www.bloomberg.com/news/2010-12-23/ibm-p...   4042   \n",
       "1  http://www.popsci.com/technology/article/2012-...   8471   \n",
       "2  http://www.menshealth.com/health/flu-fighting-...   1164   \n",
       "3  http://www.dumblittleman.com/2007/12/10-foolpr...   6684   \n",
       "4  http://bleacherreport.com/articles/1205138-the...   9006   \n",
       "\n",
       "                                         boilerplate alchemy_category  \\\n",
       "0  {\"title\":\"IBM Sees Holographic Calls Air Breat...         business   \n",
       "1  {\"title\":\"The Fully Electronic Futuristic Star...       recreation   \n",
       "2  {\"title\":\"Fruits that Fight the Flu fruits tha...           health   \n",
       "3  {\"title\":\"10 Foolproof Tips for Better Sleep \"...           health   \n",
       "4  {\"title\":\"The 50 Coolest Jerseys You Didn t Kn...           sports   \n",
       "\n",
       "  alchemy_category_score  avglinksize  commonlinkratio_1  commonlinkratio_2  \\\n",
       "0               0.789131     2.055556           0.676471           0.205882   \n",
       "1               0.574147     3.677966           0.508021           0.288770   \n",
       "2               0.996526     2.382883           0.562016           0.321705   \n",
       "3               0.801248     1.543103           0.400000           0.100000   \n",
       "4               0.719157     2.676471           0.500000           0.222222   \n",
       "\n",
       "   commonlinkratio_3  commonlinkratio_4  ...    is_news  lengthyLinkDomain  \\\n",
       "0           0.047059           0.023529  ...          1                  1   \n",
       "1           0.213904           0.144385  ...          1                  1   \n",
       "2           0.120155           0.042636  ...          1                  1   \n",
       "3           0.016667           0.000000  ...          1                  0   \n",
       "4           0.123457           0.043210  ...          1                  1   \n",
       "\n",
       "   linkwordscore  news_front_page  non_markup_alphanum_characters  \\\n",
       "0             24                0                            5424   \n",
       "1             40                0                            4973   \n",
       "2             55                0                            2240   \n",
       "3             24                0                            2737   \n",
       "4             14                0                           12032   \n",
       "\n",
       "   numberOfLinks  numwords_in_url parametrizedLinkRatio  \\\n",
       "0            170                8              0.152941   \n",
       "1            187                9              0.181818   \n",
       "2            258               11              0.166667   \n",
       "3            120                5              0.041667   \n",
       "4            162               10              0.098765   \n",
       "\n",
       "   spelling_errors_ratio  label  \n",
       "0               0.079130      0  \n",
       "1               0.125448      1  \n",
       "2               0.057613      1  \n",
       "3               0.100858      1  \n",
       "4               0.082569      0  \n",
       "\n",
       "[5 rows x 27 columns]"
      ]
     },
     "execution_count": 54,
     "metadata": {},
     "output_type": "execute_result"
    }
   ],
   "source": [
    "# Load data\n",
    "df = pd.read_csv(\"../../../../2_dataset/stumbleupon.tsv\", sep='\\t')\n",
    "print df.shape\n",
    "df.head()"
   ]
  },
  {
   "cell_type": "markdown",
   "metadata": {},
   "source": [
    "### Does being a news site affect 'evergreen-ness'? \n"
   ]
  },
  {
   "cell_type": "code",
<<<<<<< HEAD
   "execution_count": 7,
   "metadata": {},
=======
   "execution_count": 56,
   "metadata": {
    "collapsed": false
   },
>>>>>>> bbddb7b909690de166baff30ab064619561f0ab8
   "outputs": [
    {
     "data": {
      "text/plain": [
<<<<<<< HEAD
       "u'IBM Sees Holographic Calls Air Breathing Batteries ibm sees holographic calls, air-breathing batteries'"
      ]
     },
     "execution_count": 7,
=======
       "is_news\n",
       "1    0.516916\n",
       "?    0.507562\n",
       "Name: label, dtype: float64"
      ]
     },
     "execution_count": 56,
>>>>>>> bbddb7b909690de166baff30ab064619561f0ab8
     "metadata": {},
     "output_type": "execute_result"
    }
   ],
   "source": [
<<<<<<< HEAD
    "import json\n",
    "json.loads(df.boilerplate[0])['title']"
   ]
  },
  {
   "cell_type": "code",
   "execution_count": 10,
   "metadata": {},
   "outputs": [],
   "source": [
    "def grab_title(x):\n",
    "    try:\n",
    "        t = json.loads(x)['title']\n",
    "        return t\n",
    "    except:\n",
    "        return \"No Title\""
=======
    "df.groupby('is_news').label.mean()"
>>>>>>> bbddb7b909690de166baff30ab064619561f0ab8
   ]
  },
  {
   "cell_type": "code",
   "execution_count": 12,
   "metadata": {
    "collapsed": true
   },
   "outputs": [],
   "source": [
    "df['title'] = df.boilerplate.apply(grab_title)"
   ]
  },
  {
   "cell_type": "code",
   "execution_count": 15,
   "metadata": {},
   "outputs": [
    {
     "data": {
      "text/plain": [
       "0       False\n",
       "1       False\n",
       "2       False\n",
       "3       False\n",
       "4       False\n",
       "5       False\n",
       "6       False\n",
       "7       False\n",
       "8       False\n",
       "9       False\n",
       "10      False\n",
       "11      False\n",
       "12      False\n",
       "13      False\n",
       "14      False\n",
       "15      False\n",
       "16      False\n",
       "17      False\n",
       "18      False\n",
       "19      False\n",
       "20      False\n",
       "21      False\n",
       "22      False\n",
       "23      False\n",
       "24      False\n",
       "25      False\n",
       "26      False\n",
       "27      False\n",
       "28      False\n",
       "29      False\n",
       "        ...  \n",
       "7365    False\n",
       "7366    False\n",
       "7367    False\n",
       "7368    False\n",
       "7369    False\n",
       "7370    False\n",
       "7371    False\n",
       "7372    False\n",
       "7373    False\n",
       "7374    False\n",
       "7375    False\n",
       "7376    False\n",
       "7377    False\n",
       "7378    False\n",
       "7379    False\n",
       "7380    False\n",
       "7381    False\n",
       "7382    False\n",
       "7383    False\n",
       "7384    False\n",
       "7385    False\n",
       "7386    False\n",
       "7387    False\n",
       "7388    False\n",
       "7389    False\n",
       "7390    False\n",
       "7391    False\n",
       "7392    False\n",
       "7393    False\n",
       "7394    False\n",
       "Name: title, Length: 7395, dtype: bool"
      ]
     },
     "execution_count": 15,
     "metadata": {},
     "output_type": "execute_result"
    }
   ],
   "source": [
    "df.title.str.find('recipe') > 0"
   ]
  },
  {
   "cell_type": "code",
   "execution_count": 21,
   "metadata": {},
   "outputs": [
    {
     "ename": "SyntaxError",
     "evalue": "invalid syntax (<ipython-input-21-812a9503efdb>, line 1)",
     "output_type": "error",
     "traceback": [
      "\u001b[0;36m  File \u001b[0;32m\"<ipython-input-21-812a9503efdb>\"\u001b[0;36m, line \u001b[0;32m1\u001b[0m\n\u001b[0;31m    df['is_recipe'] = df.title.str.find('recipe').map(['-1':0])\u001b[0m\n\u001b[0m                                                           ^\u001b[0m\n\u001b[0;31mSyntaxError\u001b[0m\u001b[0;31m:\u001b[0m invalid syntax\n"
     ]
    }
   ],
   "source": [
    "df['is_recipe'] = df.title.str.find('recipe').map(['-1':0])"
   ]
  },
  {
   "cell_type": "code",
   "execution_count": 17,
   "metadata": {},
   "outputs": [
    {
     "data": {
      "text/plain": [
       "0      -1.0\n",
       "1      -1.0\n",
       "2      -1.0\n",
       "3      -1.0\n",
       "4      -1.0\n",
       "5      -1.0\n",
       "6      -1.0\n",
       "7      -1.0\n",
       "8      -1.0\n",
       "9      -1.0\n",
       "10     -1.0\n",
       "11     -1.0\n",
       "12     -1.0\n",
       "13     -1.0\n",
       "14     -1.0\n",
       "15     -1.0\n",
       "16     -1.0\n",
       "17      NaN\n",
       "18     -1.0\n",
       "19     -1.0\n",
       "20     -1.0\n",
       "21     -1.0\n",
       "22     -1.0\n",
       "23     -1.0\n",
       "24     -1.0\n",
       "25     -1.0\n",
       "26     -1.0\n",
       "27     -1.0\n",
       "28     -1.0\n",
       "29     -1.0\n",
       "       ... \n",
       "7365   -1.0\n",
       "7366   -1.0\n",
       "7367   -1.0\n",
       "7368   -1.0\n",
       "7369   -1.0\n",
       "7370   -1.0\n",
       "7371   -1.0\n",
       "7372   -1.0\n",
       "7373   -1.0\n",
       "7374   -1.0\n",
       "7375   -1.0\n",
       "7376   -1.0\n",
       "7377   -1.0\n",
       "7378   -1.0\n",
       "7379   -1.0\n",
       "7380   -1.0\n",
       "7381   -1.0\n",
       "7382   -1.0\n",
       "7383   -1.0\n",
       "7384   -1.0\n",
       "7385   -1.0\n",
       "7386   -1.0\n",
       "7387   -1.0\n",
       "7388   -1.0\n",
       "7389   -1.0\n",
       "7390   -1.0\n",
       "7391   -1.0\n",
       "7392   -1.0\n",
       "7393   -1.0\n",
       "7394   -1.0\n",
       "Name: is_recipe, Length: 7395, dtype: float64"
      ]
     },
     "execution_count": 17,
     "metadata": {},
     "output_type": "execute_result"
    }
   ],
   "source": [
    "df.is_recipe"
   ]
  },
  {
   "cell_type": "markdown",
   "metadata": {},
   "source": [
    "### Does category have an effeect on evergreenness?\n",
    "\n",
    "* Let's plot the rate of evergreenness for each category"
   ]
  },
  {
   "cell_type": "code",
<<<<<<< HEAD
   "execution_count": null,
   "metadata": {},
   "outputs": [],
   "source": []
=======
   "execution_count": 59,
   "metadata": {
    "collapsed": false
   },
   "outputs": [
    {
     "data": {
      "text/plain": [
       "alchemy_category\n",
       "?                     0.502135\n",
       "arts_entertainment    0.371945\n",
       "business              0.711364\n",
       "computer_internet     0.246622\n",
       "culture_politics      0.457726\n",
       "gaming                0.368421\n",
       "health                0.573123\n",
       "law_crime             0.419355\n",
       "recreation            0.684296\n",
       "religion              0.416667\n",
       "science_technology    0.456747\n",
       "sports                0.205263\n",
       "unknown               0.333333\n",
       "weather               0.000000\n",
       "Name: label, dtype: float64"
      ]
     },
     "execution_count": 59,
     "metadata": {},
     "output_type": "execute_result"
    }
   ],
   "source": [
    "df.groupby('alchemy_category').label.mean()"
   ]
>>>>>>> bbddb7b909690de166baff30ab064619561f0ab8
  },
  {
   "cell_type": "code",
   "execution_count": null,
   "metadata": {},
   "outputs": [],
   "source": []
  },
  {
   "cell_type": "markdown",
   "metadata": {},
   "source": [
    "### How many articles are there per category?\n",
    "\n",
    "* We can do this using either value_counts or a groupby."
   ]
  },
  {
   "cell_type": "code",
   "execution_count": 60,
   "metadata": {
    "collapsed": false
   },
   "outputs": [
    {
     "data": {
      "text/plain": [
       "?                     2342\n",
       "recreation            1229\n",
       "arts_entertainment     941\n",
       "business               880\n",
       "health                 506\n",
       "sports                 380\n",
       "culture_politics       343\n",
       "computer_internet      296\n",
       "science_technology     289\n",
       "gaming                  76\n",
       "religion                72\n",
       "law_crime               31\n",
       "unknown                  6\n",
       "weather                  4\n",
       "Name: alchemy_category, dtype: int64"
      ]
     },
     "execution_count": 60,
     "metadata": {},
     "output_type": "execute_result"
    }
   ],
   "source": [
    "# Using a groupby\n",
    "df.alchemy_category.value_counts()"
   ]
  },
  {
   "cell_type": "code",
   "execution_count": null,
   "metadata": {
    "collapsed": true
   },
   "outputs": [],
   "source": []
  },
  {
   "cell_type": "code",
   "execution_count": null,
   "metadata": {
    "collapsed": true
   },
   "outputs": [],
   "source": []
  },
  {
   "cell_type": "markdown",
   "metadata": {},
   "source": [
    "### Create a feature that indicates whether the title contains the word 'recipe'"
   ]
  },
  {
   "cell_type": "code",
   "execution_count": 75,
   "metadata": {
    "collapsed": true
   },
   "outputs": [],
   "source": [
    "df.dropna(inplace=True)"
   ]
  },
  {
   "cell_type": "code",
   "execution_count": 65,
   "metadata": {
    "collapsed": false
   },
   "outputs": [
    {
     "data": {
      "text/plain": [
       "u'IBM Sees Holographic Calls Air Breathing Batteries ibm sees holographic calls, air-breathing batteries'"
      ]
     },
     "execution_count": 65,
     "metadata": {},
     "output_type": "execute_result"
    }
   ],
   "source": [
    "# First we need to split the 'boilerplate' column into 'title' and 'body'\n",
    "import json\n",
    "\n",
    "json.loads(df.boilerplate[0])['title']"
   ]
  },
  {
   "cell_type": "code",
   "execution_count": 78,
   "metadata": {
    "collapsed": true
   },
   "outputs": [],
   "source": [
    "def grab_title(x):\n",
    "    try:\n",
    "        t = json.loads(x)['title']\n",
    "        return t\n",
    "    except:\n",
    "        return 'No Title'"
   ]
  },
  {
   "cell_type": "code",
   "execution_count": 79,
   "metadata": {
    "collapsed": false
   },
   "outputs": [],
   "source": [
    "df['title'] = df.boilerplate.apply(grab_title)"
   ]
  },
  {
   "cell_type": "code",
   "execution_count": 109,
   "metadata": {
    "collapsed": false
   },
   "outputs": [],
   "source": [
    "df['is_recipe'] = df.title.str.contains('recipe')"
   ]
  },
  {
   "cell_type": "code",
   "execution_count": null,
   "metadata": {
    "collapsed": false
   },
   "outputs": [],
   "source": []
  },
  {
   "cell_type": "code",
   "execution_count": null,
   "metadata": {
    "collapsed": true
   },
   "outputs": [],
   "source": []
  },
  {
   "cell_type": "code",
   "execution_count": null,
   "metadata": {
    "collapsed": true
   },
   "outputs": [],
   "source": []
  },
  {
   "cell_type": "markdown",
   "metadata": {},
   "source": [
    "### Are there other visualizations or groupings that can give us some insights into the data?"
   ]
  },
  {
   "cell_type": "code",
   "execution_count": null,
   "metadata": {
    "collapsed": true
   },
   "outputs": [],
   "source": []
  },
  {
   "cell_type": "code",
   "execution_count": null,
   "metadata": {
    "collapsed": true
   },
   "outputs": [],
   "source": []
  },
  {
   "cell_type": "code",
   "execution_count": null,
   "metadata": {
    "collapsed": true
   },
   "outputs": [],
   "source": []
  },
  {
   "cell_type": "markdown",
   "metadata": {},
   "source": [
    "### Prepare the data for modelling"
   ]
  },
  {
   "cell_type": "code",
   "execution_count": 113,
   "metadata": {
    "collapsed": false
   },
   "outputs": [],
   "source": [
    "dummies = pd.get_dummies(df.alchemy_category,prefix='alchemy').drop('alchemy_?',axis=1)"
   ]
  },
  {
   "cell_type": "code",
   "execution_count": 114,
   "metadata": {
    "collapsed": false
   },
   "outputs": [
    {
     "data": {
      "text/plain": [
       "(7395, 29)"
      ]
     },
     "execution_count": 114,
     "metadata": {},
     "output_type": "execute_result"
    }
   ],
   "source": [
    "df.shape"
   ]
  },
  {
   "cell_type": "code",
   "execution_count": 115,
   "metadata": {
    "collapsed": false
   },
   "outputs": [
    {
     "data": {
      "text/plain": [
       "(7395, 42)"
      ]
     },
     "execution_count": 115,
     "metadata": {},
     "output_type": "execute_result"
    }
   ],
   "source": [
    "df = pd.concat([df,dummies],axis=1)"
   ]
  },
  {
   "cell_type": "code",
   "execution_count": 116,
   "metadata": {
    "collapsed": true
   },
   "outputs": [],
   "source": [
    "features = ['is_news','alchemy_category_score','image_ratio'] + list(dummies.columns.values)"
   ]
  },
  {
   "cell_type": "code",
   "execution_count": 126,
   "metadata": {
    "collapsed": false
   },
   "outputs": [
    {
     "data": {
      "text/plain": [
       "1    4552\n",
       "?    2843\n",
       "Name: is_news, dtype: int64"
      ]
     },
     "execution_count": 126,
     "metadata": {},
     "output_type": "execute_result"
    }
   ],
   "source": [
    "df.is_news.value_counts(dropna=False)"
   ]
  },
  {
   "cell_type": "code",
   "execution_count": 134,
   "metadata": {
    "collapsed": false
   },
   "outputs": [],
   "source": [
    "df['alchemy_category_score'] = df.alchemy_category_score.map({'?':0,'1':1})"
   ]
  },
  {
   "cell_type": "code",
   "execution_count": 140,
   "metadata": {
    "collapsed": true
   },
   "outputs": [],
   "source": [
    "# Set X and y\n",
    "X = df[features].drop(['alchemy_category_score'],axis=1)\n",
    "y = df.label"
   ]
  },
  {
   "cell_type": "code",
   "execution_count": 141,
   "metadata": {
    "collapsed": true
   },
   "outputs": [],
   "source": [
    "# Train a Decision Tree "
   ]
  },
  {
   "cell_type": "code",
   "execution_count": 142,
   "metadata": {
    "collapsed": true
   },
   "outputs": [],
   "source": [
    "X_train, X_test, y_train, y_test = train_test_split(X, y, test_size=0.4, random_state=42)"
   ]
  },
  {
   "cell_type": "code",
   "execution_count": 145,
   "metadata": {
    "collapsed": true
   },
   "outputs": [],
   "source": [
    "clf = DecisionTreeClassifier(max_depth=5)"
   ]
  },
  {
   "cell_type": "code",
   "execution_count": 146,
   "metadata": {
    "collapsed": false
   },
   "outputs": [
    {
     "data": {
      "text/plain": [
       "DecisionTreeClassifier(class_weight=None, criterion='gini', max_depth=5,\n",
       "            max_features=None, max_leaf_nodes=None,\n",
       "            min_impurity_decrease=0.0, min_impurity_split=None,\n",
       "            min_samples_leaf=1, min_samples_split=2,\n",
       "            min_weight_fraction_leaf=0.0, presort=False, random_state=None,\n",
       "            splitter='best')"
      ]
     },
     "execution_count": 146,
     "metadata": {},
     "output_type": "execute_result"
    }
   ],
   "source": [
    "clf.fit(X_train,y_train)"
   ]
  },
  {
   "cell_type": "code",
   "execution_count": 147,
   "metadata": {
    "collapsed": true
   },
   "outputs": [],
   "source": [
    "y_preds = clf.predict(X_test)\n",
    "y_probs = clf.predict_proba(X_test)"
   ]
  },
  {
   "cell_type": "code",
   "execution_count": 148,
   "metadata": {
    "collapsed": true
   },
   "outputs": [],
   "source": [
    "from sklearn.metrics import accuracy_score"
   ]
  },
  {
   "cell_type": "code",
   "execution_count": 151,
   "metadata": {
    "collapsed": false
   },
   "outputs": [
    {
     "data": {
      "text/plain": [
       "array([[ 0.45454545,  0.54545455],\n",
       "       [ 0.50092081,  0.49907919],\n",
       "       [ 0.28065395,  0.71934605],\n",
       "       ..., \n",
       "       [ 0.1787234 ,  0.8212766 ],\n",
       "       [ 0.50092081,  0.49907919],\n",
       "       [ 0.76515152,  0.23484848]])"
      ]
     },
     "execution_count": 151,
     "metadata": {},
     "output_type": "execute_result"
    }
   ],
   "source": [
    "y_probs"
   ]
  },
  {
   "cell_type": "code",
   "execution_count": 153,
   "metadata": {
    "collapsed": false
   },
   "outputs": [
    {
     "name": "stdout",
     "output_type": "stream",
     "text": [
      "0.595334685598\n",
      "0.646056488533\n"
     ]
    }
   ],
   "source": [
    "# Evaluate accuracy of model on test set\n",
    "print accuracy_score(y_test,y_preds)\n",
    "\n",
    "# Evaluate ROC AUC score of model on test set\n",
    "print roc_auc_score(y_test,y_probs[:,1])"
   ]
  },
  {
   "cell_type": "markdown",
   "metadata": {},
   "source": [
    "### Demo: Overfitting in decision trees\n",
    "Objective: Understand the differences between linear and non-linear models\n",
    "\n",
    "Decision trees tend to be weak models because they can easily memorize or overfit to a dataset.\n",
    "\n",
    "A model is overfit when it memorizes or bends to a few specific data points rather than picking up general trends in the data.\n",
    "\n",
    "An unconstrained decision tree can learn an extreme tree (e.g. one feature for each word in a news article).\n",
    "\n",
    "We can limit our decision trees using a few methods.\n",
    "Limiting the number of questions (nodes) a tree can have).\n",
    "Limiting the number of samples in the leaf nodes."
   ]
  },
  {
   "cell_type": "code",
<<<<<<< HEAD
   "execution_count": null,
   "metadata": {},
   "outputs": [],
=======
   "execution_count": 154,
   "metadata": {
    "collapsed": false
   },
   "outputs": [
    {
     "data": {
      "image/png": "iVBORw0KGgoAAAANSUhEUgAAAfoAAAEVCAYAAAAIByceAAAABHNCSVQICAgIfAhkiAAAAAlwSFlz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\noZckqWIWekmSKmahlySpYhZ6SZIq9l/C78QIseJdWwAAAABJRU5ErkJggg==\n",
      "text/plain": [
       "<matplotlib.figure.Figure at 0x26f36668>"
      ]
     },
     "metadata": {},
     "output_type": "display_data"
    },
    {
     "data": {
      "image/png": "iVBORw0KGgoAAAANSUhEUgAAAfoAAAEVCAYAAAAIByceAAAABHNCSVQICAgIfAhkiAAAAAlwSFlz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\n",
      "text/plain": [
       "<matplotlib.figure.Figure at 0x2de3a0b8>"
      ]
     },
     "metadata": {},
     "output_type": "display_data"
    }
   ],
>>>>>>> bbddb7b909690de166baff30ab064619561f0ab8
   "source": [
    "import numpy as np\n",
    "import matplotlib.pyplot as plt\n",
    "from matplotlib.colors import ListedColormap\n",
    "from sklearn import neighbors, datasets\n",
    "\n",
    "hyperparameters = [(8, 1), (8, 5)]\n",
    "\n",
    "# import some data to play with\n",
    "iris = datasets.load_iris()\n",
    "X_iris = iris.data[:, :2]  # we only take the first two features. We could\n",
    "# avoid this ugly slicing by using a two-dim dataset\n",
    "y_iris = iris.target\n",
    "\n",
    "h = .02  # step size in the mesh\n",
    "\n",
    "# Create color maps\n",
    "cmap_light = ListedColormap(['#FFAAAA', '#AAFFAA', '#AAAAFF'])\n",
    "cmap_bold = ListedColormap(['#FF0000', '#00FF00', '#0000FF'])\n",
    "\n",
    "for max_depth, min_samples_leaf in hyperparameters:\n",
    "    # we create an instance of Neighbours Classifier and fit the data.\n",
    "    clf = tree.DecisionTreeClassifier(max_depth=max_depth, \n",
    "                                      min_samples_leaf=min_samples_leaf)\n",
    "    clf.fit(X_iris, y_iris)\n",
    "\n",
    "    # Plot the decision boundary. For that, we will assign a color to each\n",
    "    # point in the mesh [x_min, m_max]x[y_min, y_max].\n",
    "    x_min, x_max = X_iris[:, 0].min() - 1, X_iris[:, 0].max() + 1\n",
    "    y_min, y_max = X_iris[:, 1].min() - 1, X_iris[:, 1].max() + 1\n",
    "    xx, yy = np.meshgrid(np.arange(x_min, x_max, h),\n",
    "                         np.arange(y_min, y_max, h))\n",
    "    Z = clf.predict(np.c_[xx.ravel(), yy.ravel()])\n",
    "\n",
    "    # Put the result into a color plot\n",
    "    Z = Z.reshape(xx.shape)\n",
    "    plt.figure()\n",
    "    plt.pcolormesh(xx, yy, Z, cmap=cmap_light)\n",
    "\n",
    "    # Plot also the training points\n",
    "    plt.scatter(X_iris[:, 0], X_iris[:, 1], c=y_iris, cmap=cmap_bold)\n",
    "    plt.xlim(xx.min(), xx.max())\n",
    "    plt.ylim(yy.min(), yy.max())\n",
    "    plt.title(\"3-Class classification (max_depth = %i, min_samples_leaf = %i)\"\n",
    "              % (max_depth, min_samples_leaf))"
   ]
  },
  {
   "cell_type": "markdown",
   "metadata": {},
   "source": [
    "### Is our model overfit?"
   ]
  },
  {
   "cell_type": "code",
<<<<<<< HEAD
   "execution_count": null,
   "metadata": {},
   "outputs": [],
=======
   "execution_count": 156,
   "metadata": {
    "collapsed": false
   },
   "outputs": [
    {
     "ename": "ValueError",
     "evalue": "Number of features of the model must match the input. Model n_features is 2 and input n_features is 15 ",
     "output_type": "error",
     "traceback": [
      "\u001b[1;31m---------------------------------------------------------------------------\u001b[0m",
      "\u001b[1;31mValueError\u001b[0m                                Traceback (most recent call last)",
      "\u001b[1;32m<ipython-input-156-b1639743aebd>\u001b[0m in \u001b[0;36m<module>\u001b[1;34m()\u001b[0m\n\u001b[0;32m      1\u001b[0m \u001b[1;31m# Evaluate model on train set\u001b[0m\u001b[1;33m\u001b[0m\u001b[1;33m\u001b[0m\u001b[0m\n\u001b[1;32m----> 2\u001b[1;33m \u001b[1;32mprint\u001b[0m \u001b[1;34m\"Train Accuracy: %0.3f\"\u001b[0m \u001b[1;33m%\u001b[0m \u001b[0mclf\u001b[0m\u001b[1;33m.\u001b[0m\u001b[0mscore\u001b[0m\u001b[1;33m(\u001b[0m\u001b[0mX_train\u001b[0m\u001b[1;33m,\u001b[0m \u001b[0my_train\u001b[0m\u001b[1;33m)\u001b[0m\u001b[1;33m\u001b[0m\u001b[0m\n\u001b[0m\u001b[0;32m      3\u001b[0m \u001b[1;33m\u001b[0m\u001b[0m\n\u001b[0;32m      4\u001b[0m \u001b[1;31m# Evaluate model on test set\u001b[0m\u001b[1;33m\u001b[0m\u001b[1;33m\u001b[0m\u001b[0m\n\u001b[0;32m      5\u001b[0m \u001b[1;32mprint\u001b[0m \u001b[1;34m\"Test Accuracy: %0.3f\"\u001b[0m \u001b[1;33m%\u001b[0m \u001b[0mclf\u001b[0m\u001b[1;33m.\u001b[0m\u001b[0mscore\u001b[0m\u001b[1;33m(\u001b[0m\u001b[0mX_test\u001b[0m\u001b[1;33m,\u001b[0m \u001b[0my_test\u001b[0m\u001b[1;33m)\u001b[0m\u001b[1;33m\u001b[0m\u001b[0m\n",
      "\u001b[1;32mC:\\Users\\jtate\\AppData\\Local\\Continuum\\Anaconda2\\lib\\site-packages\\sklearn\\base.pyc\u001b[0m in \u001b[0;36mscore\u001b[1;34m(self, X, y, sample_weight)\u001b[0m\n\u001b[0;32m    348\u001b[0m         \"\"\"\n\u001b[0;32m    349\u001b[0m         \u001b[1;32mfrom\u001b[0m \u001b[1;33m.\u001b[0m\u001b[0mmetrics\u001b[0m \u001b[1;32mimport\u001b[0m \u001b[0maccuracy_score\u001b[0m\u001b[1;33m\u001b[0m\u001b[0m\n\u001b[1;32m--> 350\u001b[1;33m         \u001b[1;32mreturn\u001b[0m \u001b[0maccuracy_score\u001b[0m\u001b[1;33m(\u001b[0m\u001b[0my\u001b[0m\u001b[1;33m,\u001b[0m \u001b[0mself\u001b[0m\u001b[1;33m.\u001b[0m\u001b[0mpredict\u001b[0m\u001b[1;33m(\u001b[0m\u001b[0mX\u001b[0m\u001b[1;33m)\u001b[0m\u001b[1;33m,\u001b[0m \u001b[0msample_weight\u001b[0m\u001b[1;33m=\u001b[0m\u001b[0msample_weight\u001b[0m\u001b[1;33m)\u001b[0m\u001b[1;33m\u001b[0m\u001b[0m\n\u001b[0m\u001b[0;32m    351\u001b[0m \u001b[1;33m\u001b[0m\u001b[0m\n\u001b[0;32m    352\u001b[0m \u001b[1;33m\u001b[0m\u001b[0m\n",
      "\u001b[1;32mC:\\Users\\jtate\\AppData\\Local\\Continuum\\Anaconda2\\lib\\site-packages\\sklearn\\tree\\tree.pyc\u001b[0m in \u001b[0;36mpredict\u001b[1;34m(self, X, check_input)\u001b[0m\n\u001b[0;32m    410\u001b[0m         \"\"\"\n\u001b[0;32m    411\u001b[0m         \u001b[0mcheck_is_fitted\u001b[0m\u001b[1;33m(\u001b[0m\u001b[0mself\u001b[0m\u001b[1;33m,\u001b[0m \u001b[1;34m'tree_'\u001b[0m\u001b[1;33m)\u001b[0m\u001b[1;33m\u001b[0m\u001b[0m\n\u001b[1;32m--> 412\u001b[1;33m         \u001b[0mX\u001b[0m \u001b[1;33m=\u001b[0m \u001b[0mself\u001b[0m\u001b[1;33m.\u001b[0m\u001b[0m_validate_X_predict\u001b[0m\u001b[1;33m(\u001b[0m\u001b[0mX\u001b[0m\u001b[1;33m,\u001b[0m \u001b[0mcheck_input\u001b[0m\u001b[1;33m)\u001b[0m\u001b[1;33m\u001b[0m\u001b[0m\n\u001b[0m\u001b[0;32m    413\u001b[0m         \u001b[0mproba\u001b[0m \u001b[1;33m=\u001b[0m \u001b[0mself\u001b[0m\u001b[1;33m.\u001b[0m\u001b[0mtree_\u001b[0m\u001b[1;33m.\u001b[0m\u001b[0mpredict\u001b[0m\u001b[1;33m(\u001b[0m\u001b[0mX\u001b[0m\u001b[1;33m)\u001b[0m\u001b[1;33m\u001b[0m\u001b[0m\n\u001b[0;32m    414\u001b[0m         \u001b[0mn_samples\u001b[0m \u001b[1;33m=\u001b[0m \u001b[0mX\u001b[0m\u001b[1;33m.\u001b[0m\u001b[0mshape\u001b[0m\u001b[1;33m[\u001b[0m\u001b[1;36m0\u001b[0m\u001b[1;33m]\u001b[0m\u001b[1;33m\u001b[0m\u001b[0m\n",
      "\u001b[1;32mC:\\Users\\jtate\\AppData\\Local\\Continuum\\Anaconda2\\lib\\site-packages\\sklearn\\tree\\tree.pyc\u001b[0m in \u001b[0;36m_validate_X_predict\u001b[1;34m(self, X, check_input)\u001b[0m\n\u001b[0;32m    382\u001b[0m                              \u001b[1;34m\"match the input. Model n_features is %s and \"\u001b[0m\u001b[1;33m\u001b[0m\u001b[0m\n\u001b[0;32m    383\u001b[0m                              \u001b[1;34m\"input n_features is %s \"\u001b[0m\u001b[1;33m\u001b[0m\u001b[0m\n\u001b[1;32m--> 384\u001b[1;33m                              % (self.n_features_, n_features))\n\u001b[0m\u001b[0;32m    385\u001b[0m \u001b[1;33m\u001b[0m\u001b[0m\n\u001b[0;32m    386\u001b[0m         \u001b[1;32mreturn\u001b[0m \u001b[0mX\u001b[0m\u001b[1;33m\u001b[0m\u001b[0m\n",
      "\u001b[1;31mValueError\u001b[0m: Number of features of the model must match the input. Model n_features is 2 and input n_features is 15 "
     ]
    }
   ],
>>>>>>> bbddb7b909690de166baff30ab064619561f0ab8
   "source": [
    "# Evaluate model on train set\n",
    "print \"Train Accuracy: %0.3f\" % clf.score(X_train, y_train)\n",
    "\n",
    "# Evaluate model on test set\n",
    "print \"Test Accuracy: %0.3f\" % clf.score(X_test, y_test)"
   ]
  },
  {
   "cell_type": "markdown",
   "metadata": {},
   "source": [
    "### 3.2 Demo: Bias vs. Variance\n",
    "Control for overfitting in the decision model by adjusting the maximum number of questions (max_depth) or the minimum number of records in each final node (min_samples_leaf)"
   ]
  },
  {
   "cell_type": "code",
   "execution_count": null,
   "metadata": {
    "collapsed": true
   },
   "outputs": [],
   "source": [
    "# Instantiate model using default params\n",
    "dt = DecisionTreeClassifier(max_depth=7, min_samples_leaf=5)\n",
    "\n",
    "# Train model on training set\n",
    "dt.fit(X_train, y_train)"
   ]
  },
  {
   "cell_type": "code",
   "execution_count": null,
   "metadata": {
    "collapsed": true
   },
   "outputs": [],
   "source": [
    "# Evaluate model on train set\n",
    "print \"Accuracy: %0.3f\" % dt.score(X_train, y_train)\n",
    "\n",
    "# Evaluate model on test set\n",
    "print \"Accuracy: %0.3f\" % dt.score(X_test, y_test)"
   ]
  },
  {
   "cell_type": "markdown",
   "metadata": {},
   "source": [
    "## Introduction: Ensembles and random forests\n",
    "Objective: Understand random forest models for classification and regression\n",
    "\n",
    "Let's pretend that instead of building a single model to solve a binary classification problem, you created **five independent models**, and each model was correct about 70% of the time. If you combined these models into an \"ensemble\" and used their majority vote as a prediction, how often would the ensemble be correct?\n",
    "\n",
    "## What is ensembling?\n",
    "**Ensemble learning (or \"ensembling\")** is the process of combining several predictive models in order to produce a combined model that is more accurate than any individual model.\n",
    "- **Regression**: take the average of the predictions\n",
    "- **Classification**: take a vote and use the most common prediction, or take the average of the predicted probabilities\n",
    "\n",
    "For ensembling to work well, the models must have the following characteristics:\n",
    "- **Accurate**: they outperform the null model\n",
    "- **Independent**: their predictions are generated using different processes\n",
    "\n",
    "    **The big idea**: If you have a collection of individually imperfect (and independent) models, the \"one-off\" mistakes made by each model are probably not going to be made by the rest of the models, and thus the mistakes will be discarded when averaging the models.\n",
    "    \n",
    "![](./assets/images/crowdflower_ensembling.jpg)\n",
    "\n",
    "### Bagging: bootstrap aggregation\n",
    "\n",
    "The primary weakness of **decision trees** is that they don't tend to have the best predictive accuracy. This is partially due to **high variance**, meaning that different splits in the training data can lead to very different trees.\n",
    "\n",
    "**Bagging** is a general purpose procedure for reducing the variance of a machine learning method, but is particularly useful for decision trees. Bagging is short for **bootstrap aggregation**, meaning the aggregation of bootstrap samples.\n",
    "\n",
    "What is a **bootstrap sample**? A random sample with replacement:\n",
    "\n",
    "**How does bagging work (for decision trees)?**\n",
    "1. Grow B trees using B bootstrap samples from the training data.\n",
    "2. Train each tree on its bootstrap sample and make predictions.\n",
    "3. Combine the predictions:\n",
    " - Average the predictions for regression trees\n",
    " - Take a vote for classification trees\n",
    " \n",
    "### Random Forests\n",
    "Random Forests is a slight variation of bagged trees that has even better performance:\n",
    "- Exactly like bagging, we create an ensemble of decision trees using bootstrapped samples of the training set.\n",
    "- However, when building each tree, each time a split is considered, a random sample of m features is chosen as split candidates from the full set of p features. The split is only allowed to use one of those m features.\n",
    "- A new random sample of features is chosen for every single tree at every single split.\n",
    "- For classification, m is typically chosen to be the square root of p.\n",
    "- For regression, m is typically chosen to be somewhere between p/3 and p.\n",
    "\n",
    "**What's the point?**\n",
    "\n",
    "Suppose there is **one very strong feature** in the data set. When using bagged trees, most of the trees will use that feature as the top split, resulting in an ensemble of similar trees that are **highly correlated**.\n",
    "- Averaging highly correlated quantities does not significantly reduce variance (which is the entire goal of bagging).\n",
    "- By randomly leaving out candidate features from each split, **Random Forests \"decorrelates\" the trees**, such that the averaging process can reduce the variance of the resulting model.\n",
    "\n",
    "- Random forest models are one of the most widespread classifiers used.\n",
    "- They are relatively simple to use and help avoid overfitting.\n",
    "- Random Forests are an ensemble or collection of individual decision trees.\n",
    "\n",
    "**Training a Random Forest**\n",
    "\n",
    "Training a random forest model involves training many decision tree models.\n",
    "\n",
    "Since decision trees overfit easily, we use many decision trees together and randomize the way they are created.\n",
    "\n",
    "![](assets/images/tree_ensemble.png)\n",
    "\n",
    "\n",
    "**Random Forest Algorithm**\n",
    "\n",
    "1. Take a bootstrap sample of the dataset. (Sample random rows)\n",
    "2. Train a decision tree on the bootstrap sample.  For each split/feature selection, only evaluate a limited number of features to find the best one.\n",
    "3. Repeat this for N trees.\n",
    "\n",
    "**How do I make predictions with a collection of trees?**\n",
    "- Predictions for a random forest model come from each decision tree.\n",
    "- Make an individual prediction with each decision tree.\n",
    "- Combine the individual predictions and take the majority vote or average in the case of regression.\n",
    "\n",
    "**Why does this work?**\n",
    "- A tree with a large depth is relatively low bias and high variance\n",
    "- When we average the predictions of the trees we reduce the variance\n",
    "- The amazing part is that we don't raise the bias unless the trees are correlated\n",
    "- We get a sharper estimation of the predictions, just like taking the mean of a large sample vs a small sample\n",
    "\n",
    "**Real world application**\n",
    "\n",
    "Ensembling is one of the secret sauces to Kaggle competitions.\n",
    "\n",
    "Ensembling is not only limited to trees, you can use any other model or a mix of models to ensemble, provided that their predictions are generally uncorrelated and are better than random. \n",
    "\n",
    "This means that you should mix models that work differently from each other, such as linear vs non-linear.\n",
    "\n",
    "## Random Forest Time"
   ]
  },
  {
   "cell_type": "code",
   "execution_count": 158,
   "metadata": {
    "collapsed": true
   },
   "outputs": [],
   "source": [
    "from sklearn.ensemble import RandomForestClassifier"
   ]
  },
  {
   "cell_type": "code",
   "execution_count": 159,
   "metadata": {
    "collapsed": false
   },
   "outputs": [],
   "source": [
    "# Instantiate a Random Forest Classifier\n",
    "rf = RandomForestClassifier()"
   ]
  },
  {
   "cell_type": "code",
   "execution_count": 160,
   "metadata": {
    "collapsed": false
   },
   "outputs": [
    {
     "data": {
      "text/plain": [
       "RandomForestClassifier(bootstrap=True, class_weight=None, criterion='gini',\n",
       "            max_depth=None, max_features='auto', max_leaf_nodes=None,\n",
       "            min_impurity_decrease=0.0, min_impurity_split=None,\n",
       "            min_samples_leaf=1, min_samples_split=2,\n",
       "            min_weight_fraction_leaf=0.0, n_estimators=10, n_jobs=1,\n",
       "            oob_score=False, random_state=None, verbose=0,\n",
       "            warm_start=False)"
      ]
     },
     "execution_count": 160,
     "metadata": {},
     "output_type": "execute_result"
    }
   ],
   "source": [
    "rf.fit(X_train, y_train)"
   ]
  },
  {
   "cell_type": "code",
   "execution_count": 161,
   "metadata": {
    "collapsed": false
   },
   "outputs": [
    {
     "name": "stdout",
     "output_type": "stream",
     "text": [
      "Accuracy: 0.909\n",
      "Accuracy: 0.556\n"
     ]
    }
   ],
   "source": [
    "# Evaluate model on train set\n",
    "print \"Accuracy: %0.3f\" % rf.score(X_train, y_train)\n",
    "\n",
    "# Evaluate model on test set\n",
    "print \"Accuracy: %0.3f\" % rf.score(X_test, y_test)"
   ]
  },
  {
   "cell_type": "code",
   "execution_count": 163,
   "metadata": {
    "collapsed": false
   },
   "outputs": [
    {
     "data": {
      "text/plain": [
       "[('is_news', 0.0088474417780558499),\n",
       " ('image_ratio', 0.88583946101171285),\n",
       " ('alchemy_arts_entertainment', 0.0097043829387397137),\n",
       " ('alchemy_business', 0.019586579313277942),\n",
       " ('alchemy_computer_internet', 0.010431472383633863),\n",
       " ('alchemy_culture_politics', 0.0023248696994422413),\n",
       " ('alchemy_gaming', 0.0015846139977338763),\n",
       " ('alchemy_health', 0.0025756686074862893),\n",
       " ('alchemy_law_crime', 0.0013935660873520121),\n",
       " ('alchemy_recreation', 0.030436737200748288),\n",
       " ('alchemy_religion', 0.0017265349156458634),\n",
       " ('alchemy_science_technology', 0.0023633702587422581),\n",
       " ('alchemy_sports', 0.02158167740734945),\n",
       " ('alchemy_unknown', 0.00078946333443340459),\n",
       " ('alchemy_weather', 0.00081416106564590591)]"
      ]
     },
     "execution_count": 163,
     "metadata": {},
     "output_type": "execute_result"
    }
   ],
   "source": [
    "zip(X_train.columns.values,rf.feature_importances_)"
   ]
  },
  {
   "cell_type": "code",
   "execution_count": null,
   "metadata": {
    "collapsed": true
   },
   "outputs": [],
   "source": []
  },
  {
   "cell_type": "markdown",
   "metadata": {},
   "source": [
    "### Tune and update the model with grid search"
   ]
  },
  {
   "cell_type": "code",
   "execution_count": null,
   "metadata": {
    "collapsed": true
   },
   "outputs": [],
   "source": [
    "# Set list of values to grid search over\n",
    "n = [1, 3, 10, 30, 100, 300]\n",
    "samples = [1, 10, 30]\n",
    "depth = [None, 3, 5, 7]\n",
    "features = ['auto', 0.25, 0.5, 0.75, None]\n",
    "params = {'n_estimators': n,\n",
    "         'min_samples_leaf':samples,\n",
    "         'max_depth':depth,\n",
    "         'max_features':features}"
   ]
  },
  {
   "cell_type": "code",
   "execution_count": null,
   "metadata": {
    "collapsed": true
   },
   "outputs": [],
   "source": [
    "from sklearn.model_selection import GridSearchCV\n",
    "\n",
    "gs = GridSearchCV(estimator = rf, param_grid = params,\n",
    "                  n_jobs=-1, verbose = True, cv=5)"
   ]
  },
  {
   "cell_type": "code",
   "execution_count": null,
   "metadata": {
    "collapsed": true
   },
   "outputs": [],
   "source": [
    "gs.fit(X, y)"
   ]
  },
  {
   "cell_type": "code",
   "execution_count": null,
   "metadata": {
    "collapsed": true
   },
   "outputs": [],
   "source": [
    "# Get best value to use\n",
    "print \"Best Params:\"\n",
    "print gs.best_params_"
   ]
  },
  {
   "cell_type": "code",
   "execution_count": null,
   "metadata": {
    "collapsed": true
   },
   "outputs": [],
   "source": [
    "# Get improvement\n",
    "print \"Accuracy of current model: %0.3f\" % rf.score(X_test, y_test)\n",
    "print \"Accuracy using best param: %0.3f\" % gs.best_score_"
   ]
  },
  {
   "cell_type": "code",
   "execution_count": null,
   "metadata": {
    "collapsed": true
   },
   "outputs": [],
   "source": [
    "gs.grid_scores_[1]"
   ]
  },
  {
   "cell_type": "code",
   "execution_count": null,
   "metadata": {
    "collapsed": true
   },
   "outputs": [],
   "source": [
    "# Plot scores\n",
    "plt.plot([s[1] for s in gs.grid_scores_])"
   ]
  },
  {
   "cell_type": "code",
   "execution_count": null,
   "metadata": {
    "collapsed": true
   },
   "outputs": [],
   "source": [
    "rf = gs.best_estimator_"
   ]
  },
  {
   "cell_type": "code",
   "execution_count": null,
   "metadata": {
    "collapsed": true
   },
   "outputs": [],
   "source": [
    "rf.fit(X_train, y_train)\n",
    "print rf.score(X_test, y_test)"
   ]
  },
  {
   "cell_type": "code",
   "execution_count": null,
   "metadata": {
    "collapsed": true
   },
   "outputs": [],
   "source": [
    "# Examine Feature importances\n",
    "features = X.columns\n",
    "feature_importances = rf.feature_importances_\n",
    "\n",
    "features_df = pd.DataFrame({'Features': features, 'Importance Score': feature_importances})\n",
    "features_df.sort_values('Importance Score', inplace=True, ascending=False)\n",
    "\n",
    "sns.barplot(y='Features', x='Importance Score', data=features_df)"
   ]
  },
  {
   "cell_type": "code",
   "execution_count": null,
   "metadata": {
    "collapsed": true
   },
   "outputs": [],
   "source": [
    "# Function to combine dummy features importances\n",
    "def combine_dummies(dummy_prefixes):\n",
    "    for p in dummy_prefixes:\n",
    "        sub_keys = filter(lambda x: x.startswith(p), feature_dict)\n",
    "        sub_keys_sum = sum([feature_dict[x] for x in sub_keys])\n",
    "        for k in sub_keys: feature_dict.pop(k)\n",
    "        feature_dict[p] = sub_keys_sum\n",
    "    return feature_dict"
   ]
  },
  {
   "cell_type": "code",
   "execution_count": null,
   "metadata": {
    "collapsed": true
   },
   "outputs": [],
   "source": [
    "# Plot importances with dummy features combined\n",
    "feature_names = X.columns\n",
    "feature_importances = rf.feature_importances_\n",
    "feature_dummy_prefixes = ['alchemy_cat_']\n",
    "\n",
    "feature_dict = dict(zip(feature_names, feature_importances))\n",
    "feature_dict = combine_dummies(feature_dummy_prefixes)\n",
    "\n",
    "features_df = pd.DataFrame(feature_dict.items(), columns=['Features', 'Importance Score'])\n",
    "features_df.sort_values('Importance Score', inplace=True, ascending=False)\n",
    "\n",
    "sns.barplot(y='Features', x='Importance Score', data=features_df)"
   ]
  },
  {
   "cell_type": "code",
   "execution_count": null,
   "metadata": {
    "collapsed": true
   },
   "outputs": [],
   "source": []
  },
  {
   "cell_type": "code",
   "execution_count": null,
   "metadata": {
    "collapsed": true
   },
   "outputs": [],
   "source": []
  },
  {
   "cell_type": "code",
   "execution_count": null,
   "metadata": {
    "collapsed": true
   },
   "outputs": [],
   "source": []
  },
  {
   "cell_type": "markdown",
   "metadata": {},
   "source": [
    "### How do these newly learned models compare to previous ones we've seen"
   ]
  },
  {
   "cell_type": "code",
   "execution_count": null,
   "metadata": {},
   "outputs": [],
   "source": [
    "\n",
    "\n",
    "from sklearn.linear_model import LogisticRegression\n",
    "from sklearn.neighbors import KNeighborsClassifier\n",
    "from sklearn.ensemble import RandomForestClassifier\n",
    "from sklearn.tree import DecisionTreeClassifier\n",
    "\n",
    "logreg = LogisticRegression()\n",
    "knn = KNeighborsClassifier()\n",
    "dt = DecisionTreeClassifier()\n",
    "rf = RandomForestClassifier()"
   ]
  },
  {
   "cell_type": "code",
   "execution_count": null,
   "metadata": {},
   "outputs": [],
   "source": [
    "# Prepare the titanic data for modeling\n",
    "\n",
    "titanic = pd.read_csv('../../../../2_dataset/titanic.csv')\n",
    "titanic = titanic.dropna()\n",
    "features = ['Pclass', 'Sex', 'Age', 'SibSp', 'Fare']\n",
    "X = titanic[features]\n",
    "\n",
    "X = X.drop('Sex', axis=1).join(pd.get_dummies(titanic.Sex, drop_first=True))"
   ]
  },
  {
   "cell_type": "code",
   "execution_count": null,
   "metadata": {
    "collapsed": true
   },
   "outputs": [],
   "source": [
    "dt_scores = cross_val_score(dt, X, titanic.Survived, cv=3)\n",
    "logreg_scores = cross_val_score(dt, X, titanic.Survived, cv=3)\n",
    "knn_scores = cross_val_score(knn, X, titanic.Survived, cv=3)\n",
    "rf_scores = cross_val_score(rf, X, titanic.Survived, cv=3)"
   ]
  },
  {
   "cell_type": "code",
   "execution_count": null,
   "metadata": {},
   "outputs": [],
   "source": [
    "print dt_scores.mean()\n",
    "print logreg_scores.mean()\n",
    "print knn_scores.mean()\n",
    "print rf_scores.mean()"
   ]
  },
  {
   "cell_type": "markdown",
   "metadata": {},
   "source": [
    "## Mini-Lab - NBA Data\n",
    "\n",
    "h/t: [this dude](https://github.com/sVujke/nba-player-positions-machine-learning/blob/master/README.md)\n",
    "\n",
    "#### Problem description\n",
    "There are several ways to name player positions in basketball, but which one is the best? In the domain of basketball, usually one of three position classification schemes are used:\n",
    "\n",
    "1) Three Positions Classification - The traditional way of describing positions is:\n",
    "* Guard (1)\n",
    "* Forward (2)\n",
    "* Center (3)\n",
    "\n",
    "2) Five Positions Classification - Today the most common approach is to use five positions:\n",
    "* Point Guard (1)\n",
    "* Shooting Guard (2)\n",
    "* Small Forward (3)\n",
    "* Power Forward (4)\n",
    "* Center (5)\n",
    "\n",
    "3) Nine Positions Classification - There is also an alternative approach with players who can play at different two positions:\n",
    "* Point Guard (1)\n",
    "* Combo Guard (12)\n",
    "* Shooting Guard (2)\n",
    "* Guard Forward (23)\n",
    "* Small Forward (3)\n",
    "* Point Forward (34)\n",
    "* Power Forward (4)\n",
    "* Forward Center(45)\n",
    "* Center (5)\n",
    "\n",
    "Short | Long | Short | Long\n",
    "--- | --- | --- | ---\n",
    "GP| Games Played | GS | Games Started\n",
    "MIN| Minutes Played | FGM | Field Goals Made\n",
    "FGA| Field Goals Atempted | FG% | Field Goal Percent \n",
    "3PM| 3 Points Made | 3PA | 3 Points Atempted\n",
    "3P%| 3 Points Percent | FTM | Free Throws Made \n",
    "FTA| Free Throws Atempted | FT% | Free Throws Percent\n",
    "OFF| Offensive Rebounds | DEF | Defensive Rebounds\n",
    "TRB| Total Rebounds | AST | Assists\n",
    "STL| Steals | BLK | Blocks\n",
    "PF| Personal Fouls | TOV | Turnovers\n",
    "PTS| Points | YR | Years playing\n",
    "POS| Positions | W | Weight\n",
    "H| Height | NAME | Name"
   ]
  },
  {
   "cell_type": "code",
   "execution_count": null,
   "metadata": {
    "collapsed": true
   },
   "outputs": [],
   "source": [
    "features = ['GP', 'GS', 'MIN', 'FGM', 'FGA', 'FG_PCT', 'THREES_MADE',\n",
    "           'THREE_ATTS', 'THREE_PCT', 'FTM', 'FTA', 'FT_PCT', 'OFF',\n",
    "           'DEF', 'TRB', 'AST', 'STL', 'BLK', 'PF', 'TOV', 'PTS', 'YR',\n",
    "            'POS', 'W', 'H', 'NAME']"
   ]
  },
  {
   "cell_type": "code",
   "execution_count": null,
   "metadata": {
    "collapsed": true
   },
   "outputs": [],
   "source": [
    "# Three-position dataset\n",
    "df_one = pd.read_table('https://raw.githubusercontent.com/sVujke/nba-player-positions-machine-learning/master/dataset1/cleaned.txt', sep='\\t', names=features)\n",
    "\n",
    "# Five-position dataset\n",
    "df_two = pd.read_table('https://raw.githubusercontent.com/sVujke/nba-player-positions-machine-learning/master/dataset2/cleaned.txt', sep='\\t', names=features)\n",
    "\n",
    "# Nine-position dataset\n",
    "df_three = pd.read_table('https://raw.githubusercontent.com/sVujke/nba-player-positions-machine-learning/master/dataset3/cleaned.txt', sep='\\t', names=features)"
   ]
  },
  {
   "cell_type": "markdown",
   "metadata": {},
   "source": [
    "### How does a Decision Tree and/or Random Forest perform on each of these datasets?\n",
    "\n",
    "* Once you determine how well they perform out of the box, spend some time optimizing/tuning your models.\n",
    "\n",
    "* Can you create any interesting visualizations? \n",
    "\n",
    "* Do any of the other models we've learned in class work well on these data?\n"
   ]
  },
  {
   "cell_type": "code",
   "execution_count": null,
   "metadata": {
    "collapsed": true
   },
   "outputs": [],
   "source": []
  },
  {
   "cell_type": "code",
   "execution_count": null,
   "metadata": {
    "collapsed": true
   },
   "outputs": [],
   "source": []
  },
  {
   "cell_type": "code",
   "execution_count": null,
   "metadata": {
    "collapsed": true
   },
   "outputs": [],
   "source": []
  },
  {
   "cell_type": "code",
   "execution_count": null,
   "metadata": {
    "collapsed": true
   },
   "outputs": [],
   "source": []
  },
  {
   "cell_type": "raw",
   "metadata": {},
   "source": []
  }
 ],
 "metadata": {
  "anaconda-cloud": {},
  "kernelspec": {
   "display_name": "Python 2",
   "language": "python",
   "name": "python2"
  },
  "language_info": {
   "codemirror_mode": {
    "name": "ipython",
    "version": 2
   },
   "file_extension": ".py",
   "mimetype": "text/x-python",
   "name": "python",
   "nbconvert_exporter": "python",
   "pygments_lexer": "ipython2",
   "version": "2.7.14"
  }
 },
 "nbformat": 4,
 "nbformat_minor": 2
}
