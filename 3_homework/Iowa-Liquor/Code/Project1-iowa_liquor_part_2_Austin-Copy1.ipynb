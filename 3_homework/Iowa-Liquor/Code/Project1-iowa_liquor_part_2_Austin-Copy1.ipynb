{
 "cells": [
  {
   "cell_type": "markdown",
   "metadata": {},
   "source": [
    "Walk through of Iowa Liquor.\n",
    "\n",
    "** This by no means represents to the 'right', 'correct', or 'perfect' way to do this project. This code exists to give a refference for process / workflow and some advanced techniques in a setting, dataset, and problem you're familiar with **"
   ]
  },
  {
   "cell_type": "markdown",
   "metadata": {},
   "source": [
    "#### Import and Clean"
   ]
  },
  {
   "cell_type": "code",
   "execution_count": 1,
   "metadata": {
    "collapsed": true
   },
   "outputs": [],
   "source": [
    "import pandas as pd\n",
    "import matplotlib.pyplot as plt\n",
    "import numpy as np\n",
    "%matplotlib inline"
   ]
  },
  {
   "cell_type": "code",
   "execution_count": 2,
   "metadata": {},
   "outputs": [],
   "source": [
    "# Import, convert 'Date' col to datetime\n",
    "liquor=pd.read_csv('../Assets/Iowa_Liquor_sample.csv',parse_dates=['Date'],infer_datetime_format=True)\n",
    "\n",
    "# format column names\n",
    "import re\n",
    "\n",
    "liquor.columns = [re.sub(\"[^a-zA-Z]+\", \"\", x) for x in liquor.columns]\n",
    "\n",
    "# remove '$' in values and convert to numeric\n",
    "adjust_cols = ['StateBottleCost','StateBottleRetail','SaleDollars']\n",
    "\n",
    "for col in adjust_cols:\n",
    "    liquor[col] = pd.to_numeric(liquor[col].str.replace('$',''),errors='coerce')\n",
    "\n",
    "liquor.dropna(inplace=True)"
   ]
  },
  {
   "cell_type": "code",
   "execution_count": 3,
   "metadata": {},
   "outputs": [
    {
     "data": {
      "text/html": [
       "<div>\n",
       "<style>\n",
       "    .dataframe thead tr:only-child th {\n",
       "        text-align: right;\n",
       "    }\n",
       "\n",
       "    .dataframe thead th {\n",
       "        text-align: left;\n",
       "    }\n",
       "\n",
       "    .dataframe tbody tr th {\n",
       "        vertical-align: top;\n",
       "    }\n",
       "</style>\n",
       "<table border=\"1\" class=\"dataframe\">\n",
       "  <thead>\n",
       "    <tr style=\"text-align: right;\">\n",
       "      <th></th>\n",
       "      <th>Date</th>\n",
       "      <th>StoreNumber</th>\n",
       "      <th>City</th>\n",
       "      <th>ZipCode</th>\n",
       "      <th>CountyNumber</th>\n",
       "      <th>County</th>\n",
       "      <th>Category</th>\n",
       "      <th>CategoryName</th>\n",
       "      <th>VendorNumber</th>\n",
       "      <th>ItemNumber</th>\n",
       "      <th>ItemDescription</th>\n",
       "      <th>BottleVolumeml</th>\n",
       "      <th>StateBottleCost</th>\n",
       "      <th>StateBottleRetail</th>\n",
       "      <th>BottlesSold</th>\n",
       "      <th>SaleDollars</th>\n",
       "      <th>VolumeSoldLiters</th>\n",
       "      <th>VolumeSoldGallons</th>\n",
       "    </tr>\n",
       "  </thead>\n",
       "  <tbody>\n",
       "    <tr>\n",
       "      <th>0</th>\n",
       "      <td>2015-11-04</td>\n",
       "      <td>3717</td>\n",
       "      <td>SUMNER</td>\n",
       "      <td>50674</td>\n",
       "      <td>9.0</td>\n",
       "      <td>Bremer</td>\n",
       "      <td>1051100.0</td>\n",
       "      <td>APRICOT BRANDIES</td>\n",
       "      <td>55</td>\n",
       "      <td>54436</td>\n",
       "      <td>Mr. Boston Apricot Brandy</td>\n",
       "      <td>750</td>\n",
       "      <td>4.50</td>\n",
       "      <td>6.75</td>\n",
       "      <td>12</td>\n",
       "      <td>81.00</td>\n",
       "      <td>9.0</td>\n",
       "      <td>2.38</td>\n",
       "    </tr>\n",
       "    <tr>\n",
       "      <th>1</th>\n",
       "      <td>2016-03-02</td>\n",
       "      <td>2614</td>\n",
       "      <td>DAVENPORT</td>\n",
       "      <td>52807</td>\n",
       "      <td>82.0</td>\n",
       "      <td>Scott</td>\n",
       "      <td>1011100.0</td>\n",
       "      <td>BLENDED WHISKIES</td>\n",
       "      <td>395</td>\n",
       "      <td>27605</td>\n",
       "      <td>Tin Cup</td>\n",
       "      <td>750</td>\n",
       "      <td>13.75</td>\n",
       "      <td>20.63</td>\n",
       "      <td>2</td>\n",
       "      <td>41.26</td>\n",
       "      <td>1.5</td>\n",
       "      <td>0.40</td>\n",
       "    </tr>\n",
       "    <tr>\n",
       "      <th>2</th>\n",
       "      <td>2016-02-11</td>\n",
       "      <td>2106</td>\n",
       "      <td>CEDAR FALLS</td>\n",
       "      <td>50613</td>\n",
       "      <td>7.0</td>\n",
       "      <td>Black Hawk</td>\n",
       "      <td>1011200.0</td>\n",
       "      <td>STRAIGHT BOURBON WHISKIES</td>\n",
       "      <td>65</td>\n",
       "      <td>19067</td>\n",
       "      <td>Jim Beam</td>\n",
       "      <td>1000</td>\n",
       "      <td>12.59</td>\n",
       "      <td>18.89</td>\n",
       "      <td>24</td>\n",
       "      <td>453.36</td>\n",
       "      <td>24.0</td>\n",
       "      <td>6.34</td>\n",
       "    </tr>\n",
       "    <tr>\n",
       "      <th>3</th>\n",
       "      <td>2016-02-03</td>\n",
       "      <td>2501</td>\n",
       "      <td>AMES</td>\n",
       "      <td>50010</td>\n",
       "      <td>85.0</td>\n",
       "      <td>Story</td>\n",
       "      <td>1071100.0</td>\n",
       "      <td>AMERICAN COCKTAILS</td>\n",
       "      <td>395</td>\n",
       "      <td>59154</td>\n",
       "      <td>1800 Ultimate Margarita</td>\n",
       "      <td>1750</td>\n",
       "      <td>9.50</td>\n",
       "      <td>14.25</td>\n",
       "      <td>6</td>\n",
       "      <td>85.50</td>\n",
       "      <td>10.5</td>\n",
       "      <td>2.77</td>\n",
       "    </tr>\n",
       "    <tr>\n",
       "      <th>4</th>\n",
       "      <td>2015-08-18</td>\n",
       "      <td>3654</td>\n",
       "      <td>BELMOND</td>\n",
       "      <td>50421</td>\n",
       "      <td>99.0</td>\n",
       "      <td>Wright</td>\n",
       "      <td>1031080.0</td>\n",
       "      <td>VODKA 80 PROOF</td>\n",
       "      <td>297</td>\n",
       "      <td>35918</td>\n",
       "      <td>Five O'clock Vodka</td>\n",
       "      <td>1750</td>\n",
       "      <td>7.20</td>\n",
       "      <td>10.80</td>\n",
       "      <td>12</td>\n",
       "      <td>129.60</td>\n",
       "      <td>21.0</td>\n",
       "      <td>5.55</td>\n",
       "    </tr>\n",
       "  </tbody>\n",
       "</table>\n",
       "</div>"
      ],
      "text/plain": [
       "        Date  StoreNumber         City ZipCode  CountyNumber      County  \\\n",
       "0 2015-11-04         3717       SUMNER   50674           9.0      Bremer   \n",
       "1 2016-03-02         2614    DAVENPORT   52807          82.0       Scott   \n",
       "2 2016-02-11         2106  CEDAR FALLS   50613           7.0  Black Hawk   \n",
       "3 2016-02-03         2501         AMES   50010          85.0       Story   \n",
       "4 2015-08-18         3654      BELMOND   50421          99.0      Wright   \n",
       "\n",
       "    Category               CategoryName  VendorNumber  ItemNumber  \\\n",
       "0  1051100.0           APRICOT BRANDIES            55       54436   \n",
       "1  1011100.0           BLENDED WHISKIES           395       27605   \n",
       "2  1011200.0  STRAIGHT BOURBON WHISKIES            65       19067   \n",
       "3  1071100.0         AMERICAN COCKTAILS           395       59154   \n",
       "4  1031080.0             VODKA 80 PROOF           297       35918   \n",
       "\n",
       "             ItemDescription  BottleVolumeml  StateBottleCost  \\\n",
       "0  Mr. Boston Apricot Brandy             750             4.50   \n",
       "1                    Tin Cup             750            13.75   \n",
       "2                   Jim Beam            1000            12.59   \n",
       "3    1800 Ultimate Margarita            1750             9.50   \n",
       "4         Five O'clock Vodka            1750             7.20   \n",
       "\n",
       "   StateBottleRetail  BottlesSold  SaleDollars  VolumeSoldLiters  \\\n",
       "0               6.75           12        81.00               9.0   \n",
       "1              20.63            2        41.26               1.5   \n",
       "2              18.89           24       453.36              24.0   \n",
       "3              14.25            6        85.50              10.5   \n",
       "4              10.80           12       129.60              21.0   \n",
       "\n",
       "   VolumeSoldGallons  \n",
       "0               2.38  \n",
       "1               0.40  \n",
       "2               6.34  \n",
       "3               2.77  \n",
       "4               5.55  "
      ]
     },
     "execution_count": 3,
     "metadata": {},
     "output_type": "execute_result"
    }
   ],
   "source": [
    "liquor.head()"
   ]
  },
  {
   "cell_type": "markdown",
   "metadata": {},
   "source": [
    "### Filtering dates\n",
    "\n",
    "I want to end up with 2 dataframes:\n",
    "\n",
    "* *liquor2015_fy* - with just StoreNumber and total sales for 2015\n",
    "* *liquor2015_q1* - all columns, only Q1 of 2015\n",
    "\n",
    "First I'll filter to 2015, then split into fy / q1"
   ]
  },
  {
   "cell_type": "code",
   "execution_count": 13,
   "metadata": {},
   "outputs": [],
   "source": [
    "# Filter to only 2015:\n",
    "liquor2015 = liquor[liquor.Date.dt.year == 2015]"
   ]
  },
  {
   "cell_type": "code",
   "execution_count": 14,
   "metadata": {},
   "outputs": [],
   "source": [
    "# Calculate the sum of sales for each store in 2015 by grouping the full year data\n",
    "liquor2015_fy = liquor2015.groupby('StoreNumber').sum().reset_index()[['StoreNumber','SaleDollars']]"
   ]
  },
  {
   "cell_type": "code",
   "execution_count": 15,
   "metadata": {},
   "outputs": [],
   "source": [
    "# Filter all my columns to Q1\n",
    "liquor2015_q1 = liquor2015[liquor2015.Date.dt.month <= 3]"
   ]
  },
  {
   "cell_type": "markdown",
   "metadata": {},
   "source": [
    "### Feature Engineering\n",
    "\n",
    "I'm going to calculate profit. Because I'll be aggregating by store over the period (q1), and my data is in the form of daily purchases by product by store, in order to get representive aggreate metrics for profit I'm going to calculate it as Total Sales -(Bottles Sold * Bottle Cost)\n",
    "\n",
    "Then, I'm going to create a dictionary continaing the aggregations I'd like to explore, which I can then pass to my groupby using the .agg method"
   ]
  },
  {
   "cell_type": "code",
   "execution_count": 16,
   "metadata": {},
   "outputs": [
    {
     "name": "stderr",
     "output_type": "stream",
     "text": [
      "C:\\Users\\jtate\\AppData\\Local\\Continuum\\Anaconda2\\lib\\site-packages\\ipykernel\\__main__.py:1: SettingWithCopyWarning: \n",
      "A value is trying to be set on a copy of a slice from a DataFrame.\n",
      "Try using .loc[row_indexer,col_indexer] = value instead\n",
      "\n",
      "See the caveats in the documentation: http://pandas.pydata.org/pandas-docs/stable/indexing.html#indexing-view-versus-copy\n",
      "  if __name__ == '__main__':\n"
     ]
    }
   ],
   "source": [
    "liquor2015_q1['Profit'] = liquor2015_q1.SaleDollars - (liquor2015_q1.BottlesSold * liquor2015_q1.StateBottleCost)"
   ]
  },
  {
   "cell_type": "code",
   "execution_count": 19,
   "metadata": {},
   "outputs": [],
   "source": [
    "# agg will take a dict in the form of {'Column':[list of agg functions]}\n",
    "agg_dict = {'BottleVolumeml':np.mean,\n",
    "'StateBottleCost':[np.mean,np.sum],\n",
    "'SaleDollars':[np.sum,np.mean],\n",
    "'Profit':[np.median,np.mean,np.sum]}"
   ]
  },
  {
   "cell_type": "code",
   "execution_count": 18,
   "metadata": {},
   "outputs": [],
   "source": [
    "lq_2015_q1_gp = liquor2015_q1.groupby('StoreNumber').agg(agg_dict)"
   ]
  },
  {
   "cell_type": "code",
   "execution_count": 20,
   "metadata": {},
   "outputs": [],
   "source": [
    "# this comes out with StoreNumber as my index, I'll reset it\n",
    "features_q1 = lq_2015_q1_gp.reset_index()"
   ]
  },
  {
   "cell_type": "code",
   "execution_count": 21,
   "metadata": {},
   "outputs": [],
   "source": [
    "# My column names are split. I'll process through them to get single feature names\n",
    "features_q1.columns = [['_'.join(col).rstrip('_') for col in features_q1.columns.values]]"
   ]
  },
  {
   "cell_type": "code",
   "execution_count": 22,
   "metadata": {
    "collapsed": true
   },
   "outputs": [],
   "source": [
    "# Rename my dataframe\n",
    "liquor2015_q1_features = features_q1.copy()"
   ]
  },
  {
   "cell_type": "code",
   "execution_count": 23,
   "metadata": {},
   "outputs": [],
   "source": [
    "# Merge my features and my target on the 'StoreNumber' column\n",
    "liquor2015_combined = pd.merge(liquor2015_q1_features,liquor2015_fy,on=['StoreNumber'])"
   ]
  },
  {
   "cell_type": "markdown",
   "metadata": {},
   "source": [
    "### Modeling / Cross Val\n",
    "\n",
    "Step 1 is to split 10% of my data off as a holdout set. I'll engineer my model on the training set using cross validation and other techniques.\n",
    "\n",
    "Once I think my model is working well, I'll try it against the holdout set to validate my model"
   ]
  },
  {
   "cell_type": "code",
   "execution_count": 27,
   "metadata": {
    "collapsed": true
   },
   "outputs": [],
   "source": [
    "#holdout set"
   ]
  },
  {
   "cell_type": "code",
   "execution_count": 28,
   "metadata": {
    "collapsed": true
   },
   "outputs": [],
   "source": [
    "from sklearn.model_selection import train_test_split"
   ]
  },
  {
   "cell_type": "code",
   "execution_count": 29,
   "metadata": {},
   "outputs": [],
   "source": [
    "training_data,holdout = train_test_split(liquor2015_combined,shuffle=True,test_size=0.10,random_state=123)"
   ]
  },
  {
   "cell_type": "markdown",
   "metadata": {},
   "source": [
    "#### Cross Val"
   ]
  },
  {
   "cell_type": "code",
   "execution_count": 30,
   "metadata": {},
   "outputs": [
    {
     "name": "stderr",
     "output_type": "stream",
     "text": [
      "C:\\Users\\jtate\\AppData\\Local\\Continuum\\Anaconda2\\lib\\site-packages\\sklearn\\cross_validation.py:41: DeprecationWarning: This module was deprecated in version 0.18 in favor of the model_selection module into which all the refactored classes and functions are moved. Also note that the interface of the new CV iterators are different from that of this module. This module will be removed in 0.20.\n",
      "  \"This module will be removed in 0.20.\", DeprecationWarning)\n"
     ]
    }
   ],
   "source": [
    "from sklearn.cross_validation import KFold"
   ]
  },
  {
   "cell_type": "code",
   "execution_count": null,
   "metadata": {},
   "outputs": [],
   "source": []
  },
  {
   "cell_type": "code",
   "execution_count": 31,
   "metadata": {},
   "outputs": [],
   "source": [
    "# 5 fold KFolds cross-validation\n",
    "folds = 5\n",
    "\n",
    "n = training_data.shape[0]\n",
    "\n",
    "kf = KFold(n,n_folds=folds,random_state=123)"
   ]
  },
  {
   "cell_type": "code",
   "execution_count": 32,
   "metadata": {
    "collapsed": true
   },
   "outputs": [],
   "source": [
    "from sklearn.linear_model import LinearRegression\n",
    "from sklearn.metrics import mean_absolute_error,mean_squared_error,r2_score\n",
    "import numpy as np"
   ]
  },
  {
   "cell_type": "code",
   "execution_count": 33,
   "metadata": {
    "collapsed": true
   },
   "outputs": [],
   "source": [
    "# create a 'feature cols' list of column names, excluding my target and the store number (which is sorta my index)\n",
    "feature_cols = [col for col in liquor2015_combined.columns if col not in ['SaleDollars','StoreNumber']]"
   ]
  },
  {
   "cell_type": "code",
   "execution_count": 34,
   "metadata": {},
   "outputs": [
    {
     "data": {
      "text/plain": [
       "['Profit_median',\n",
       " 'Profit_mean',\n",
       " 'Profit_sum',\n",
       " 'StateBottleCost_mean',\n",
       " 'StateBottleCost_sum',\n",
       " 'SaleDollars_sum',\n",
       " 'SaleDollars_mean',\n",
       " 'BottleVolumeml_mean']"
      ]
     },
     "execution_count": 34,
     "metadata": {},
     "output_type": "execute_result"
    }
   ],
   "source": [
    "feature_cols"
   ]
  },
  {
   "cell_type": "code",
   "execution_count": 37,
   "metadata": {},
   "outputs": [],
   "source": [
    "# Prep my X and y\n",
    "X = training_data[feature_cols]\n",
    "y = training_data['StoreNumber']\n"
   ]
  },
  {
   "cell_type": "code",
   "execution_count": 38,
   "metadata": {},
   "outputs": [],
   "source": [
    "# Iterate through my folds. Right now I'm just going to look at mse and r2\n",
    "\n",
    "scores = []\n",
    "r2_scores = []\n",
    "\n",
    "\n",
    "for train,test in kf:\n",
    "    x_train = X.iloc[train]\n",
    "    x_test = X.iloc[test]\n",
    "    y_train = y.iloc[train]\n",
    "    y_true = y.iloc[test]\n",
    "    \n",
    "    lr = LinearRegression()\n",
    "    \n",
    "    lr.fit(x_train,y_train)\n",
    "    \n",
    "    y_preds = lr.predict(x_test)\n",
    "\n",
    "    scores.append(mean_squared_error(y_true,y_preds))\n",
    "    r2_scores.append(r2_score(y_true,y_preds))\n"
   ]
  },
  {
   "cell_type": "code",
   "execution_count": 39,
   "metadata": {},
   "outputs": [
    {
     "name": "stdout",
     "output_type": "stream",
     "text": [
      "[606.26612671541659, 625.06315266478055, 694.5336059147179, 638.56768656809959, 624.03697016943283]\n",
      "637.693508406\n"
     ]
    }
   ],
   "source": [
    "# check RMSE to see how I'm doing in values scalled to my target\n",
    "\n",
    "rmse = [np.sqrt(x) for x in scores]\n",
    "\n",
    "print rmse\n",
    "print np.mean(rmse)"
   ]
  },
  {
   "cell_type": "code",
   "execution_count": 40,
   "metadata": {},
   "outputs": [
    {
     "name": "stdout",
     "output_type": "stream",
     "text": [
      "[0.39055933036578117, 0.41164252546358049, 0.31691086909492971, 0.35867894679955548, 0.41398316336448826]\n",
      "0.378354967018\n"
     ]
    }
   ],
   "source": [
    "print r2_scores\n",
    "print np.mean(r2_scores)"
   ]
  },
  {
   "cell_type": "markdown",
   "metadata": {},
   "source": [
    "#### Evaluate\n",
    "\n",
    "My RMSE is good. Really good. Maybe too good? But my r-squared is awful. If I'm predicting only 600-670 off my target, when that target is in the 10's to 100's of thousands, I should have a great r-squared to match... but I don't\n",
    "\n",
    "I didn't check my features for colinearity... lets look"
   ]
  },
  {
   "cell_type": "code",
   "execution_count": 44,
   "metadata": {},
   "outputs": [],
   "source": [
    "# Quick function \n",
    "def pair_corrs(df):\n",
    "    #get pairwise correlation dataframe\n",
    "    corrs1 = df.corr()\n",
    "    # df.corr() has 2 pairs (A x B and B x A) for each feature set.\n",
    "    # np.tril zeroes out one of the 'triangles' in my pairwise dataframe\n",
    "    # k=-1 cuts not only the 2nd pairing of each feature, but also the N vs. N identity line\n",
    "    corrs1.loc[:, :] = np.tril(corrs1, k=-1)\n",
    "    #stack my index\n",
    "    corr_pairs = corrs1.stack()\n",
    "    #return my pairs\n",
    "    return corr_pairs\n"
   ]
  },
  {
   "cell_type": "code",
   "execution_count": 63,
   "metadata": {},
   "outputs": [
    {
     "data": {
      "text/plain": [
       "Profit_mean  Profit_median    0.85479\n",
       "dtype: float64"
      ]
     },
     "execution_count": 63,
     "metadata": {},
     "output_type": "execute_result"
    }
   ],
   "source": [
    "# get the correlations from my X dataframe\n",
    "feature_corrs = pair_corrs(X)\n",
    "\n",
    "# check for large correlations\n",
    "feature_corrs[(abs(feature_corrs) > 0.5)]\n"
   ]
  },
  {
   "cell_type": "markdown",
   "metadata": {},
   "source": [
    "Those are some high correlations. I'm going to prune some of my features to reduce colinearity"
   ]
  },
  {
   "cell_type": "code",
   "execution_count": 67,
   "metadata": {
    "collapsed": true
   },
   "outputs": [],
   "source": [
    "# prune my features to reduce colinearity\n",
    "feature_cols2 = [x for x in feature_cols if x not in ['Profit_sum','Profit_mean','StateBottleCost_sum','SaleDollars_mean']]"
   ]
  },
  {
   "cell_type": "code",
   "execution_count": 68,
   "metadata": {},
   "outputs": [
    {
     "data": {
      "text/plain": [
       "Profit_median         Profit_median           0.000000\n",
       "                      StateBottleCost_mean    0.000000\n",
       "                      SaleDollars_sum         0.000000\n",
       "                      BottleVolumeml_mean     0.000000\n",
       "StateBottleCost_mean  Profit_median           0.277697\n",
       "                      StateBottleCost_mean    0.000000\n",
       "                      SaleDollars_sum         0.000000\n",
       "                      BottleVolumeml_mean     0.000000\n",
       "SaleDollars_sum       Profit_median           0.195495\n",
       "                      StateBottleCost_mean    0.210101\n",
       "                      SaleDollars_sum         0.000000\n",
       "                      BottleVolumeml_mean     0.000000\n",
       "BottleVolumeml_mean   Profit_median           0.135616\n",
       "                      StateBottleCost_mean    0.456472\n",
       "                      SaleDollars_sum         0.079048\n",
       "                      BottleVolumeml_mean     0.000000\n",
       "dtype: float64"
      ]
     },
     "execution_count": 68,
     "metadata": {},
     "output_type": "execute_result"
    }
   ],
   "source": [
    "# check my pruned features\n",
    "pair_corrs(training_data[feature_cols2])"
   ]
  },
  {
   "cell_type": "code",
   "execution_count": 69,
   "metadata": {},
   "outputs": [
    {
     "data": {
      "text/plain": [
       "['Profit_median',\n",
       " 'StateBottleCost_mean',\n",
       " 'SaleDollars_sum',\n",
       " 'BottleVolumeml_mean']"
      ]
     },
     "execution_count": 69,
     "metadata": {},
     "output_type": "execute_result"
    }
   ],
   "source": [
    "feature_cols2"
   ]
  },
  {
   "cell_type": "markdown",
   "metadata": {},
   "source": [
    "Better."
   ]
  },
  {
   "cell_type": "markdown",
   "metadata": {},
   "source": [
    "re-run my model:"
   ]
  },
  {
   "cell_type": "code",
   "execution_count": 70,
   "metadata": {
    "collapsed": true
   },
   "outputs": [],
   "source": [
    "X = training_data[feature_cols2]\n",
    "y = training_data['SaleDollars']"
   ]
  },
  {
   "cell_type": "code",
   "execution_count": 71,
   "metadata": {
    "collapsed": true
   },
   "outputs": [],
   "source": [
    "kf = KFold(X.shape[0],n_folds=5,random_state=117)"
   ]
  },
  {
   "cell_type": "code",
   "execution_count": 72,
   "metadata": {
    "collapsed": true
   },
   "outputs": [],
   "source": [
    "scores = []\n",
    "r2_scores = []\n",
    "\n",
    "\n",
    "for train,test in kf:\n",
    "    x_train = X.iloc[train]\n",
    "    x_test = X.iloc[test]\n",
    "    y_train = y.iloc[train]\n",
    "    y_true = y.iloc[test]\n",
    "    \n",
    "    lr.fit(x_train,y_train)\n",
    "    \n",
    "    y_preds = lr.predict(x_test)\n",
    "\n",
    "    scores.append(mean_squared_error(y_true,y_preds))\n",
    "    r2_scores.append(r2_score(y_true,y_preds))"
   ]
  },
  {
   "cell_type": "code",
   "execution_count": 73,
   "metadata": {},
   "outputs": [
    {
     "name": "stdout",
     "output_type": "stream",
     "text": [
      "[0.94668173587870974, 0.94816577159677873, 0.97278213025743188, 0.97137797433860285, 0.89347033858533964]\n",
      "0.946495590131\n"
     ]
    }
   ],
   "source": [
    "print r2_scores\n",
    "print np.mean(r2_scores)"
   ]
  },
  {
   "cell_type": "code",
   "execution_count": 74,
   "metadata": {},
   "outputs": [
    {
     "name": "stdout",
     "output_type": "stream",
     "text": [
      "[8813.3399252520885, 8536.1217073653734, 11795.909489683443, 12004.963463008906, 11538.708770855244]\n",
      "10537.8086712\n"
     ]
    }
   ],
   "source": [
    "print [np.sqrt(x) for x in scores]\n",
    "print np.mean([np.sqrt(x) for x in scores])"
   ]
  },
  {
   "cell_type": "markdown",
   "metadata": {},
   "source": [
    "My r-squared has improved dramatically at the expense of my RMSE"
   ]
  },
  {
   "cell_type": "markdown",
   "metadata": {},
   "source": [
    "### Coefficients and Intercept\n",
    "\n",
    "View the coefficients of your model - what do the coefficients tell you about the relationships between your features and your target?"
   ]
  },
  {
   "cell_type": "code",
   "execution_count": 75,
   "metadata": {},
   "outputs": [
    {
     "data": {
      "text/plain": [
       "LinearRegression(copy_X=True, fit_intercept=True, n_jobs=1, normalize=False)"
      ]
     },
     "execution_count": 75,
     "metadata": {},
     "output_type": "execute_result"
    }
   ],
   "source": [
    "lr.fit(X,y)"
   ]
  },
  {
   "cell_type": "code",
   "execution_count": 76,
   "metadata": {},
   "outputs": [
    {
     "data": {
      "text/plain": [
       "[('Profit_median', 18.917775382761423),\n",
       " ('StateBottleCost_mean', 103.21825639717933),\n",
       " ('SaleDollars_sum', 4.4868534013409294),\n",
       " ('BottleVolumeml_mean', -0.0074847728176543529)]"
      ]
     },
     "execution_count": 76,
     "metadata": {},
     "output_type": "execute_result"
    }
   ],
   "source": [
    "list(zip(feature_cols2,lr.coef_))"
   ]
  },
  {
   "cell_type": "code",
   "execution_count": 77,
   "metadata": {},
   "outputs": [
    {
     "data": {
      "text/plain": [
       "-1204.0939005267792"
      ]
     },
     "execution_count": 77,
     "metadata": {},
     "output_type": "execute_result"
    }
   ],
   "source": [
    "lr.intercept_"
   ]
  },
  {
   "cell_type": "markdown",
   "metadata": {},
   "source": [
    "### Tuning Your Model\n",
    "\n",
    "So far, you've trained a basic linear model and evaluated it using Mean Squared Error. Use the same process as above to evaluate your model using: Mean Absolute Error (MAE), Root Mean Squared Error (RMSE) and calculate the R2 score of your predictions.\n",
    "\n",
    "Try some of the parameters available for your linear model, and different sets of features to find a model that you feel will **perform best on new, out of sample data**"
   ]
  },
  {
   "cell_type": "code",
   "execution_count": 113,
   "metadata": {
    "collapsed": true
   },
   "outputs": [],
   "source": [
    "feature_cols_new = [x for x in feature_cols if x not in ['Profit_mean','SaleDollars_mean']]"
   ]
  },
  {
   "cell_type": "code",
   "execution_count": 114,
   "metadata": {},
   "outputs": [
    {
     "data": {
      "text/plain": [
       "Profit_median         Profit_median           0.000000\n",
       "                      Profit_sum              0.000000\n",
       "                      StateBottleCost_mean    0.000000\n",
       "                      StateBottleCost_sum     0.000000\n",
       "                      SaleDollars_sum         0.000000\n",
       "                      BottleVolumeml_mean     0.000000\n",
       "Profit_sum            Profit_median           0.195235\n",
       "                      Profit_sum              0.000000\n",
       "                      StateBottleCost_mean    0.000000\n",
       "                      StateBottleCost_sum     0.000000\n",
       "                      SaleDollars_sum         0.000000\n",
       "                      BottleVolumeml_mean     0.000000\n",
       "StateBottleCost_mean  Profit_median           0.277697\n",
       "                      Profit_sum              0.210177\n",
       "                      StateBottleCost_mean    0.000000\n",
       "                      StateBottleCost_sum     0.000000\n",
       "                      SaleDollars_sum         0.000000\n",
       "                      BottleVolumeml_mean     0.000000\n",
       "StateBottleCost_sum   Profit_median          -0.092862\n",
       "                      Profit_sum              0.762087\n",
       "                      StateBottleCost_mean    0.254905\n",
       "                      StateBottleCost_sum     0.000000\n",
       "                      SaleDollars_sum         0.000000\n",
       "                      BottleVolumeml_mean     0.000000\n",
       "SaleDollars_sum       Profit_median           0.195495\n",
       "                      Profit_sum              0.999986\n",
       "                      StateBottleCost_mean    0.210101\n",
       "                      StateBottleCost_sum     0.761936\n",
       "                      SaleDollars_sum         0.000000\n",
       "                      BottleVolumeml_mean     0.000000\n",
       "BottleVolumeml_mean   Profit_median           0.135616\n",
       "                      Profit_sum              0.079695\n",
       "                      StateBottleCost_mean    0.456472\n",
       "                      StateBottleCost_sum     0.073719\n",
       "                      SaleDollars_sum         0.079048\n",
       "                      BottleVolumeml_mean     0.000000\n",
       "dtype: float64"
      ]
     },
     "execution_count": 114,
     "metadata": {},
     "output_type": "execute_result"
    }
   ],
   "source": [
    "pair_corrs(training_data[feature_cols_new])"
   ]
  },
  {
   "cell_type": "code",
   "execution_count": 115,
   "metadata": {
    "collapsed": true
   },
   "outputs": [],
   "source": [
    "X = training_data[feature_cols_new]\n",
    "y = training_data['SaleDollars']"
   ]
  },
  {
   "cell_type": "code",
   "execution_count": 116,
   "metadata": {
    "collapsed": true
   },
   "outputs": [],
   "source": [
    "# Use K-Folds cross validation to train your model\n",
    "# Evaluate your model using MAE, MSE, RMSE and R2 "
   ]
  },
  {
   "cell_type": "code",
   "execution_count": 121,
   "metadata": {
    "collapsed": true
   },
   "outputs": [],
   "source": [
    "kf = KFold(X.shape[0],random_state=123,n_folds=5)"
   ]
  },
  {
   "cell_type": "code",
   "execution_count": 122,
   "metadata": {
    "collapsed": true
   },
   "outputs": [],
   "source": [
    "mse_scores = []\n",
    "mae_scores = []\n",
    "r2_scores = []\n",
    "\n",
    "\n",
    "for train,test in kf:\n",
    "    x_train = X.iloc[train]\n",
    "    x_test = X.iloc[test]\n",
    "    y_train = y.iloc[train]\n",
    "    y_true = y.iloc[test]\n",
    "    \n",
    "    lr.fit(x_train,y_train)\n",
    "    \n",
    "    y_preds = lr.predict(x_test)\n",
    "\n",
    "    mse_scores.append(mean_squared_error(y_true,y_preds))\n",
    "    mae_scores.append(mean_absolute_error(y_true,y_preds))\n",
    "    r2_scores.append(r2_score(y_true,y_preds))\n"
   ]
  },
  {
   "cell_type": "code",
   "execution_count": 123,
   "metadata": {},
   "outputs": [
    {
     "name": "stdout",
     "output_type": "stream",
     "text": [
      "[0.96024115036419799, 0.95481619258845141, 0.97258081390414097, 0.96724662775922443, 0.91254482436488782]\n",
      "[57921373.31120681, 63516620.547950238, 140172652.27281907, 164921524.0410423, 109302323.47848879]\n"
     ]
    }
   ],
   "source": [
    "print r2_scores\n",
    "print mse_scores"
   ]
  },
  {
   "cell_type": "code",
   "execution_count": 124,
   "metadata": {},
   "outputs": [
    {
     "name": "stdout",
     "output_type": "stream",
     "text": [
      "107166898.73\n",
      "10143.3493373\n",
      "4710.25399605\n",
      "0.953485921796\n"
     ]
    }
   ],
   "source": [
    "print np.mean(mse_scores)\n",
    "print np.mean([np.sqrt(x) for x in mse_scores])\n",
    "print np.mean(mae_scores)\n",
    "print np.mean(r2_scores)"
   ]
  },
  {
   "cell_type": "markdown",
   "metadata": {},
   "source": [
    "## Test against hold-out set"
   ]
  },
  {
   "cell_type": "code",
   "execution_count": 153,
   "metadata": {},
   "outputs": [],
   "source": [
    "\n",
    "X_train = training_data[feature_cols_new]\n",
    "y_train = training_data['SaleDollars']\n",
    "\n",
    "x_holdout = holdout[feature_cols_new]\n",
    "y_holdout = holdout['SaleDollars']"
   ]
  },
  {
   "cell_type": "code",
   "execution_count": 154,
   "metadata": {
    "collapsed": true
   },
   "outputs": [],
   "source": [
    "lr = LinearRegression()"
   ]
  },
  {
   "cell_type": "code",
   "execution_count": 155,
   "metadata": {},
   "outputs": [
    {
     "data": {
      "text/plain": [
       "LinearRegression(copy_X=True, fit_intercept=True, n_jobs=1, normalize=False)"
      ]
     },
     "execution_count": 155,
     "metadata": {},
     "output_type": "execute_result"
    }
   ],
   "source": [
    "# Fit your model using all of your training data\n",
    "lr.fit(X_train,y_train)"
   ]
  },
  {
   "cell_type": "code",
   "execution_count": 156,
   "metadata": {},
   "outputs": [],
   "source": [
    "# Create predictions using your holdout set (x_holdout)\n",
    "holdout_preds = lr.predict(x_holdout)"
   ]
  },
  {
   "cell_type": "code",
   "execution_count": 157,
   "metadata": {
    "collapsed": true
   },
   "outputs": [],
   "source": [
    "# score your model using MAE, MSE, RMSE, and R2\n",
    "# hint: what is y_test and what is your y_true?\n",
    "\n",
    "MAE_score = mean_absolute_error(y_holdout,holdout_preds)\n",
    "MSE_score = mean_squared_error(y_holdout,holdout_preds)\n",
    "RMSE_score = np.sqrt(MSE_score)\n",
    "R2_score = r2_score(y_holdout,holdout_preds)\n"
   ]
  },
  {
   "cell_type": "code",
   "execution_count": 158,
   "metadata": {},
   "outputs": [
    {
     "name": "stdout",
     "output_type": "stream",
     "text": [
      "5489.62175593\n",
      "113438625.278\n",
      "10650.7570284\n",
      "0.941775342657\n"
     ]
    }
   ],
   "source": [
    "# print your scores\n",
    "\n",
    "print MAE_score\n",
    "print MSE_score\n",
    "print RMSE_score\n",
    "print R2_score\n"
   ]
  },
  {
   "cell_type": "code",
   "execution_count": 159,
   "metadata": {},
   "outputs": [
    {
     "data": {
      "text/plain": [
       "<matplotlib.collections.PathCollection at 0xe844630>"
      ]
     },
     "execution_count": 159,
     "metadata": {},
     "output_type": "execute_result"
    },
    {
     "data": {
      "image/png": "[encoded data removed]",
      "text/plain": [
       "<matplotlib.figure.Figure at 0x141915c0>"
      ]
     },
     "metadata": {},
     "output_type": "display_data"
    }
   ],
   "source": [
    "# Create a scatter plot of your predicted values vs. their true values\n",
    "# Describe anything you observe\n",
    "\n",
    "plt.scatter(y_holdout,holdout_preds)\n"
   ]
  },
  {
   "cell_type": "code",
   "execution_count": 160,
   "metadata": {},
   "outputs": [],
   "source": [
    "evaldf = pd.DataFrame({'true':y_holdout,'pred':holdout_preds})"
   ]
  },
  {
   "cell_type": "code",
   "execution_count": 161,
   "metadata": {
    "collapsed": true
   },
   "outputs": [],
   "source": [
    "import seaborn as sns"
   ]
  },
  {
   "cell_type": "code",
   "execution_count": 162,
   "metadata": {},
   "outputs": [
    {
     "data": {
      "text/plain": [
       "<seaborn.axisgrid.FacetGrid at 0x14191080>"
      ]
     },
     "execution_count": 162,
     "metadata": {},
     "output_type": "execute_result"
    },
    {
     "data": {
      "image/png": "[encoded data removed]",
      "text/plain": [
       "<matplotlib.figure.Figure at 0x14191c18>"
      ]
     },
     "metadata": {},
     "output_type": "display_data"
    }
   ],
   "source": [
    "sns.lmplot('true','pred',evaldf)"
   ]
  },
  {
   "cell_type": "code",
   "execution_count": null,
   "metadata": {
    "collapsed": true
   },
   "outputs": [],
   "source": []
  },
  {
   "cell_type": "code",
   "execution_count": 163,
   "metadata": {
    "collapsed": true
   },
   "outputs": [],
   "source": [
    "# Calculate your residuals (prediction - actual)\n",
    "residuals = y_holdout-holdout_preds"
   ]
  },
  {
   "cell_type": "code",
   "execution_count": 164,
   "metadata": {},
   "outputs": [
    {
     "data": {
      "text/plain": [
       "<matplotlib.axes._subplots.AxesSubplot at 0xeb46630>"
      ]
     },
     "execution_count": 164,
     "metadata": {},
     "output_type": "execute_result"
    },
    {
     "data": {
      "image/png": "[encoded data removed]",
      "text/plain": [
       "<matplotlib.figure.Figure at 0xd90bcc0>"
      ]
     },
     "metadata": {},
     "output_type": "display_data"
    }
   ],
   "source": [
    "# Create a histogram of your residuals. Describe anything you observe\n",
    "\n",
    "residuals.hist()"
   ]
  },
  {
   "cell_type": "code",
   "execution_count": 165,
   "metadata": {},
   "outputs": [
    {
     "data": {
      "text/plain": [
       "<matplotlib.axes._subplots.AxesSubplot at 0xed7c2e8>"
      ]
     },
     "execution_count": 165,
     "metadata": {},
     "output_type": "execute_result"
    },
    {
     "data": {
      "image/png": "[encoded data removed]",
      "text/plain": [
       "<matplotlib.figure.Figure at 0xd91a2e8>"
      ]
     },
     "metadata": {},
     "output_type": "display_data"
    }
   ],
   "source": [
    "training_data.SaleDollars.hist()"
   ]
  },
  {
   "cell_type": "markdown",
   "metadata": {},
   "source": [
    "### Takeaways:\n",
    "\n",
    "* residuals are normally distributed, but there's some huge residuals on the upper end... looking back, I should have removed outliers\n",
    "* scores changed a little but not dramatically between my training set cross-val scores and my holdout scores. That's a good sign."
   ]
  },
  {
   "cell_type": "markdown",
   "metadata": {},
   "source": [
    "### Removing outliers and trying again\n",
    "\n",
    "In this example, instead of training my model on all my data, I'm going to maintain my cross validation, but each time I run through a training set, I'm going to predict using my holdout features, weighting them by the number of folds.\n",
    "\n",
    "This allows me to take advantage of any subtleties my model is finding due to different samples of the data, and weights my prediction accordingly."
   ]
  },
  {
   "cell_type": "code",
   "execution_count": 166,
   "metadata": {},
   "outputs": [
    {
     "data": {
      "text/plain": [
       "1129"
      ]
     },
     "execution_count": 166,
     "metadata": {},
     "output_type": "execute_result"
    }
   ],
   "source": [
    "training_data[training_data.SaleDollars < 250000].shape[0]"
   ]
  },
  {
   "cell_type": "code",
   "execution_count": 167,
   "metadata": {
    "collapsed": true
   },
   "outputs": [],
   "source": [
    "training_data_adj = training_data[training_data.SaleDollars < 250000]"
   ]
  },
  {
   "cell_type": "code",
   "execution_count": 168,
   "metadata": {},
   "outputs": [
    {
     "name": "stdout",
     "output_type": "stream",
     "text": [
      "5403.4204201\n",
      "95174791.698\n",
      "10650.7570284\n",
      "0.951149622796\n"
     ]
    },
    {
     "data": {
      "image/png": "[encoded data removed]",
      "text/plain": [
       "<matplotlib.figure.Figure at 0xebd7198>"
      ]
     },
     "metadata": {},
     "output_type": "display_data"
    },
    {
     "data": {
      "text/plain": [
       "<matplotlib.collections.PathCollection at 0x14971d68>"
      ]
     },
     "execution_count": 168,
     "metadata": {},
     "output_type": "execute_result"
    },
    {
     "data": {
      "image/png": "[encoded data removed]",
      "text/plain": [
       "<matplotlib.figure.Figure at 0x14955c50>"
      ]
     },
     "metadata": {},
     "output_type": "display_data"
    }
   ],
   "source": [
    "lr_2 = LinearRegression()\n",
    "\n",
    "#important to have folds as a variable I can use later for weighting\n",
    "folds=5\n",
    "kf_2 = KFold(training_data_adj.shape[0],n_folds=folds,random_state=117)\n",
    "\n",
    "# create a list the size of my predictions, populated with 0's which I can add to\n",
    "preds = np.zeros(holdout.shape[0])\n",
    "\n",
    "# new X and y\n",
    "X_adj = training_data_adj[feature_cols_new]\n",
    "y_adj = training_data_adj['SaleDollars']\n",
    "\n",
    "# Kfolds\n",
    "for tr,te in kf_2:\n",
    "    x_train = X_adj.iloc[tr]\n",
    "    y_train = y_adj.iloc[tr]\n",
    "    lr_2.fit(x_train,y_train)\n",
    "    \n",
    "    #predict using my holdout x\n",
    "    fold_pred = lr_2.predict(x_holdout[feature_cols_new])\n",
    "    \n",
    "    #add the weighted prediction (predictions divided by number of folds) to my predictions each loop\n",
    "    preds +=(fold_pred/folds)\n",
    "\n",
    "    \n",
    "# Metrics\n",
    "print mean_absolute_error(y_holdout,preds)\n",
    "print mean_squared_error(y_holdout,preds)\n",
    "print np.sqrt(MSE_score)\n",
    "print r2_score(y_holdout,preds)\n",
    "\n",
    "plt.hist(y_holdout-preds)\n",
    "plt.show()\n",
    "\n",
    "plt.scatter(y_holdout,preds)"
   ]
  },
  {
   "cell_type": "markdown",
   "metadata": {},
   "source": [
    "Got a little rise. Excellent."
   ]
  },
  {
   "cell_type": "markdown",
   "metadata": {},
   "source": [
    "### 2016 Predictions.\n",
    "\n",
    "I'll perform the sale aggregation steps on the Q1 2016 data:"
   ]
  },
  {
   "cell_type": "code",
   "execution_count": 4,
   "metadata": {},
   "outputs": [
    {
     "name": "stderr",
     "output_type": "stream",
     "text": [
      "/anaconda2/lib/python2.7/site-packages/ipykernel_launcher.py:2: SettingWithCopyWarning: \n",
      "A value is trying to be set on a copy of a slice from a DataFrame.\n",
      "Try using .loc[row_indexer,col_indexer] = value instead\n",
      "\n",
      "See the caveats in the documentation: http://pandas.pydata.org/pandas-docs/stable/indexing.html#indexing-view-versus-copy\n",
      "  \n"
     ]
    },
    {
     "ename": "NameError",
     "evalue": "name 'agg_dict' is not defined",
     "output_type": "error",
     "traceback": [
      "\u001b[0;31m---------------------------------------------------------------------------\u001b[0m",
      "\u001b[0;31mNameError\u001b[0m                                 Traceback (most recent call last)",
      "\u001b[0;32m<ipython-input-4-426eee73a09e>\u001b[0m in \u001b[0;36m<module>\u001b[0;34m()\u001b[0m\n\u001b[1;32m      1\u001b[0m \u001b[0mlq_2016\u001b[0m \u001b[0;34m=\u001b[0m \u001b[0mliquor\u001b[0m\u001b[0;34m[\u001b[0m\u001b[0mliquor\u001b[0m\u001b[0;34m.\u001b[0m\u001b[0mDate\u001b[0m\u001b[0;34m.\u001b[0m\u001b[0mdt\u001b[0m\u001b[0;34m.\u001b[0m\u001b[0myear\u001b[0m \u001b[0;34m==\u001b[0m \u001b[0;36m2016\u001b[0m\u001b[0;34m]\u001b[0m\u001b[0;34m\u001b[0m\u001b[0m\n\u001b[1;32m      2\u001b[0m \u001b[0mlq_2016\u001b[0m\u001b[0;34m[\u001b[0m\u001b[0;34m'Profit'\u001b[0m\u001b[0;34m]\u001b[0m \u001b[0;34m=\u001b[0m \u001b[0mlq_2016\u001b[0m\u001b[0;34m.\u001b[0m\u001b[0mSaleDollars\u001b[0m \u001b[0;34m-\u001b[0m \u001b[0;34m(\u001b[0m\u001b[0mlq_2016\u001b[0m\u001b[0;34m.\u001b[0m\u001b[0mBottlesSold\u001b[0m \u001b[0;34m*\u001b[0m \u001b[0mlq_2016\u001b[0m\u001b[0;34m.\u001b[0m\u001b[0mStateBottleCost\u001b[0m\u001b[0;34m)\u001b[0m\u001b[0;34m\u001b[0m\u001b[0m\n\u001b[0;32m----> 3\u001b[0;31m \u001b[0mlq_2016\u001b[0m \u001b[0;34m=\u001b[0m \u001b[0mlq_2016\u001b[0m\u001b[0;34m.\u001b[0m\u001b[0mgroupby\u001b[0m\u001b[0;34m(\u001b[0m\u001b[0;34m'StoreNumber'\u001b[0m\u001b[0;34m)\u001b[0m\u001b[0;34m.\u001b[0m\u001b[0magg\u001b[0m\u001b[0;34m(\u001b[0m\u001b[0magg_dict\u001b[0m\u001b[0;34m)\u001b[0m\u001b[0;34m\u001b[0m\u001b[0m\n\u001b[0m\u001b[1;32m      4\u001b[0m \u001b[0mlq_2016\u001b[0m\u001b[0;34m.\u001b[0m\u001b[0mcolumns\u001b[0m \u001b[0;34m=\u001b[0m \u001b[0;34m[\u001b[0m\u001b[0;34m'_'\u001b[0m\u001b[0;34m.\u001b[0m\u001b[0mjoin\u001b[0m\u001b[0;34m(\u001b[0m\u001b[0mtup\u001b[0m\u001b[0;34m)\u001b[0m\u001b[0;34m.\u001b[0m\u001b[0mrstrip\u001b[0m\u001b[0;34m(\u001b[0m\u001b[0;34m'_'\u001b[0m\u001b[0;34m)\u001b[0m \u001b[0;32mfor\u001b[0m \u001b[0mtup\u001b[0m \u001b[0;32min\u001b[0m \u001b[0mlq_2016\u001b[0m\u001b[0;34m.\u001b[0m\u001b[0mcolumns\u001b[0m\u001b[0;34m.\u001b[0m\u001b[0mvalues\u001b[0m\u001b[0;34m]\u001b[0m\u001b[0;34m\u001b[0m\u001b[0m\n",
      "\u001b[0;31mNameError\u001b[0m: name 'agg_dict' is not defined"
     ]
    }
   ],
   "source": [
    "lq_2016 = liquor[liquor.Date.dt.year == 2016]\n",
    "lq_2016['Profit'] = lq_2016.SaleDollars - (lq_2016.BottlesSold * lq_2016.StateBottleCost)\n",
    "lq_2016 = lq_2016.groupby('StoreNumber').agg(agg_dict)\n",
    "lq_2016.columns = ['_'.join(tup).rstrip('_') for tup in lq_2016.columns.values]"
   ]
  },
  {
   "cell_type": "code",
   "execution_count": null,
   "metadata": {},
   "outputs": [],
   "source": []
  },
  {
   "cell_type": "markdown",
   "metadata": {},
   "source": [
    "### 2016 Predictions:"
   ]
  },
  {
   "cell_type": "code",
   "execution_count": 179,
   "metadata": {
    "collapsed": true
   },
   "outputs": [],
   "source": [
    "lq2015_adj = liquor2015_combined[liquor2015_combined.SaleDollars < 250000]"
   ]
  },
  {
   "cell_type": "code",
   "execution_count": 180,
   "metadata": {
    "collapsed": true
   },
   "outputs": [],
   "source": [
    "X_all = lq2015_adj[feature_cols_new]\n",
    "y_all = lq2015_adj['SaleDollars']\n",
    "X_2016 = lq_2016[feature_cols_new]"
   ]
  },
  {
   "cell_type": "code",
   "execution_count": 181,
   "metadata": {},
   "outputs": [],
   "source": [
    "# train on all method\n",
    "lr.fit(X_all,y_all)\n",
    "\n",
    "lq_2016['prediction'] = lr.predict(X_2016)"
   ]
  },
  {
   "cell_type": "code",
   "execution_count": 182,
   "metadata": {},
   "outputs": [],
   "source": [
    "# kfold method\n",
    "\n",
    "kf = KFold(X_all.shape[0],n_folds=5,random_state=117)\n",
    "\n",
    "preds = np.zeros(X_2016.shape[0])\n",
    "\n",
    "# Kfolds\n",
    "for tr,te in kf_2:\n",
    "    x_train = X_all.iloc[tr]\n",
    "    y_train = y_all.iloc[tr]\n",
    "    \n",
    "    lr = LinearRegression()\n",
    "    \n",
    "    lr.fit(x_train,y_train)\n",
    "    \n",
    "    #predict using my holdout x\n",
    "    fold_pred = lr.predict(X_2016)\n",
    "    \n",
    "    #add the weighted prediction (predictions divided by number of folds) to my predictions each loop\n",
    "    preds +=(fold_pred/folds)\n",
    "\n",
    "\n",
    "lq_2016['prediction_weighted'] = preds"
   ]
  },
  {
   "cell_type": "code",
   "execution_count": 183,
   "metadata": {
    "collapsed": true
   },
   "outputs": [],
   "source": [
    "# Show your 2016 year-end prediction for each store"
   ]
  },
  {
   "cell_type": "code",
   "execution_count": 184,
   "metadata": {},
   "outputs": [
    {
     "data": {
      "text/html": [
       "<div>\n",
       "<table border=\"1\" class=\"dataframe\">\n",
       "  <thead>\n",
       "    <tr style=\"text-align: right;\">\n",
       "      <th></th>\n",
       "      <th>StoreNumber</th>\n",
       "      <th>prediction</th>\n",
       "      <th>prediction_weighted</th>\n",
       "    </tr>\n",
       "  </thead>\n",
       "  <tbody>\n",
       "    <tr>\n",
       "      <th>0</th>\n",
       "      <td>2106</td>\n",
       "      <td>133050.366321</td>\n",
       "      <td>131354.983263</td>\n",
       "    </tr>\n",
       "    <tr>\n",
       "      <th>1</th>\n",
       "      <td>2113</td>\n",
       "      <td>9432.398709</td>\n",
       "      <td>9062.513745</td>\n",
       "    </tr>\n",
       "    <tr>\n",
       "      <th>2</th>\n",
       "      <td>2130</td>\n",
       "      <td>123351.774194</td>\n",
       "      <td>121752.043176</td>\n",
       "    </tr>\n",
       "    <tr>\n",
       "      <th>3</th>\n",
       "      <td>2152</td>\n",
       "      <td>3303.066943</td>\n",
       "      <td>3244.088809</td>\n",
       "    </tr>\n",
       "    <tr>\n",
       "      <th>4</th>\n",
       "      <td>2178</td>\n",
       "      <td>25896.709049</td>\n",
       "      <td>25589.398189</td>\n",
       "    </tr>\n",
       "    <tr>\n",
       "      <th>5</th>\n",
       "      <td>2190</td>\n",
       "      <td>155935.665561</td>\n",
       "      <td>153007.153088</td>\n",
       "    </tr>\n",
       "    <tr>\n",
       "      <th>6</th>\n",
       "      <td>2191</td>\n",
       "      <td>203702.173047</td>\n",
       "      <td>200769.538030</td>\n",
       "    </tr>\n",
       "    <tr>\n",
       "      <th>7</th>\n",
       "      <td>2200</td>\n",
       "      <td>22755.742825</td>\n",
       "      <td>22125.721692</td>\n",
       "    </tr>\n",
       "    <tr>\n",
       "      <th>8</th>\n",
       "      <td>2228</td>\n",
       "      <td>15083.381910</td>\n",
       "      <td>14547.915404</td>\n",
       "    </tr>\n",
       "    <tr>\n",
       "      <th>9</th>\n",
       "      <td>2233</td>\n",
       "      <td>31534.839084</td>\n",
       "      <td>30658.156107</td>\n",
       "    </tr>\n",
       "    <tr>\n",
       "      <th>10</th>\n",
       "      <td>2238</td>\n",
       "      <td>8023.850536</td>\n",
       "      <td>7817.776348</td>\n",
       "    </tr>\n",
       "    <tr>\n",
       "      <th>11</th>\n",
       "      <td>2248</td>\n",
       "      <td>66810.653097</td>\n",
       "      <td>65302.373001</td>\n",
       "    </tr>\n",
       "    <tr>\n",
       "      <th>12</th>\n",
       "      <td>2285</td>\n",
       "      <td>57235.385935</td>\n",
       "      <td>56422.092359</td>\n",
       "    </tr>\n",
       "    <tr>\n",
       "      <th>13</th>\n",
       "      <td>2290</td>\n",
       "      <td>67133.222001</td>\n",
       "      <td>65809.668852</td>\n",
       "    </tr>\n",
       "    <tr>\n",
       "      <th>14</th>\n",
       "      <td>2327</td>\n",
       "      <td>11023.804568</td>\n",
       "      <td>10704.502492</td>\n",
       "    </tr>\n",
       "    <tr>\n",
       "      <th>15</th>\n",
       "      <td>2353</td>\n",
       "      <td>11517.302891</td>\n",
       "      <td>11492.658357</td>\n",
       "    </tr>\n",
       "    <tr>\n",
       "      <th>16</th>\n",
       "      <td>2413</td>\n",
       "      <td>102872.429438</td>\n",
       "      <td>101540.229305</td>\n",
       "    </tr>\n",
       "    <tr>\n",
       "      <th>17</th>\n",
       "      <td>2445</td>\n",
       "      <td>6577.286648</td>\n",
       "      <td>6239.136218</td>\n",
       "    </tr>\n",
       "    <tr>\n",
       "      <th>18</th>\n",
       "      <td>2448</td>\n",
       "      <td>32895.320409</td>\n",
       "      <td>32130.782194</td>\n",
       "    </tr>\n",
       "    <tr>\n",
       "      <th>19</th>\n",
       "      <td>2459</td>\n",
       "      <td>8500.317906</td>\n",
       "      <td>8408.740324</td>\n",
       "    </tr>\n",
       "    <tr>\n",
       "      <th>20</th>\n",
       "      <td>2465</td>\n",
       "      <td>27072.451529</td>\n",
       "      <td>26161.268466</td>\n",
       "    </tr>\n",
       "    <tr>\n",
       "      <th>21</th>\n",
       "      <td>2475</td>\n",
       "      <td>22895.732165</td>\n",
       "      <td>22595.960289</td>\n",
       "    </tr>\n",
       "    <tr>\n",
       "      <th>22</th>\n",
       "      <td>2478</td>\n",
       "      <td>21294.533713</td>\n",
       "      <td>20902.070773</td>\n",
       "    </tr>\n",
       "    <tr>\n",
       "      <th>23</th>\n",
       "      <td>2498</td>\n",
       "      <td>2534.785515</td>\n",
       "      <td>2540.970324</td>\n",
       "    </tr>\n",
       "    <tr>\n",
       "      <th>24</th>\n",
       "      <td>2500</td>\n",
       "      <td>160950.118110</td>\n",
       "      <td>158328.217187</td>\n",
       "    </tr>\n",
       "    <tr>\n",
       "      <th>25</th>\n",
       "      <td>2501</td>\n",
       "      <td>136819.161003</td>\n",
       "      <td>134762.633431</td>\n",
       "    </tr>\n",
       "    <tr>\n",
       "      <th>26</th>\n",
       "      <td>2502</td>\n",
       "      <td>90366.349876</td>\n",
       "      <td>88884.968533</td>\n",
       "    </tr>\n",
       "    <tr>\n",
       "      <th>27</th>\n",
       "      <td>2505</td>\n",
       "      <td>68612.257038</td>\n",
       "      <td>67581.288459</td>\n",
       "    </tr>\n",
       "    <tr>\n",
       "      <th>28</th>\n",
       "      <td>2506</td>\n",
       "      <td>149531.314373</td>\n",
       "      <td>147370.304048</td>\n",
       "    </tr>\n",
       "    <tr>\n",
       "      <th>29</th>\n",
       "      <td>2507</td>\n",
       "      <td>28667.010487</td>\n",
       "      <td>28506.507776</td>\n",
       "    </tr>\n",
       "    <tr>\n",
       "      <th>...</th>\n",
       "      <td>...</td>\n",
       "      <td>...</td>\n",
       "      <td>...</td>\n",
       "    </tr>\n",
       "    <tr>\n",
       "      <th>1250</th>\n",
       "      <td>5181</td>\n",
       "      <td>1725.264451</td>\n",
       "      <td>2084.219413</td>\n",
       "    </tr>\n",
       "    <tr>\n",
       "      <th>1251</th>\n",
       "      <td>5182</td>\n",
       "      <td>-285.968198</td>\n",
       "      <td>-60.038804</td>\n",
       "    </tr>\n",
       "    <tr>\n",
       "      <th>1252</th>\n",
       "      <td>5183</td>\n",
       "      <td>3453.017584</td>\n",
       "      <td>4327.310705</td>\n",
       "    </tr>\n",
       "    <tr>\n",
       "      <th>1253</th>\n",
       "      <td>5185</td>\n",
       "      <td>1322.307981</td>\n",
       "      <td>1348.409086</td>\n",
       "    </tr>\n",
       "    <tr>\n",
       "      <th>1254</th>\n",
       "      <td>5186</td>\n",
       "      <td>1747.935738</td>\n",
       "      <td>1966.163326</td>\n",
       "    </tr>\n",
       "    <tr>\n",
       "      <th>1255</th>\n",
       "      <td>5187</td>\n",
       "      <td>5306.762913</td>\n",
       "      <td>5207.496158</td>\n",
       "    </tr>\n",
       "    <tr>\n",
       "      <th>1256</th>\n",
       "      <td>5188</td>\n",
       "      <td>3210.048993</td>\n",
       "      <td>3035.425977</td>\n",
       "    </tr>\n",
       "    <tr>\n",
       "      <th>1257</th>\n",
       "      <td>5189</td>\n",
       "      <td>1601.243157</td>\n",
       "      <td>2078.636693</td>\n",
       "    </tr>\n",
       "    <tr>\n",
       "      <th>1258</th>\n",
       "      <td>5190</td>\n",
       "      <td>7544.181516</td>\n",
       "      <td>7522.859353</td>\n",
       "    </tr>\n",
       "    <tr>\n",
       "      <th>1259</th>\n",
       "      <td>5191</td>\n",
       "      <td>791.015238</td>\n",
       "      <td>1233.521785</td>\n",
       "    </tr>\n",
       "    <tr>\n",
       "      <th>1260</th>\n",
       "      <td>5192</td>\n",
       "      <td>-969.505725</td>\n",
       "      <td>-663.592712</td>\n",
       "    </tr>\n",
       "    <tr>\n",
       "      <th>1261</th>\n",
       "      <td>5195</td>\n",
       "      <td>-1480.747902</td>\n",
       "      <td>-1564.754893</td>\n",
       "    </tr>\n",
       "    <tr>\n",
       "      <th>1262</th>\n",
       "      <td>5196</td>\n",
       "      <td>-211.103683</td>\n",
       "      <td>-700.550886</td>\n",
       "    </tr>\n",
       "    <tr>\n",
       "      <th>1263</th>\n",
       "      <td>5198</td>\n",
       "      <td>31634.180525</td>\n",
       "      <td>31158.274859</td>\n",
       "    </tr>\n",
       "    <tr>\n",
       "      <th>1264</th>\n",
       "      <td>5199</td>\n",
       "      <td>13736.189927</td>\n",
       "      <td>13541.643046</td>\n",
       "    </tr>\n",
       "    <tr>\n",
       "      <th>1265</th>\n",
       "      <td>5202</td>\n",
       "      <td>961.079881</td>\n",
       "      <td>976.859459</td>\n",
       "    </tr>\n",
       "    <tr>\n",
       "      <th>1266</th>\n",
       "      <td>5203</td>\n",
       "      <td>14397.001783</td>\n",
       "      <td>14249.809464</td>\n",
       "    </tr>\n",
       "    <tr>\n",
       "      <th>1267</th>\n",
       "      <td>5204</td>\n",
       "      <td>7174.643359</td>\n",
       "      <td>6952.221418</td>\n",
       "    </tr>\n",
       "    <tr>\n",
       "      <th>1268</th>\n",
       "      <td>5205</td>\n",
       "      <td>536.772119</td>\n",
       "      <td>494.042217</td>\n",
       "    </tr>\n",
       "    <tr>\n",
       "      <th>1269</th>\n",
       "      <td>5206</td>\n",
       "      <td>9077.495212</td>\n",
       "      <td>8953.193688</td>\n",
       "    </tr>\n",
       "    <tr>\n",
       "      <th>1270</th>\n",
       "      <td>5207</td>\n",
       "      <td>22403.609054</td>\n",
       "      <td>21822.676786</td>\n",
       "    </tr>\n",
       "    <tr>\n",
       "      <th>1271</th>\n",
       "      <td>5211</td>\n",
       "      <td>4711.384187</td>\n",
       "      <td>4609.774704</td>\n",
       "    </tr>\n",
       "    <tr>\n",
       "      <th>1272</th>\n",
       "      <td>5212</td>\n",
       "      <td>2230.977130</td>\n",
       "      <td>2044.010494</td>\n",
       "    </tr>\n",
       "    <tr>\n",
       "      <th>1273</th>\n",
       "      <td>5213</td>\n",
       "      <td>905.242761</td>\n",
       "      <td>1091.846207</td>\n",
       "    </tr>\n",
       "    <tr>\n",
       "      <th>1274</th>\n",
       "      <td>5215</td>\n",
       "      <td>10866.367690</td>\n",
       "      <td>10432.912147</td>\n",
       "    </tr>\n",
       "    <tr>\n",
       "      <th>1275</th>\n",
       "      <td>9001</td>\n",
       "      <td>16545.473826</td>\n",
       "      <td>17470.579223</td>\n",
       "    </tr>\n",
       "    <tr>\n",
       "      <th>1276</th>\n",
       "      <td>9002</td>\n",
       "      <td>9029.908854</td>\n",
       "      <td>9188.102264</td>\n",
       "    </tr>\n",
       "    <tr>\n",
       "      <th>1277</th>\n",
       "      <td>9010</td>\n",
       "      <td>2492.662555</td>\n",
       "      <td>2723.448923</td>\n",
       "    </tr>\n",
       "    <tr>\n",
       "      <th>1278</th>\n",
       "      <td>9013</td>\n",
       "      <td>4000.873830</td>\n",
       "      <td>4571.322908</td>\n",
       "    </tr>\n",
       "    <tr>\n",
       "      <th>1279</th>\n",
       "      <td>9023</td>\n",
       "      <td>14651.476650</td>\n",
       "      <td>15546.065718</td>\n",
       "    </tr>\n",
       "  </tbody>\n",
       "</table>\n",
       "<p>1280 rows × 3 columns</p>\n",
       "</div>"
      ],
      "text/plain": [
       "      StoreNumber     prediction  prediction_weighted\n",
       "0            2106  133050.366321        131354.983263\n",
       "1            2113    9432.398709          9062.513745\n",
       "2            2130  123351.774194        121752.043176\n",
       "3            2152    3303.066943          3244.088809\n",
       "4            2178   25896.709049         25589.398189\n",
       "5            2190  155935.665561        153007.153088\n",
       "6            2191  203702.173047        200769.538030\n",
       "7            2200   22755.742825         22125.721692\n",
       "8            2228   15083.381910         14547.915404\n",
       "9            2233   31534.839084         30658.156107\n",
       "10           2238    8023.850536          7817.776348\n",
       "11           2248   66810.653097         65302.373001\n",
       "12           2285   57235.385935         56422.092359\n",
       "13           2290   67133.222001         65809.668852\n",
       "14           2327   11023.804568         10704.502492\n",
       "15           2353   11517.302891         11492.658357\n",
       "16           2413  102872.429438        101540.229305\n",
       "17           2445    6577.286648          6239.136218\n",
       "18           2448   32895.320409         32130.782194\n",
       "19           2459    8500.317906          8408.740324\n",
       "20           2465   27072.451529         26161.268466\n",
       "21           2475   22895.732165         22595.960289\n",
       "22           2478   21294.533713         20902.070773\n",
       "23           2498    2534.785515          2540.970324\n",
       "24           2500  160950.118110        158328.217187\n",
       "25           2501  136819.161003        134762.633431\n",
       "26           2502   90366.349876         88884.968533\n",
       "27           2505   68612.257038         67581.288459\n",
       "28           2506  149531.314373        147370.304048\n",
       "29           2507   28667.010487         28506.507776\n",
       "...           ...            ...                  ...\n",
       "1250         5181    1725.264451          2084.219413\n",
       "1251         5182    -285.968198           -60.038804\n",
       "1252         5183    3453.017584          4327.310705\n",
       "1253         5185    1322.307981          1348.409086\n",
       "1254         5186    1747.935738          1966.163326\n",
       "1255         5187    5306.762913          5207.496158\n",
       "1256         5188    3210.048993          3035.425977\n",
       "1257         5189    1601.243157          2078.636693\n",
       "1258         5190    7544.181516          7522.859353\n",
       "1259         5191     791.015238          1233.521785\n",
       "1260         5192    -969.505725          -663.592712\n",
       "1261         5195   -1480.747902         -1564.754893\n",
       "1262         5196    -211.103683          -700.550886\n",
       "1263         5198   31634.180525         31158.274859\n",
       "1264         5199   13736.189927         13541.643046\n",
       "1265         5202     961.079881           976.859459\n",
       "1266         5203   14397.001783         14249.809464\n",
       "1267         5204    7174.643359          6952.221418\n",
       "1268         5205     536.772119           494.042217\n",
       "1269         5206    9077.495212          8953.193688\n",
       "1270         5207   22403.609054         21822.676786\n",
       "1271         5211    4711.384187          4609.774704\n",
       "1272         5212    2230.977130          2044.010494\n",
       "1273         5213     905.242761          1091.846207\n",
       "1274         5215   10866.367690         10432.912147\n",
       "1275         9001   16545.473826         17470.579223\n",
       "1276         9002    9029.908854          9188.102264\n",
       "1277         9010    2492.662555          2723.448923\n",
       "1278         9013    4000.873830          4571.322908\n",
       "1279         9023   14651.476650         15546.065718\n",
       "\n",
       "[1280 rows x 3 columns]"
      ]
     },
     "execution_count": 184,
     "metadata": {},
     "output_type": "execute_result"
    }
   ],
   "source": [
    "lq_2016[['prediction','prediction_weighted']].reset_index()"
   ]
  },
  {
   "cell_type": "markdown",
   "metadata": {
    "collapsed": true
   },
   "source": [
    "# Advanced: Better weighting?\n",
    "\n",
    "In my k-folds weighting example, we weighted all the folds the same. Can we come up with better weights?"
   ]
  },
  {
   "cell_type": "code",
   "execution_count": null,
   "metadata": {
    "collapsed": true
   },
   "outputs": [],
   "source": []
  },
  {
   "cell_type": "code",
   "execution_count": 185,
   "metadata": {
    "collapsed": true
   },
   "outputs": [],
   "source": [
    "tr_df,te_df = train_test_split(lq2015_adj,shuffle=True,test_size=0.2,random_state=123)"
   ]
  },
  {
   "cell_type": "code",
   "execution_count": 186,
   "metadata": {
    "collapsed": true
   },
   "outputs": [],
   "source": [
    "X = tr_df[feature_cols_new]\n",
    "y = tr_df['SaleDollars']"
   ]
  },
  {
   "cell_type": "code",
   "execution_count": 199,
   "metadata": {},
   "outputs": [
    {
     "name": "stdout",
     "output_type": "stream",
     "text": [
      "0.957832778358\n",
      "0.93193723111\n",
      "0.917829511433\n",
      "0.812054012347\n",
      "0.903563539071\n"
     ]
    }
   ],
   "source": [
    "folds=5\n",
    "kf_2 = KFold(X.shape[0],n_folds=folds,random_state=117)\n",
    "\n",
    "# create a list the size of my predictions, populated with 0's which I can add to\n",
    "preds = {}\n",
    "\n",
    "preds['true'] = te_df['SaleDollars']\n",
    "preds['weighted'] = np.zeros(te_df.shape[0])\n",
    "nf = 0\n",
    "# Kfolds\n",
    "for tr,te in kf_2:\n",
    "    nf+=1\n",
    "    x_train = X.iloc[tr]\n",
    "    y_train = y.iloc[tr]\n",
    "    x_test = X.iloc[te]\n",
    "    y_true = y.iloc[te]\n",
    "    \n",
    "    lr = LinearRegression()\n",
    "    lr.fit(x_train,y_train)\n",
    "    \n",
    "    print r2_score(y_true,lr.predict(x_test))\n",
    "    \n",
    "    fold_preds = lr.predict(te_df[feature_cols_new])\n",
    "    \n",
    "    preds['fold_'+str(nf)] = fold_preds\n",
    "    preds['weighted'] += (fold_preds/folds)\n",
    "    \n",
    "\n",
    "    "
   ]
  },
  {
   "cell_type": "code",
   "execution_count": 200,
   "metadata": {
    "collapsed": true
   },
   "outputs": [],
   "source": [
    "preds_df = pd.DataFrame(preds)"
   ]
  },
  {
   "cell_type": "code",
   "execution_count": 201,
   "metadata": {},
   "outputs": [
    {
     "data": {
      "text/html": [
       "<div>\n",
       "<table border=\"1\" class=\"dataframe\">\n",
       "  <thead>\n",
       "    <tr style=\"text-align: right;\">\n",
       "      <th></th>\n",
       "      <th>fold_1</th>\n",
       "      <th>fold_2</th>\n",
       "      <th>fold_3</th>\n",
       "      <th>fold_4</th>\n",
       "      <th>fold_5</th>\n",
       "      <th>true</th>\n",
       "      <th>weighted</th>\n",
       "    </tr>\n",
       "  </thead>\n",
       "  <tbody>\n",
       "    <tr>\n",
       "      <th>683</th>\n",
       "      <td>2763.266329</td>\n",
       "      <td>2410.743505</td>\n",
       "      <td>2240.125170</td>\n",
       "      <td>2452.666167</td>\n",
       "      <td>2446.176831</td>\n",
       "      <td>3795.42</td>\n",
       "      <td>2462.595600</td>\n",
       "    </tr>\n",
       "    <tr>\n",
       "      <th>938</th>\n",
       "      <td>7900.306794</td>\n",
       "      <td>7000.775644</td>\n",
       "      <td>7146.921117</td>\n",
       "      <td>5787.251534</td>\n",
       "      <td>7398.265478</td>\n",
       "      <td>2301.84</td>\n",
       "      <td>7046.704114</td>\n",
       "    </tr>\n",
       "    <tr>\n",
       "      <th>878</th>\n",
       "      <td>17121.568845</td>\n",
       "      <td>17234.228265</td>\n",
       "      <td>17847.945661</td>\n",
       "      <td>16366.430339</td>\n",
       "      <td>18994.193529</td>\n",
       "      <td>9427.17</td>\n",
       "      <td>17512.873328</td>\n",
       "    </tr>\n",
       "    <tr>\n",
       "      <th>529</th>\n",
       "      <td>21435.675177</td>\n",
       "      <td>21164.969416</td>\n",
       "      <td>21314.776510</td>\n",
       "      <td>21090.876133</td>\n",
       "      <td>21519.679578</td>\n",
       "      <td>23850.46</td>\n",
       "      <td>21305.195363</td>\n",
       "    </tr>\n",
       "    <tr>\n",
       "      <th>830</th>\n",
       "      <td>7540.918128</td>\n",
       "      <td>7629.578290</td>\n",
       "      <td>7550.665734</td>\n",
       "      <td>7585.534957</td>\n",
       "      <td>7411.234084</td>\n",
       "      <td>5895.53</td>\n",
       "      <td>7543.586239</td>\n",
       "    </tr>\n",
       "  </tbody>\n",
       "</table>\n",
       "</div>"
      ],
      "text/plain": [
       "           fold_1        fold_2        fold_3        fold_4        fold_5  \\\n",
       "683   2763.266329   2410.743505   2240.125170   2452.666167   2446.176831   \n",
       "938   7900.306794   7000.775644   7146.921117   5787.251534   7398.265478   \n",
       "878  17121.568845  17234.228265  17847.945661  16366.430339  18994.193529   \n",
       "529  21435.675177  21164.969416  21314.776510  21090.876133  21519.679578   \n",
       "830   7540.918128   7629.578290   7550.665734   7585.534957   7411.234084   \n",
       "\n",
       "         true      weighted  \n",
       "683   3795.42   2462.595600  \n",
       "938   2301.84   7046.704114  \n",
       "878   9427.17  17512.873328  \n",
       "529  23850.46  21305.195363  \n",
       "830   5895.53   7543.586239  "
      ]
     },
     "execution_count": 201,
     "metadata": {},
     "output_type": "execute_result"
    }
   ],
   "source": [
    "preds_df.head()"
   ]
  },
  {
   "cell_type": "code",
   "execution_count": 216,
   "metadata": {},
   "outputs": [
    {
     "name": "stdout",
     "output_type": "stream",
     "text": [
      "4822.00889605\n",
      "88918739.3624\n",
      "9429.67334335\n",
      "0.897358196759\n"
     ]
    }
   ],
   "source": [
    "print mean_absolute_error(preds_df['true'],preds_df['weighted'])\n",
    "print mean_squared_error(preds_df['true'],preds_df['weighted'])\n",
    "print np.sqrt(mean_squared_error(preds_df['true'],preds_df['weighted']))\n",
    "print r2_score(preds_df['true'],preds_df['weighted'])"
   ]
  },
  {
   "cell_type": "code",
   "execution_count": 206,
   "metadata": {},
   "outputs": [
    {
     "data": {
      "text/plain": [
       "LinearRegression(copy_X=True, fit_intercept=False, n_jobs=1, normalize=False)"
      ]
     },
     "execution_count": 206,
     "metadata": {},
     "output_type": "execute_result"
    }
   ],
   "source": [
    "lr_w = LinearRegression(fit_intercept=False)\n",
    "\n",
    "pred_scores = preds_df.drop(['true','weighted'],axis=1)\n",
    "\n",
    "lr_w.fit(pred_scores,preds_df['true'])"
   ]
  },
  {
   "cell_type": "code",
   "execution_count": 209,
   "metadata": {},
   "outputs": [
    {
     "data": {
      "text/plain": [
       "[('fold_1', 1.0002820919133431),\n",
       " ('fold_2', 5.529962705843352),\n",
       " ('fold_3', 0.19956939402256191),\n",
       " ('fold_4', -0.73025137895907533),\n",
       " ('fold_5', -4.9461480820973174)]"
      ]
     },
     "execution_count": 209,
     "metadata": {},
     "output_type": "execute_result"
    }
   ],
   "source": [
    "zip(pred_scores.columns.values,lr_w.coef_)"
   ]
  },
  {
   "cell_type": "code",
   "execution_count": 214,
   "metadata": {},
   "outputs": [],
   "source": [
    "weights = lr_w.coef_\n",
    "\n",
    "preds_df['new_weight'] = (preds_df['fold_1'] * weights[0]) + (preds_df['fold_2'] * weights[1]) \\\n",
    "                            + (preds_df['fold_3'] * weights[2])+ (preds_df['fold_4'] * weights[3]) \\\n",
    "                            + (preds_df['fold_5'] * weights[4])"
   ]
  },
  {
   "cell_type": "code",
   "execution_count": 219,
   "metadata": {},
   "outputs": [
    {
     "name": "stdout",
     "output_type": "stream",
     "text": [
      "4939.41557557\n",
      "85441395.6228\n",
      "9243.45149945\n",
      "0.901372208141\n"
     ]
    },
    {
     "data": {
      "image/png": "[encoded data removed]",
      "text/plain": [
       "<matplotlib.figure.Figure at 0xebbe048>"
      ]
     },
     "metadata": {},
     "output_type": "display_data"
    },
    {
     "data": {
      "text/plain": [
       "<matplotlib.collections.PathCollection at 0x14da75f8>"
      ]
     },
     "execution_count": 219,
     "metadata": {},
     "output_type": "execute_result"
    },
    {
     "data": {
      "image/png": "[encoded data removed]",
      "text/plain": [
       "<matplotlib.figure.Figure at 0x1472aa20>"
      ]
     },
     "metadata": {},
     "output_type": "display_data"
    }
   ],
   "source": [
    "print mean_absolute_error(preds_df['true'],preds_df['new_weight'])\n",
    "print mean_squared_error(preds_df['true'],preds_df['new_weight'])\n",
    "print np.sqrt(mean_squared_error(preds_df['true'],preds_df['new_weight']))\n",
    "print r2_score(preds_df['true'],preds_df['new_weight'])\n",
    "                                         \n",
    "                                         \n",
    "plt.hist(preds_df['true']-preds_df['new_weight'])\n",
    "plt.show()\n",
    "\n",
    "plt.scatter(preds_df['true'],preds_df['new_weight'])"
   ]
  },
  {
   "cell_type": "code",
   "execution_count": null,
   "metadata": {
    "collapsed": true
   },
   "outputs": [],
   "source": [
    "# Metrics\n",
    "print mean_absolute_error(y_holdout,preds)\n",
    "print mean_squared_error(y_holdout,preds)\n",
    "print np.sqrt(MSE_score)\n",
    "print r2_score(y_holdout,preds)\n",
    "\n",
    "plt.hist(y_holdout-preds)\n",
    "plt.show()\n",
    "\n",
    "plt.scatter(y_holdout,preds)"
   ]
  },
  {
   "cell_type": "code",
   "execution_count": null,
   "metadata": {
    "collapsed": true
   },
   "outputs": [],
   "source": []
  },
  {
   "cell_type": "code",
   "execution_count": null,
   "metadata": {
    "collapsed": true
   },
   "outputs": [],
   "source": []
  },
  {
   "cell_type": "code",
   "execution_count": null,
   "metadata": {
    "collapsed": true
   },
   "outputs": [],
   "source": []
  },
  {
   "cell_type": "code",
   "execution_count": null,
   "metadata": {
    "collapsed": true
   },
   "outputs": [],
   "source": []
  },
  {
   "cell_type": "code",
   "execution_count": null,
   "metadata": {
    "collapsed": true
   },
   "outputs": [],
   "source": []
  },
  {
   "cell_type": "code",
   "execution_count": null,
   "metadata": {
    "collapsed": true
   },
   "outputs": [],
   "source": []
  }
 ],
 "metadata": {
  "anaconda-cloud": {},
  "kernelspec": {
   "display_name": "Python 2",
   "language": "python",
   "name": "python2"
  },
  "language_info": {
   "codemirror_mode": {
    "name": "ipython",
    "version": 2
   },
   "file_extension": ".py",
   "mimetype": "text/x-python",
   "name": "python",
   "nbconvert_exporter": "python",
   "pygments_lexer": "ipython2",
   "version": "2.7.14"
  }
 },
 "nbformat": 4,
 "nbformat_minor": 1
}
